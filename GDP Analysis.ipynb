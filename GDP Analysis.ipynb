{
 "cells": [
  {
   "cell_type": "code",
   "execution_count": 3,
   "id": "96b0b122-5f0c-40ec-81ad-508e1bd6bb4e",
   "metadata": {},
   "outputs": [
    {
     "name": "stdout",
     "output_type": "stream",
     "text": [
      "^C\n",
      "Collecting plotly\n",
      "  Using cached plotly-5.19.0-py3-none-any.whl.metadata (7.0 kB)\n",
      "Requirement already satisfied: tenacity>=6.2.0 in c:\\users\\91989\\appdata\\local\\programs\\python\\python311\\lib\\site-packages (from plotly) (8.2.3)\n",
      "Requirement already satisfied: packaging in c:\\users\\91989\\appdata\\roaming\\python\\python311\\site-packages (from plotly) (23.1)\n",
      "Downloading plotly-5.19.0-py3-none-any.whl (15.7 MB)\n",
      "   ---------------------------------------- 0.0/15.7 MB ? eta -:--:--\n",
      "   ---------------------------------------- 0.1/15.7 MB 2.6 MB/s eta 0:00:06\n",
      "   ---------------------------------------- 0.1/15.7 MB 1.6 MB/s eta 0:00:10\n",
      "    --------------------------------------- 0.2/15.7 MB 1.7 MB/s eta 0:00:09\n",
      "    --------------------------------------- 0.3/15.7 MB 1.6 MB/s eta 0:00:10\n",
      "    --------------------------------------- 0.3/15.7 MB 1.4 MB/s eta 0:00:12\n",
      "    --------------------------------------- 0.4/15.7 MB 1.5 MB/s eta 0:00:11\n",
      "   - -------------------------------------- 0.4/15.7 MB 1.3 MB/s eta 0:00:12\n",
      "   - -------------------------------------- 0.4/15.7 MB 1.2 MB/s eta 0:00:13\n",
      "   - -------------------------------------- 0.5/15.7 MB 1.1 MB/s eta 0:00:14\n",
      "   - -------------------------------------- 0.5/15.7 MB 1.1 MB/s eta 0:00:14\n",
      "   - -------------------------------------- 0.5/15.7 MB 1.0 MB/s eta 0:00:15\n",
      "   - -------------------------------------- 0.6/15.7 MB 1.0 MB/s eta 0:00:15\n",
      "   - -------------------------------------- 0.6/15.7 MB 1.0 MB/s eta 0:00:15\n",
      "   - -------------------------------------- 0.7/15.7 MB 1.0 MB/s eta 0:00:15\n",
      "   - -------------------------------------- 0.7/15.7 MB 1.1 MB/s eta 0:00:15\n",
      "   -- ------------------------------------- 0.8/15.7 MB 1.1 MB/s eta 0:00:14\n",
      "   -- ------------------------------------- 0.8/15.7 MB 1.0 MB/s eta 0:00:15\n",
      "   -- ------------------------------------- 0.8/15.7 MB 1.0 MB/s eta 0:00:15\n",
      "   -- ------------------------------------- 0.9/15.7 MB 1.0 MB/s eta 0:00:15\n",
      "   -- ------------------------------------- 1.0/15.7 MB 1.0 MB/s eta 0:00:15\n",
      "   -- ------------------------------------- 1.0/15.7 MB 1.0 MB/s eta 0:00:15\n",
      "   -- ------------------------------------- 1.0/15.7 MB 1.0 MB/s eta 0:00:15\n",
      "   -- ------------------------------------- 1.0/15.7 MB 972.9 kB/s eta 0:00:16\n",
      "   -- ------------------------------------- 1.1/15.7 MB 978.4 kB/s eta 0:00:15\n",
      "   -- ------------------------------------- 1.1/15.7 MB 939.0 kB/s eta 0:00:16\n",
      "   -- ------------------------------------- 1.1/15.7 MB 943.6 kB/s eta 0:00:16\n",
      "   -- ------------------------------------- 1.2/15.7 MB 917.5 kB/s eta 0:00:16\n",
      "   --- ------------------------------------ 1.2/15.7 MB 923.7 kB/s eta 0:00:16\n",
      "   --- ------------------------------------ 1.3/15.7 MB 944.8 kB/s eta 0:00:16\n",
      "   --- ------------------------------------ 1.3/15.7 MB 941.2 kB/s eta 0:00:16\n",
      "   --- ------------------------------------ 1.3/15.7 MB 918.6 kB/s eta 0:00:16\n",
      "   --- ------------------------------------ 1.4/15.7 MB 914.8 kB/s eta 0:00:16\n",
      "   --- ------------------------------------ 1.4/15.7 MB 916.3 kB/s eta 0:00:16\n",
      "   --- ------------------------------------ 1.5/15.7 MB 934.4 kB/s eta 0:00:16\n",
      "   --- ------------------------------------ 1.5/15.7 MB 904.8 kB/s eta 0:00:16\n",
      "   --- ------------------------------------ 1.6/15.7 MB 922.1 kB/s eta 0:00:16\n",
      "   ---- ----------------------------------- 1.6/15.7 MB 938.4 kB/s eta 0:00:15\n",
      "   ---- ----------------------------------- 1.8/15.7 MB 988.9 kB/s eta 0:00:15\n",
      "   ---- ----------------------------------- 1.8/15.7 MB 982.8 kB/s eta 0:00:15\n",
      "   ---- ----------------------------------- 1.8/15.7 MB 971.8 kB/s eta 0:00:15\n",
      "   ---- ----------------------------------- 1.9/15.7 MB 969.7 kB/s eta 0:00:15\n",
      "   ---- ----------------------------------- 1.9/15.7 MB 966.9 kB/s eta 0:00:15\n",
      "   ---- ----------------------------------- 1.9/15.7 MB 954.4 kB/s eta 0:00:15\n",
      "   ---- ----------------------------------- 2.0/15.7 MB 943.1 kB/s eta 0:00:15\n",
      "   ----- ---------------------------------- 2.0/15.7 MB 943.8 kB/s eta 0:00:15\n",
      "   ----- ---------------------------------- 2.0/15.7 MB 933.5 kB/s eta 0:00:15\n",
      "   ----- ---------------------------------- 2.0/15.7 MB 931.3 kB/s eta 0:00:15\n",
      "   ----- ---------------------------------- 2.1/15.7 MB 928.4 kB/s eta 0:00:15\n",
      "   ----- ---------------------------------- 2.1/15.7 MB 916.4 kB/s eta 0:00:15\n",
      "   ----- ---------------------------------- 2.2/15.7 MB 919.9 kB/s eta 0:00:15\n",
      "   ----- ---------------------------------- 2.2/15.7 MB 923.6 kB/s eta 0:00:15\n",
      "   ----- ---------------------------------- 2.2/15.7 MB 923.6 kB/s eta 0:00:15\n",
      "   ----- ---------------------------------- 2.2/15.7 MB 892.9 kB/s eta 0:00:16\n",
      "   ----- ---------------------------------- 2.3/15.7 MB 910.3 kB/s eta 0:00:15\n",
      "   ------ --------------------------------- 2.4/15.7 MB 925.5 kB/s eta 0:00:15\n",
      "   ------ --------------------------------- 2.4/15.7 MB 912.8 kB/s eta 0:00:15\n",
      "   ------ --------------------------------- 2.4/15.7 MB 912.8 kB/s eta 0:00:15\n",
      "   ------ --------------------------------- 2.5/15.7 MB 907.6 kB/s eta 0:00:15\n",
      "   ------ --------------------------------- 2.5/15.7 MB 903.3 kB/s eta 0:00:15\n",
      "   ------ --------------------------------- 2.5/15.7 MB 894.4 kB/s eta 0:00:15\n",
      "   ------ --------------------------------- 2.6/15.7 MB 896.5 kB/s eta 0:00:15\n",
      "   ------ --------------------------------- 2.6/15.7 MB 886.6 kB/s eta 0:00:15\n",
      "   ------ --------------------------------- 2.6/15.7 MB 884.3 kB/s eta 0:00:15\n",
      "   ------ --------------------------------- 2.6/15.7 MB 884.3 kB/s eta 0:00:15\n",
      "   ------ --------------------------------- 2.6/15.7 MB 868.3 kB/s eta 0:00:16\n",
      "   ------ --------------------------------- 2.7/15.7 MB 856.1 kB/s eta 0:00:16\n",
      "   ------ --------------------------------- 2.7/15.7 MB 853.3 kB/s eta 0:00:16\n",
      "   ------ --------------------------------- 2.7/15.7 MB 855.5 kB/s eta 0:00:16\n",
      "   ------- -------------------------------- 2.8/15.7 MB 848.3 kB/s eta 0:00:16\n",
      "   ------- -------------------------------- 2.8/15.7 MB 841.7 kB/s eta 0:00:16\n",
      "   ------- -------------------------------- 2.9/15.7 MB 847.2 kB/s eta 0:00:16\n",
      "   ------- -------------------------------- 2.9/15.7 MB 846.5 kB/s eta 0:00:16\n",
      "   ------- -------------------------------- 2.9/15.7 MB 851.8 kB/s eta 0:00:15\n",
      "   ------- -------------------------------- 3.0/15.7 MB 852.1 kB/s eta 0:00:15\n",
      "   ------- -------------------------------- 3.0/15.7 MB 852.6 kB/s eta 0:00:15\n",
      "   ------- -------------------------------- 3.1/15.7 MB 846.2 kB/s eta 0:00:15\n",
      "   ------- -------------------------------- 3.1/15.7 MB 856.6 kB/s eta 0:00:15\n",
      "   ------- -------------------------------- 3.1/15.7 MB 856.6 kB/s eta 0:00:15\n",
      "   ------- -------------------------------- 3.1/15.7 MB 834.3 kB/s eta 0:00:16\n",
      "   ------- -------------------------------- 3.1/15.7 MB 834.3 kB/s eta 0:00:16\n",
      "   -------- ------------------------------- 3.2/15.7 MB 832.5 kB/s eta 0:00:16\n",
      "   -------- ------------------------------- 3.2/15.7 MB 835.1 kB/s eta 0:00:15\n",
      "   -------- ------------------------------- 3.3/15.7 MB 840.7 kB/s eta 0:00:15\n",
      "   -------- ------------------------------- 3.4/15.7 MB 848.8 kB/s eta 0:00:15\n",
      "   -------- ------------------------------- 3.4/15.7 MB 854.2 kB/s eta 0:00:15\n",
      "   -------- ------------------------------- 3.5/15.7 MB 851.9 kB/s eta 0:00:15\n",
      "   -------- ------------------------------- 3.5/15.7 MB 850.4 kB/s eta 0:00:15\n",
      "   -------- ------------------------------- 3.5/15.7 MB 845.1 kB/s eta 0:00:15\n",
      "   --------- ------------------------------ 3.6/15.7 MB 857.6 kB/s eta 0:00:15\n",
      "   --------- ------------------------------ 3.7/15.7 MB 862.6 kB/s eta 0:00:14\n",
      "   --------- ------------------------------ 3.8/15.7 MB 877.0 kB/s eta 0:00:14\n",
      "   --------- ------------------------------ 3.8/15.7 MB 872.2 kB/s eta 0:00:14\n",
      "   --------- ------------------------------ 3.9/15.7 MB 880.8 kB/s eta 0:00:14\n",
      "   ---------- ----------------------------- 4.1/15.7 MB 908.3 kB/s eta 0:00:13\n",
      "   ---------- ----------------------------- 4.2/15.7 MB 928.4 kB/s eta 0:00:13\n",
      "   ---------- ----------------------------- 4.2/15.7 MB 930.1 kB/s eta 0:00:13\n",
      "   ---------- ----------------------------- 4.3/15.7 MB 930.5 kB/s eta 0:00:13\n",
      "   ---------- ----------------------------- 4.3/15.7 MB 930.5 kB/s eta 0:00:13\n",
      "   ----------- ---------------------------- 4.3/15.7 MB 921.8 kB/s eta 0:00:13\n",
      "   ----------- ---------------------------- 4.4/15.7 MB 934.3 kB/s eta 0:00:13\n",
      "   ----------- ---------------------------- 4.5/15.7 MB 946.7 kB/s eta 0:00:12\n",
      "   ----------- ---------------------------- 4.6/15.7 MB 952.3 kB/s eta 0:00:12\n",
      "   ----------- ---------------------------- 4.7/15.7 MB 956.6 kB/s eta 0:00:12\n",
      "   ------------ --------------------------- 4.7/15.7 MB 961.2 kB/s eta 0:00:12\n",
      "   ------------ --------------------------- 4.8/15.7 MB 958.3 kB/s eta 0:00:12\n",
      "   ------------ --------------------------- 4.8/15.7 MB 958.5 kB/s eta 0:00:12\n",
      "   ------------ --------------------------- 4.9/15.7 MB 960.7 kB/s eta 0:00:12\n",
      "   ------------ --------------------------- 5.0/15.7 MB 965.1 kB/s eta 0:00:12\n",
      "   ------------ --------------------------- 5.0/15.7 MB 972.1 kB/s eta 0:00:11\n",
      "   ------------ --------------------------- 5.1/15.7 MB 969.3 kB/s eta 0:00:11\n",
      "   ------------- -------------------------- 5.1/15.7 MB 973.3 kB/s eta 0:00:11\n",
      "   ------------- -------------------------- 5.2/15.7 MB 967.5 kB/s eta 0:00:11\n",
      "   ------------- -------------------------- 5.2/15.7 MB 969.6 kB/s eta 0:00:11\n",
      "   ------------- -------------------------- 5.2/15.7 MB 962.2 kB/s eta 0:00:11\n",
      "   ------------- -------------------------- 5.3/15.7 MB 961.5 kB/s eta 0:00:11\n",
      "   ------------- -------------------------- 5.3/15.7 MB 966.3 kB/s eta 0:00:11\n",
      "   ------------- -------------------------- 5.4/15.7 MB 965.5 kB/s eta 0:00:11\n",
      "   ------------- -------------------------- 5.4/15.7 MB 966.5 kB/s eta 0:00:11\n",
      "   ------------- -------------------------- 5.5/15.7 MB 967.5 kB/s eta 0:00:11\n",
      "   -------------- ------------------------- 5.5/15.7 MB 968.6 kB/s eta 0:00:11\n",
      "   -------------- ------------------------- 5.6/15.7 MB 974.9 kB/s eta 0:00:11\n",
      "   -------------- ------------------------- 5.7/15.7 MB 992.7 kB/s eta 0:00:11\n",
      "   -------------- ------------------------- 5.8/15.7 MB 991.8 kB/s eta 0:00:10\n",
      "   -------------- ------------------------- 5.9/15.7 MB 995.2 kB/s eta 0:00:10\n",
      "   --------------- ------------------------ 5.9/15.7 MB 992.5 kB/s eta 0:00:10\n",
      "   --------------- ------------------------ 5.9/15.7 MB 988.1 kB/s eta 0:00:10\n",
      "   --------------- ------------------------ 6.0/15.7 MB 994.0 kB/s eta 0:00:10\n",
      "   --------------- ------------------------ 6.0/15.7 MB 991.4 kB/s eta 0:00:10\n",
      "   --------------- ------------------------ 6.1/15.7 MB 996.4 kB/s eta 0:00:10\n",
      "   --------------- ------------------------ 6.2/15.7 MB 1.0 MB/s eta 0:00:10\n",
      "   ---------------- ----------------------- 6.3/15.7 MB 1.0 MB/s eta 0:00:10\n",
      "   ---------------- ----------------------- 6.4/15.7 MB 1.0 MB/s eta 0:00:10\n",
      "   ---------------- ----------------------- 6.4/15.7 MB 1.0 MB/s eta 0:00:10\n",
      "   ---------------- ----------------------- 6.5/15.7 MB 1.0 MB/s eta 0:00:09\n",
      "   ---------------- ----------------------- 6.6/15.7 MB 1.0 MB/s eta 0:00:09\n",
      "   ---------------- ----------------------- 6.6/15.7 MB 1.0 MB/s eta 0:00:09\n",
      "   ----------------- ---------------------- 6.7/15.7 MB 1.0 MB/s eta 0:00:09\n",
      "   ----------------- ---------------------- 6.8/15.7 MB 1.0 MB/s eta 0:00:09\n",
      "   ----------------- ---------------------- 6.8/15.7 MB 1.0 MB/s eta 0:00:09\n",
      "   ----------------- ---------------------- 6.9/15.7 MB 1.0 MB/s eta 0:00:09\n",
      "   ----------------- ---------------------- 7.0/15.7 MB 1.0 MB/s eta 0:00:09\n",
      "   ----------------- ---------------------- 7.0/15.7 MB 1.0 MB/s eta 0:00:09\n",
      "   ------------------ --------------------- 7.1/15.7 MB 1.0 MB/s eta 0:00:09\n",
      "   ------------------ --------------------- 7.1/15.7 MB 1.0 MB/s eta 0:00:09\n",
      "   ------------------ --------------------- 7.2/15.7 MB 1.0 MB/s eta 0:00:09\n",
      "   ------------------ --------------------- 7.2/15.7 MB 1.0 MB/s eta 0:00:09\n",
      "   ------------------ --------------------- 7.3/15.7 MB 1.1 MB/s eta 0:00:08\n",
      "   ------------------- -------------------- 7.5/15.7 MB 1.1 MB/s eta 0:00:08\n",
      "   ------------------- -------------------- 7.6/15.7 MB 1.1 MB/s eta 0:00:08\n",
      "   ------------------- -------------------- 7.8/15.7 MB 1.1 MB/s eta 0:00:08\n",
      "   -------------------- ------------------- 7.8/15.7 MB 1.1 MB/s eta 0:00:08\n",
      "   -------------------- ------------------- 7.9/15.7 MB 1.1 MB/s eta 0:00:08\n",
      "   -------------------- ------------------- 7.9/15.7 MB 1.1 MB/s eta 0:00:08\n",
      "   -------------------- ------------------- 8.1/15.7 MB 1.1 MB/s eta 0:00:07\n",
      "   -------------------- ------------------- 8.1/15.7 MB 1.1 MB/s eta 0:00:07\n",
      "   -------------------- ------------------- 8.2/15.7 MB 1.1 MB/s eta 0:00:07\n",
      "   --------------------- ------------------ 8.3/15.7 MB 1.1 MB/s eta 0:00:07\n",
      "   --------------------- ------------------ 8.4/15.7 MB 1.1 MB/s eta 0:00:07\n",
      "   --------------------- ------------------ 8.5/15.7 MB 1.1 MB/s eta 0:00:07\n",
      "   --------------------- ------------------ 8.6/15.7 MB 1.1 MB/s eta 0:00:07\n",
      "   ---------------------- ----------------- 8.7/15.7 MB 1.1 MB/s eta 0:00:07\n",
      "   ---------------------- ----------------- 8.8/15.7 MB 1.1 MB/s eta 0:00:07\n",
      "   ---------------------- ----------------- 8.8/15.7 MB 1.1 MB/s eta 0:00:07\n",
      "   ---------------------- ----------------- 8.9/15.7 MB 1.1 MB/s eta 0:00:06\n",
      "   ---------------------- ----------------- 8.9/15.7 MB 1.1 MB/s eta 0:00:06\n",
      "   ---------------------- ----------------- 8.9/15.7 MB 1.1 MB/s eta 0:00:06\n",
      "   ---------------------- ----------------- 9.0/15.7 MB 1.1 MB/s eta 0:00:06\n",
      "   ----------------------- ---------------- 9.1/15.7 MB 1.1 MB/s eta 0:00:06\n",
      "   ----------------------- ---------------- 9.2/15.7 MB 1.1 MB/s eta 0:00:06\n",
      "   ----------------------- ---------------- 9.3/15.7 MB 1.2 MB/s eta 0:00:06\n",
      "   ----------------------- ---------------- 9.4/15.7 MB 1.2 MB/s eta 0:00:06\n",
      "   ------------------------ --------------- 9.4/15.7 MB 1.2 MB/s eta 0:00:06\n",
      "   ------------------------ --------------- 9.5/15.7 MB 1.2 MB/s eta 0:00:06\n",
      "   ------------------------ --------------- 9.6/15.7 MB 1.2 MB/s eta 0:00:06\n",
      "   ------------------------ --------------- 9.7/15.7 MB 1.2 MB/s eta 0:00:06\n",
      "   ------------------------ --------------- 9.7/15.7 MB 1.2 MB/s eta 0:00:06\n",
      "   ------------------------ --------------- 9.8/15.7 MB 1.2 MB/s eta 0:00:06\n",
      "   ------------------------- -------------- 9.8/15.7 MB 1.2 MB/s eta 0:00:06\n",
      "   ------------------------- -------------- 9.9/15.7 MB 1.2 MB/s eta 0:00:05\n",
      "   ------------------------- -------------- 9.9/15.7 MB 1.2 MB/s eta 0:00:05\n",
      "   ------------------------- -------------- 9.9/15.7 MB 1.2 MB/s eta 0:00:05\n",
      "   ------------------------- -------------- 9.9/15.7 MB 1.2 MB/s eta 0:00:05\n",
      "   ------------------------- -------------- 9.9/15.7 MB 1.2 MB/s eta 0:00:05\n",
      "   ------------------------- -------------- 10.0/15.7 MB 1.1 MB/s eta 0:00:06\n",
      "   ------------------------- -------------- 10.0/15.7 MB 1.1 MB/s eta 0:00:05\n",
      "   ------------------------- -------------- 10.0/15.7 MB 1.1 MB/s eta 0:00:05\n",
      "   ------------------------- -------------- 10.1/15.7 MB 1.1 MB/s eta 0:00:05\n",
      "   ------------------------- -------------- 10.1/15.7 MB 1.1 MB/s eta 0:00:05\n",
      "   ------------------------- -------------- 10.1/15.7 MB 1.1 MB/s eta 0:00:05\n",
      "   ------------------------- -------------- 10.1/15.7 MB 1.1 MB/s eta 0:00:05\n",
      "   ------------------------- -------------- 10.1/15.7 MB 1.1 MB/s eta 0:00:05\n",
      "   ------------------------- -------------- 10.2/15.7 MB 1.1 MB/s eta 0:00:05\n",
      "   -------------------------- ------------- 10.2/15.7 MB 1.1 MB/s eta 0:00:05\n",
      "   -------------------------- ------------- 10.3/15.7 MB 1.1 MB/s eta 0:00:05\n",
      "   -------------------------- ------------- 10.4/15.7 MB 1.1 MB/s eta 0:00:05\n",
      "   -------------------------- ------------- 10.4/15.7 MB 1.1 MB/s eta 0:00:05\n",
      "   -------------------------- ------------- 10.5/15.7 MB 1.1 MB/s eta 0:00:05\n",
      "   --------------------------- ------------ 10.6/15.7 MB 1.1 MB/s eta 0:00:05\n",
      "   --------------------------- ------------ 10.7/15.7 MB 1.1 MB/s eta 0:00:05\n",
      "   --------------------------- ------------ 10.8/15.7 MB 1.1 MB/s eta 0:00:05\n",
      "   --------------------------- ------------ 10.8/15.7 MB 1.1 MB/s eta 0:00:05\n",
      "   --------------------------- ------------ 10.9/15.7 MB 1.1 MB/s eta 0:00:05\n",
      "   --------------------------- ------------ 10.9/15.7 MB 1.1 MB/s eta 0:00:05\n",
      "   ---------------------------- ----------- 11.0/15.7 MB 1.1 MB/s eta 0:00:05\n",
      "   ---------------------------- ----------- 11.0/15.7 MB 1.1 MB/s eta 0:00:05\n",
      "   ---------------------------- ----------- 11.1/15.7 MB 1.1 MB/s eta 0:00:04\n",
      "   ---------------------------- ----------- 11.1/15.7 MB 1.1 MB/s eta 0:00:04\n",
      "   ---------------------------- ----------- 11.3/15.7 MB 1.2 MB/s eta 0:00:04\n",
      "   ---------------------------- ----------- 11.4/15.7 MB 1.2 MB/s eta 0:00:04\n",
      "   ----------------------------- ---------- 11.4/15.7 MB 1.2 MB/s eta 0:00:04\n",
      "   ----------------------------- ---------- 11.5/15.7 MB 1.2 MB/s eta 0:00:04\n",
      "   ----------------------------- ---------- 11.6/15.7 MB 1.2 MB/s eta 0:00:04\n",
      "   ----------------------------- ---------- 11.7/15.7 MB 1.2 MB/s eta 0:00:04\n",
      "   ----------------------------- ---------- 11.7/15.7 MB 1.2 MB/s eta 0:00:04\n",
      "   ----------------------------- ---------- 11.7/15.7 MB 1.2 MB/s eta 0:00:04\n",
      "   ------------------------------ --------- 11.8/15.7 MB 1.2 MB/s eta 0:00:04\n",
      "   ------------------------------ --------- 12.0/15.7 MB 1.2 MB/s eta 0:00:04\n",
      "   ------------------------------ --------- 12.1/15.7 MB 1.2 MB/s eta 0:00:03\n",
      "   ------------------------------- -------- 12.2/15.7 MB 1.2 MB/s eta 0:00:03\n",
      "   ------------------------------- -------- 12.2/15.7 MB 1.2 MB/s eta 0:00:03\n",
      "   ------------------------------- -------- 12.2/15.7 MB 1.2 MB/s eta 0:00:03\n",
      "   ------------------------------- -------- 12.2/15.7 MB 1.2 MB/s eta 0:00:03\n",
      "   ------------------------------- -------- 12.2/15.7 MB 1.2 MB/s eta 0:00:03\n",
      "   ------------------------------- -------- 12.2/15.7 MB 1.2 MB/s eta 0:00:03\n",
      "   ------------------------------- -------- 12.3/15.7 MB 1.2 MB/s eta 0:00:03\n",
      "   ------------------------------- -------- 12.3/15.7 MB 1.2 MB/s eta 0:00:03\n",
      "   ------------------------------- -------- 12.3/15.7 MB 1.2 MB/s eta 0:00:03\n",
      "   ------------------------------- -------- 12.3/15.7 MB 1.2 MB/s eta 0:00:03\n",
      "   ------------------------------- -------- 12.4/15.7 MB 1.2 MB/s eta 0:00:03\n",
      "   ------------------------------- -------- 12.4/15.7 MB 1.2 MB/s eta 0:00:03\n",
      "   ------------------------------- -------- 12.5/15.7 MB 1.2 MB/s eta 0:00:03\n",
      "   ------------------------------- -------- 12.5/15.7 MB 1.2 MB/s eta 0:00:03\n",
      "   -------------------------------- ------- 12.6/15.7 MB 1.2 MB/s eta 0:00:03\n",
      "   -------------------------------- ------- 12.7/15.7 MB 1.2 MB/s eta 0:00:03\n",
      "   -------------------------------- ------- 12.8/15.7 MB 1.2 MB/s eta 0:00:03\n",
      "   -------------------------------- ------- 12.8/15.7 MB 1.2 MB/s eta 0:00:03\n",
      "   -------------------------------- ------- 12.8/15.7 MB 1.2 MB/s eta 0:00:03\n",
      "   -------------------------------- ------- 12.8/15.7 MB 1.2 MB/s eta 0:00:03\n",
      "   -------------------------------- ------- 12.8/15.7 MB 1.2 MB/s eta 0:00:03\n",
      "   -------------------------------- ------- 12.8/15.7 MB 1.2 MB/s eta 0:00:03\n",
      "   -------------------------------- ------- 12.9/15.7 MB 1.2 MB/s eta 0:00:03\n",
      "   -------------------------------- ------- 12.9/15.7 MB 1.2 MB/s eta 0:00:03\n",
      "   -------------------------------- ------- 12.9/15.7 MB 1.2 MB/s eta 0:00:03\n",
      "   -------------------------------- ------- 12.9/15.7 MB 1.2 MB/s eta 0:00:03\n",
      "   --------------------------------- ------ 12.9/15.7 MB 1.2 MB/s eta 0:00:03\n",
      "   --------------------------------- ------ 13.0/15.7 MB 1.2 MB/s eta 0:00:03\n",
      "   --------------------------------- ------ 13.0/15.7 MB 1.2 MB/s eta 0:00:03\n",
      "   --------------------------------- ------ 13.1/15.7 MB 1.2 MB/s eta 0:00:03\n",
      "   --------------------------------- ------ 13.2/15.7 MB 1.2 MB/s eta 0:00:03\n",
      "   --------------------------------- ------ 13.3/15.7 MB 1.2 MB/s eta 0:00:02\n",
      "   ---------------------------------- ----- 13.3/15.7 MB 1.2 MB/s eta 0:00:02\n",
      "   ---------------------------------- ----- 13.4/15.7 MB 1.2 MB/s eta 0:00:02\n",
      "   ---------------------------------- ----- 13.5/15.7 MB 1.2 MB/s eta 0:00:02\n",
      "   ---------------------------------- ----- 13.5/15.7 MB 1.2 MB/s eta 0:00:02\n",
      "   ---------------------------------- ----- 13.6/15.7 MB 1.2 MB/s eta 0:00:02\n",
      "   ---------------------------------- ----- 13.6/15.7 MB 1.2 MB/s eta 0:00:02\n",
      "   ---------------------------------- ----- 13.7/15.7 MB 1.2 MB/s eta 0:00:02\n",
      "   ---------------------------------- ----- 13.7/15.7 MB 1.2 MB/s eta 0:00:02\n",
      "   ----------------------------------- ---- 13.8/15.7 MB 1.2 MB/s eta 0:00:02\n",
      "   ----------------------------------- ---- 13.8/15.7 MB 1.2 MB/s eta 0:00:02\n",
      "   ----------------------------------- ---- 13.9/15.7 MB 1.3 MB/s eta 0:00:02\n",
      "   ----------------------------------- ---- 14.0/15.7 MB 1.2 MB/s eta 0:00:02\n",
      "   ----------------------------------- ---- 14.1/15.7 MB 1.3 MB/s eta 0:00:02\n",
      "   ----------------------------------- ---- 14.1/15.7 MB 1.3 MB/s eta 0:00:02\n",
      "   ------------------------------------ --- 14.2/15.7 MB 1.2 MB/s eta 0:00:02\n",
      "   ------------------------------------ --- 14.2/15.7 MB 1.2 MB/s eta 0:00:02\n",
      "   ------------------------------------ --- 14.3/15.7 MB 1.2 MB/s eta 0:00:02\n",
      "   ------------------------------------ --- 14.4/15.7 MB 1.2 MB/s eta 0:00:01\n",
      "   ------------------------------------ --- 14.5/15.7 MB 1.2 MB/s eta 0:00:01\n",
      "   ------------------------------------- -- 14.6/15.7 MB 1.2 MB/s eta 0:00:01\n",
      "   ------------------------------------- -- 14.6/15.7 MB 1.2 MB/s eta 0:00:01\n",
      "   ------------------------------------- -- 14.7/15.7 MB 1.2 MB/s eta 0:00:01\n",
      "   ------------------------------------- -- 14.8/15.7 MB 1.2 MB/s eta 0:00:01\n",
      "   ------------------------------------- -- 14.9/15.7 MB 1.2 MB/s eta 0:00:01\n",
      "   ------------------------------------- -- 14.9/15.7 MB 1.2 MB/s eta 0:00:01\n",
      "   -------------------------------------- - 15.0/15.7 MB 1.2 MB/s eta 0:00:01\n",
      "   -------------------------------------- - 15.1/15.7 MB 1.2 MB/s eta 0:00:01\n",
      "   -------------------------------------- - 15.2/15.7 MB 1.3 MB/s eta 0:00:01\n",
      "   ---------------------------------------  15.3/15.7 MB 1.3 MB/s eta 0:00:01\n",
      "   ---------------------------------------  15.4/15.7 MB 1.3 MB/s eta 0:00:01\n",
      "   ---------------------------------------  15.5/15.7 MB 1.3 MB/s eta 0:00:01\n",
      "   ---------------------------------------  15.6/15.7 MB 1.3 MB/s eta 0:00:01\n",
      "   ---------------------------------------  15.6/15.7 MB 1.3 MB/s eta 0:00:01\n",
      "   ---------------------------------------  15.7/15.7 MB 1.3 MB/s eta 0:00:01\n",
      "   ---------------------------------------  15.7/15.7 MB 1.3 MB/s eta 0:00:01\n",
      "   ---------------------------------------- 15.7/15.7 MB 1.3 MB/s eta 0:00:00\n",
      "Installing collected packages: plotly\n"
     ]
    }
   ],
   "source": [
    "!pip install plotly"
   ]
  },
  {
   "cell_type": "code",
   "execution_count": 1,
   "id": "78ca0cb8-f5d8-4baa-8ad9-365897ee1039",
   "metadata": {},
   "outputs": [],
   "source": [
    "import pandas as pd"
   ]
  },
  {
   "cell_type": "code",
   "execution_count": 2,
   "id": "5705b461-4848-4fb5-b9fe-73aca184df03",
   "metadata": {},
   "outputs": [
    {
     "data": {
      "text/html": [
       "<div>\n",
       "<style scoped>\n",
       "    .dataframe tbody tr th:only-of-type {\n",
       "        vertical-align: middle;\n",
       "    }\n",
       "\n",
       "    .dataframe tbody tr th {\n",
       "        vertical-align: top;\n",
       "    }\n",
       "\n",
       "    .dataframe thead th {\n",
       "        text-align: right;\n",
       "    }\n",
       "</style>\n",
       "<table border=\"1\" class=\"dataframe\">\n",
       "  <thead>\n",
       "    <tr style=\"text-align: right;\">\n",
       "      <th></th>\n",
       "      <th>Country Name</th>\n",
       "      <th>Country Code</th>\n",
       "      <th>Year</th>\n",
       "      <th>Value</th>\n",
       "    </tr>\n",
       "  </thead>\n",
       "  <tbody>\n",
       "    <tr>\n",
       "      <th>0</th>\n",
       "      <td>Arab World</td>\n",
       "      <td>ARB</td>\n",
       "      <td>1968</td>\n",
       "      <td>2.576068e+10</td>\n",
       "    </tr>\n",
       "    <tr>\n",
       "      <th>1</th>\n",
       "      <td>Arab World</td>\n",
       "      <td>ARB</td>\n",
       "      <td>1969</td>\n",
       "      <td>2.843420e+10</td>\n",
       "    </tr>\n",
       "    <tr>\n",
       "      <th>2</th>\n",
       "      <td>Arab World</td>\n",
       "      <td>ARB</td>\n",
       "      <td>1970</td>\n",
       "      <td>3.138550e+10</td>\n",
       "    </tr>\n",
       "    <tr>\n",
       "      <th>3</th>\n",
       "      <td>Arab World</td>\n",
       "      <td>ARB</td>\n",
       "      <td>1971</td>\n",
       "      <td>3.642691e+10</td>\n",
       "    </tr>\n",
       "    <tr>\n",
       "      <th>4</th>\n",
       "      <td>Arab World</td>\n",
       "      <td>ARB</td>\n",
       "      <td>1972</td>\n",
       "      <td>4.331606e+10</td>\n",
       "    </tr>\n",
       "  </tbody>\n",
       "</table>\n",
       "</div>"
      ],
      "text/plain": [
       "  Country Name Country Code  Year         Value\n",
       "0   Arab World          ARB  1968  2.576068e+10\n",
       "1   Arab World          ARB  1969  2.843420e+10\n",
       "2   Arab World          ARB  1970  3.138550e+10\n",
       "3   Arab World          ARB  1971  3.642691e+10\n",
       "4   Arab World          ARB  1972  4.331606e+10"
      ]
     },
     "execution_count": 2,
     "metadata": {},
     "output_type": "execute_result"
    }
   ],
   "source": [
    "df = pd.read_csv('gdp.csv')\n",
    "df.head()"
   ]
  },
  {
   "cell_type": "markdown",
   "id": "ff71cda3-010d-4ac9-a648-8df88b4b5779",
   "metadata": {},
   "source": [
    "## GDP Analysis"
   ]
  },
  {
   "cell_type": "code",
   "execution_count": 3,
   "id": "551efe34-878f-4833-86d6-5aaca920cd26",
   "metadata": {},
   "outputs": [
    {
     "data": {
      "text/plain": [
       "count                    11507\n",
       "unique                     256\n",
       "top       Hong Kong SAR, China\n",
       "freq                        57\n",
       "Name: Country Name, dtype: object"
      ]
     },
     "execution_count": 3,
     "metadata": {},
     "output_type": "execute_result"
    }
   ],
   "source": [
    "df['Country Name'].describe()"
   ]
  },
  {
   "cell_type": "code",
   "execution_count": 4,
   "id": "24e57e18-89fa-43da-bda3-37ff3417a70b",
   "metadata": {},
   "outputs": [
    {
     "data": {
      "text/plain": [
       "count     11507\n",
       "unique      256\n",
       "top         HKG\n",
       "freq         57\n",
       "Name: Country Code, dtype: object"
      ]
     },
     "execution_count": 4,
     "metadata": {},
     "output_type": "execute_result"
    }
   ],
   "source": [
    "df['Country Code'].describe()"
   ]
  },
  {
   "cell_type": "code",
   "execution_count": 5,
   "id": "a226007a-12e6-4e80-8375-861859512d4d",
   "metadata": {},
   "outputs": [
    {
     "data": {
      "text/plain": [
       "1960"
      ]
     },
     "execution_count": 5,
     "metadata": {},
     "output_type": "execute_result"
    }
   ],
   "source": [
    "df['Year'].min()"
   ]
  },
  {
   "cell_type": "code",
   "execution_count": 6,
   "id": "91870fa5-3d92-4874-8d6a-ca3162b4bfb4",
   "metadata": {},
   "outputs": [
    {
     "data": {
      "text/plain": [
       "2016"
      ]
     },
     "execution_count": 6,
     "metadata": {},
     "output_type": "execute_result"
    }
   ],
   "source": [
    "df['Year'].max()"
   ]
  },
  {
   "cell_type": "markdown",
   "id": "8d55c20c-a938-4316-8c5d-fb810e577938",
   "metadata": {},
   "source": [
    "## Analysing Arab World"
   ]
  },
  {
   "cell_type": "code",
   "execution_count": 9,
   "id": "0ea97f46-2887-4f2e-bd1b-51cee4a08c0f",
   "metadata": {},
   "outputs": [
    {
     "data": {
      "text/plain": [
       "array(['Arab World', 'Caribbean small states',\n",
       "       'Central Europe and the Baltics', 'Early-demographic dividend',\n",
       "       'East Asia & Pacific',\n",
       "       'East Asia & Pacific (excluding high income)',\n",
       "       'East Asia & Pacific (IDA & IBRD countries)', 'Euro area',\n",
       "       'Europe & Central Asia',\n",
       "       'Europe & Central Asia (excluding high income)',\n",
       "       'Europe & Central Asia (IDA & IBRD countries)', 'European Union',\n",
       "       'Fragile and conflict affected situations',\n",
       "       'Heavily indebted poor countries (HIPC)', 'High income',\n",
       "       'IBRD only', 'IDA & IBRD total', 'IDA blend', 'IDA only',\n",
       "       'IDA total', 'Late-demographic dividend',\n",
       "       'Latin America & Caribbean',\n",
       "       'Latin America & Caribbean (excluding high income)',\n",
       "       'Latin America & the Caribbean (IDA & IBRD countries)',\n",
       "       'Least developed countries: UN classification',\n",
       "       'Low & middle income', 'Low income', 'Lower middle income',\n",
       "       'Middle East & North Africa',\n",
       "       'Middle East & North Africa (excluding high income)',\n",
       "       'Middle East & North Africa (IDA & IBRD countries)',\n",
       "       'Middle income', 'North America', 'OECD members',\n",
       "       'Other small states', 'Pacific island small states',\n",
       "       'Post-demographic dividend', 'Pre-demographic dividend',\n",
       "       'Small states', 'South Asia', 'South Asia (IDA & IBRD)',\n",
       "       'Sub-Saharan Africa', 'Sub-Saharan Africa (excluding high income)',\n",
       "       'Sub-Saharan Africa (IDA & IBRD countries)', 'Upper middle income',\n",
       "       'World', 'Afghanistan', 'Albania', 'Algeria', 'American Samoa',\n",
       "       'Andorra', 'Angola', 'Antigua and Barbuda', 'Argentina', 'Armenia',\n",
       "       'Aruba', 'Australia', 'Austria', 'Azerbaijan', 'Bahamas, The',\n",
       "       'Bahrain', 'Bangladesh', 'Barbados', 'Belarus', 'Belgium',\n",
       "       'Belize', 'Benin', 'Bermuda', 'Bhutan', 'Bolivia',\n",
       "       'Bosnia and Herzegovina', 'Botswana', 'Brazil',\n",
       "       'Brunei Darussalam', 'Bulgaria', 'Burkina Faso', 'Burundi',\n",
       "       'Cabo Verde', 'Cambodia', 'Cameroon', 'Canada', 'Cayman Islands',\n",
       "       'Central African Republic', 'Chad', 'Channel Islands', 'Chile',\n",
       "       'China', 'Colombia', 'Comoros', 'Congo, Dem. Rep.', 'Congo, Rep.',\n",
       "       'Costa Rica', \"Cote d'Ivoire\", 'Croatia', 'Cuba', 'Cyprus',\n",
       "       'Czech Republic', 'Denmark', 'Djibouti', 'Dominica',\n",
       "       'Dominican Republic', 'Ecuador', 'Egypt, Arab Rep.', 'El Salvador',\n",
       "       'Equatorial Guinea', 'Eritrea', 'Estonia', 'Ethiopia',\n",
       "       'Faroe Islands', 'Fiji', 'Finland', 'France', 'French Polynesia',\n",
       "       'Gabon', 'Gambia, The', 'Georgia', 'Germany', 'Ghana', 'Greece',\n",
       "       'Greenland', 'Grenada', 'Guam', 'Guatemala', 'Guinea',\n",
       "       'Guinea-Bissau', 'Guyana', 'Haiti', 'Honduras',\n",
       "       'Hong Kong SAR, China', 'Hungary', 'Iceland', 'India', 'Indonesia',\n",
       "       'Iran, Islamic Rep.', 'Iraq', 'Ireland', 'Isle of Man', 'Israel',\n",
       "       'Italy', 'Jamaica', 'Japan', 'Jordan', 'Kazakhstan', 'Kenya',\n",
       "       'Kiribati', 'Korea, Rep.', 'Kosovo', 'Kuwait', 'Kyrgyz Republic',\n",
       "       'Lao PDR', 'Latvia', 'Lebanon', 'Lesotho', 'Liberia', 'Libya',\n",
       "       'Liechtenstein', 'Lithuania', 'Luxembourg', 'Macao SAR, China',\n",
       "       'Macedonia, FYR', 'Madagascar', 'Malawi', 'Malaysia', 'Maldives',\n",
       "       'Mali', 'Malta', 'Marshall Islands', 'Mauritania', 'Mauritius',\n",
       "       'Mexico', 'Micronesia, Fed. Sts.', 'Moldova', 'Monaco', 'Mongolia',\n",
       "       'Montenegro', 'Morocco', 'Mozambique', 'Myanmar', 'Namibia',\n",
       "       'Nauru', 'Nepal', 'Netherlands', 'New Caledonia', 'New Zealand',\n",
       "       'Nicaragua', 'Niger', 'Nigeria', 'Northern Mariana Islands',\n",
       "       'Norway', 'Oman', 'Pakistan', 'Palau', 'Panama',\n",
       "       'Papua New Guinea', 'Paraguay', 'Peru', 'Philippines', 'Poland',\n",
       "       'Portugal', 'Puerto Rico', 'Qatar', 'Romania',\n",
       "       'Russian Federation', 'Rwanda', 'Samoa', 'San Marino',\n",
       "       'Sao Tome and Principe', 'Saudi Arabia', 'Senegal', 'Serbia',\n",
       "       'Seychelles', 'Sierra Leone', 'Singapore', 'Slovak Republic',\n",
       "       'Slovenia', 'Solomon Islands', 'Somalia', 'South Africa',\n",
       "       'South Sudan', 'Spain', 'Sri Lanka', 'St. Kitts and Nevis',\n",
       "       'St. Lucia', 'St. Vincent and the Grenadines', 'Sudan', 'Suriname',\n",
       "       'Swaziland', 'Sweden', 'Switzerland', 'Syrian Arab Republic',\n",
       "       'Tajikistan', 'Tanzania', 'Thailand', 'Timor-Leste', 'Togo',\n",
       "       'Tonga', 'Trinidad and Tobago', 'Tunisia', 'Turkey',\n",
       "       'Turkmenistan', 'Tuvalu', 'Uganda', 'Ukraine',\n",
       "       'United Arab Emirates', 'United Kingdom', 'United States',\n",
       "       'Uruguay', 'Uzbekistan', 'Vanuatu', 'Venezuela, RB', 'Vietnam',\n",
       "       'Virgin Islands (U.S.)', 'West Bank and Gaza', 'Yemen, Rep.',\n",
       "       'Zambia', 'Zimbabwe'], dtype=object)"
      ]
     },
     "execution_count": 9,
     "metadata": {},
     "output_type": "execute_result"
    }
   ],
   "source": [
    "df['Country Name'].unique()"
   ]
  },
  {
   "cell_type": "code",
   "execution_count": 10,
   "id": "d6c86ffe-eeea-4aa4-974e-b0f65b11d0e8",
   "metadata": {},
   "outputs": [],
   "source": [
    "df_pr = df[df['Country Name'] == 'Arab World']"
   ]
  },
  {
   "cell_type": "code",
   "execution_count": 11,
   "id": "111b8fe6-bdc0-4695-a12c-52a7f4d60583",
   "metadata": {},
   "outputs": [
    {
     "data": {
      "text/plain": [
       "<Axes: xlabel='YEARS', ylabel='GDP'>"
      ]
     },
     "execution_count": 11,
     "metadata": {},
     "output_type": "execute_result"
    },
    {
     "data": {
      "image/png": "[encoded data removed]",
      "text/plain": [
       "<Figure size 1500x600 with 1 Axes>"
      ]
     },
     "metadata": {},
     "output_type": "display_data"
    }
   ],
   "source": [
    "df_pr.plot(kind = 'line', x = 'Year', y = 'Value',\n",
    "           figsize = (15,6),\n",
    "           legend = False,\n",
    "           grid = True,\n",
    "           ylabel = 'GDP',\n",
    "           xlabel = 'YEARS')"
   ]
  },
  {
   "cell_type": "code",
   "execution_count": 12,
   "id": "bbfe2268-3b63-498c-9b0c-9d0173b02202",
   "metadata": {},
   "outputs": [
    {
     "data": {
      "text/html": [
       "<div>\n",
       "<style scoped>\n",
       "    .dataframe tbody tr th:only-of-type {\n",
       "        vertical-align: middle;\n",
       "    }\n",
       "\n",
       "    .dataframe tbody tr th {\n",
       "        vertical-align: top;\n",
       "    }\n",
       "\n",
       "    .dataframe thead th {\n",
       "        text-align: right;\n",
       "    }\n",
       "</style>\n",
       "<table border=\"1\" class=\"dataframe\">\n",
       "  <thead>\n",
       "    <tr style=\"text-align: right;\">\n",
       "      <th></th>\n",
       "      <th>Country Name</th>\n",
       "      <th>Country Code</th>\n",
       "      <th>Year</th>\n",
       "      <th>Value</th>\n",
       "    </tr>\n",
       "  </thead>\n",
       "  <tbody>\n",
       "    <tr>\n",
       "      <th>0</th>\n",
       "      <td>Arab World</td>\n",
       "      <td>ARB</td>\n",
       "      <td>1968</td>\n",
       "      <td>2.576068e+10</td>\n",
       "    </tr>\n",
       "    <tr>\n",
       "      <th>1</th>\n",
       "      <td>Arab World</td>\n",
       "      <td>ARB</td>\n",
       "      <td>1969</td>\n",
       "      <td>2.843420e+10</td>\n",
       "    </tr>\n",
       "    <tr>\n",
       "      <th>2</th>\n",
       "      <td>Arab World</td>\n",
       "      <td>ARB</td>\n",
       "      <td>1970</td>\n",
       "      <td>3.138550e+10</td>\n",
       "    </tr>\n",
       "    <tr>\n",
       "      <th>3</th>\n",
       "      <td>Arab World</td>\n",
       "      <td>ARB</td>\n",
       "      <td>1971</td>\n",
       "      <td>3.642691e+10</td>\n",
       "    </tr>\n",
       "    <tr>\n",
       "      <th>4</th>\n",
       "      <td>Arab World</td>\n",
       "      <td>ARB</td>\n",
       "      <td>1972</td>\n",
       "      <td>4.331606e+10</td>\n",
       "    </tr>\n",
       "    <tr>\n",
       "      <th>5</th>\n",
       "      <td>Arab World</td>\n",
       "      <td>ARB</td>\n",
       "      <td>1973</td>\n",
       "      <td>5.501839e+10</td>\n",
       "    </tr>\n",
       "    <tr>\n",
       "      <th>6</th>\n",
       "      <td>Arab World</td>\n",
       "      <td>ARB</td>\n",
       "      <td>1974</td>\n",
       "      <td>1.051458e+11</td>\n",
       "    </tr>\n",
       "    <tr>\n",
       "      <th>7</th>\n",
       "      <td>Arab World</td>\n",
       "      <td>ARB</td>\n",
       "      <td>1975</td>\n",
       "      <td>1.163370e+11</td>\n",
       "    </tr>\n",
       "    <tr>\n",
       "      <th>8</th>\n",
       "      <td>Arab World</td>\n",
       "      <td>ARB</td>\n",
       "      <td>1976</td>\n",
       "      <td>1.448462e+11</td>\n",
       "    </tr>\n",
       "    <tr>\n",
       "      <th>9</th>\n",
       "      <td>Arab World</td>\n",
       "      <td>ARB</td>\n",
       "      <td>1977</td>\n",
       "      <td>1.673083e+11</td>\n",
       "    </tr>\n",
       "    <tr>\n",
       "      <th>10</th>\n",
       "      <td>Arab World</td>\n",
       "      <td>ARB</td>\n",
       "      <td>1978</td>\n",
       "      <td>1.835555e+11</td>\n",
       "    </tr>\n",
       "    <tr>\n",
       "      <th>11</th>\n",
       "      <td>Arab World</td>\n",
       "      <td>ARB</td>\n",
       "      <td>1979</td>\n",
       "      <td>2.486462e+11</td>\n",
       "    </tr>\n",
       "    <tr>\n",
       "      <th>12</th>\n",
       "      <td>Arab World</td>\n",
       "      <td>ARB</td>\n",
       "      <td>1980</td>\n",
       "      <td>3.381775e+11</td>\n",
       "    </tr>\n",
       "    <tr>\n",
       "      <th>13</th>\n",
       "      <td>Arab World</td>\n",
       "      <td>ARB</td>\n",
       "      <td>1981</td>\n",
       "      <td>3.485928e+11</td>\n",
       "    </tr>\n",
       "    <tr>\n",
       "      <th>14</th>\n",
       "      <td>Arab World</td>\n",
       "      <td>ARB</td>\n",
       "      <td>1982</td>\n",
       "      <td>3.243288e+11</td>\n",
       "    </tr>\n",
       "    <tr>\n",
       "      <th>15</th>\n",
       "      <td>Arab World</td>\n",
       "      <td>ARB</td>\n",
       "      <td>1983</td>\n",
       "      <td>3.039625e+11</td>\n",
       "    </tr>\n",
       "    <tr>\n",
       "      <th>16</th>\n",
       "      <td>Arab World</td>\n",
       "      <td>ARB</td>\n",
       "      <td>1984</td>\n",
       "      <td>3.079408e+11</td>\n",
       "    </tr>\n",
       "    <tr>\n",
       "      <th>17</th>\n",
       "      <td>Arab World</td>\n",
       "      <td>ARB</td>\n",
       "      <td>1985</td>\n",
       "      <td>3.038936e+11</td>\n",
       "    </tr>\n",
       "    <tr>\n",
       "      <th>18</th>\n",
       "      <td>Arab World</td>\n",
       "      <td>ARB</td>\n",
       "      <td>1986</td>\n",
       "      <td>2.890292e+11</td>\n",
       "    </tr>\n",
       "    <tr>\n",
       "      <th>19</th>\n",
       "      <td>Arab World</td>\n",
       "      <td>ARB</td>\n",
       "      <td>1987</td>\n",
       "      <td>3.126817e+11</td>\n",
       "    </tr>\n",
       "    <tr>\n",
       "      <th>20</th>\n",
       "      <td>Arab World</td>\n",
       "      <td>ARB</td>\n",
       "      <td>1988</td>\n",
       "      <td>3.075030e+11</td>\n",
       "    </tr>\n",
       "    <tr>\n",
       "      <th>21</th>\n",
       "      <td>Arab World</td>\n",
       "      <td>ARB</td>\n",
       "      <td>1989</td>\n",
       "      <td>3.223251e+11</td>\n",
       "    </tr>\n",
       "    <tr>\n",
       "      <th>22</th>\n",
       "      <td>Arab World</td>\n",
       "      <td>ARB</td>\n",
       "      <td>1990</td>\n",
       "      <td>4.468772e+11</td>\n",
       "    </tr>\n",
       "    <tr>\n",
       "      <th>23</th>\n",
       "      <td>Arab World</td>\n",
       "      <td>ARB</td>\n",
       "      <td>1991</td>\n",
       "      <td>4.397792e+11</td>\n",
       "    </tr>\n",
       "    <tr>\n",
       "      <th>24</th>\n",
       "      <td>Arab World</td>\n",
       "      <td>ARB</td>\n",
       "      <td>1992</td>\n",
       "      <td>4.711635e+11</td>\n",
       "    </tr>\n",
       "    <tr>\n",
       "      <th>25</th>\n",
       "      <td>Arab World</td>\n",
       "      <td>ARB</td>\n",
       "      <td>1993</td>\n",
       "      <td>4.765136e+11</td>\n",
       "    </tr>\n",
       "    <tr>\n",
       "      <th>26</th>\n",
       "      <td>Arab World</td>\n",
       "      <td>ARB</td>\n",
       "      <td>1994</td>\n",
       "      <td>4.875269e+11</td>\n",
       "    </tr>\n",
       "    <tr>\n",
       "      <th>27</th>\n",
       "      <td>Arab World</td>\n",
       "      <td>ARB</td>\n",
       "      <td>1995</td>\n",
       "      <td>5.237599e+11</td>\n",
       "    </tr>\n",
       "    <tr>\n",
       "      <th>28</th>\n",
       "      <td>Arab World</td>\n",
       "      <td>ARB</td>\n",
       "      <td>1996</td>\n",
       "      <td>5.782313e+11</td>\n",
       "    </tr>\n",
       "    <tr>\n",
       "      <th>29</th>\n",
       "      <td>Arab World</td>\n",
       "      <td>ARB</td>\n",
       "      <td>1997</td>\n",
       "      <td>6.132795e+11</td>\n",
       "    </tr>\n",
       "    <tr>\n",
       "      <th>30</th>\n",
       "      <td>Arab World</td>\n",
       "      <td>ARB</td>\n",
       "      <td>1998</td>\n",
       "      <td>5.915256e+11</td>\n",
       "    </tr>\n",
       "    <tr>\n",
       "      <th>31</th>\n",
       "      <td>Arab World</td>\n",
       "      <td>ARB</td>\n",
       "      <td>1999</td>\n",
       "      <td>6.438897e+11</td>\n",
       "    </tr>\n",
       "    <tr>\n",
       "      <th>32</th>\n",
       "      <td>Arab World</td>\n",
       "      <td>ARB</td>\n",
       "      <td>2000</td>\n",
       "      <td>7.350251e+11</td>\n",
       "    </tr>\n",
       "    <tr>\n",
       "      <th>33</th>\n",
       "      <td>Arab World</td>\n",
       "      <td>ARB</td>\n",
       "      <td>2001</td>\n",
       "      <td>7.232828e+11</td>\n",
       "    </tr>\n",
       "    <tr>\n",
       "      <th>34</th>\n",
       "      <td>Arab World</td>\n",
       "      <td>ARB</td>\n",
       "      <td>2002</td>\n",
       "      <td>7.290517e+11</td>\n",
       "    </tr>\n",
       "    <tr>\n",
       "      <th>35</th>\n",
       "      <td>Arab World</td>\n",
       "      <td>ARB</td>\n",
       "      <td>2003</td>\n",
       "      <td>8.231105e+11</td>\n",
       "    </tr>\n",
       "    <tr>\n",
       "      <th>36</th>\n",
       "      <td>Arab World</td>\n",
       "      <td>ARB</td>\n",
       "      <td>2004</td>\n",
       "      <td>9.638623e+11</td>\n",
       "    </tr>\n",
       "    <tr>\n",
       "      <th>37</th>\n",
       "      <td>Arab World</td>\n",
       "      <td>ARB</td>\n",
       "      <td>2005</td>\n",
       "      <td>1.184662e+12</td>\n",
       "    </tr>\n",
       "    <tr>\n",
       "      <th>38</th>\n",
       "      <td>Arab World</td>\n",
       "      <td>ARB</td>\n",
       "      <td>2006</td>\n",
       "      <td>1.404114e+12</td>\n",
       "    </tr>\n",
       "    <tr>\n",
       "      <th>39</th>\n",
       "      <td>Arab World</td>\n",
       "      <td>ARB</td>\n",
       "      <td>2007</td>\n",
       "      <td>1.637573e+12</td>\n",
       "    </tr>\n",
       "    <tr>\n",
       "      <th>40</th>\n",
       "      <td>Arab World</td>\n",
       "      <td>ARB</td>\n",
       "      <td>2008</td>\n",
       "      <td>2.078116e+12</td>\n",
       "    </tr>\n",
       "    <tr>\n",
       "      <th>41</th>\n",
       "      <td>Arab World</td>\n",
       "      <td>ARB</td>\n",
       "      <td>2009</td>\n",
       "      <td>1.795820e+12</td>\n",
       "    </tr>\n",
       "    <tr>\n",
       "      <th>42</th>\n",
       "      <td>Arab World</td>\n",
       "      <td>ARB</td>\n",
       "      <td>2010</td>\n",
       "      <td>2.109646e+12</td>\n",
       "    </tr>\n",
       "    <tr>\n",
       "      <th>43</th>\n",
       "      <td>Arab World</td>\n",
       "      <td>ARB</td>\n",
       "      <td>2011</td>\n",
       "      <td>2.501554e+12</td>\n",
       "    </tr>\n",
       "    <tr>\n",
       "      <th>44</th>\n",
       "      <td>Arab World</td>\n",
       "      <td>ARB</td>\n",
       "      <td>2012</td>\n",
       "      <td>2.741239e+12</td>\n",
       "    </tr>\n",
       "    <tr>\n",
       "      <th>45</th>\n",
       "      <td>Arab World</td>\n",
       "      <td>ARB</td>\n",
       "      <td>2013</td>\n",
       "      <td>2.839627e+12</td>\n",
       "    </tr>\n",
       "    <tr>\n",
       "      <th>46</th>\n",
       "      <td>Arab World</td>\n",
       "      <td>ARB</td>\n",
       "      <td>2014</td>\n",
       "      <td>2.906616e+12</td>\n",
       "    </tr>\n",
       "    <tr>\n",
       "      <th>47</th>\n",
       "      <td>Arab World</td>\n",
       "      <td>ARB</td>\n",
       "      <td>2015</td>\n",
       "      <td>2.563302e+12</td>\n",
       "    </tr>\n",
       "    <tr>\n",
       "      <th>48</th>\n",
       "      <td>Arab World</td>\n",
       "      <td>ARB</td>\n",
       "      <td>2016</td>\n",
       "      <td>2.504703e+12</td>\n",
       "    </tr>\n",
       "  </tbody>\n",
       "</table>\n",
       "</div>"
      ],
      "text/plain": [
       "   Country Name Country Code  Year         Value\n",
       "0    Arab World          ARB  1968  2.576068e+10\n",
       "1    Arab World          ARB  1969  2.843420e+10\n",
       "2    Arab World          ARB  1970  3.138550e+10\n",
       "3    Arab World          ARB  1971  3.642691e+10\n",
       "4    Arab World          ARB  1972  4.331606e+10\n",
       "5    Arab World          ARB  1973  5.501839e+10\n",
       "6    Arab World          ARB  1974  1.051458e+11\n",
       "7    Arab World          ARB  1975  1.163370e+11\n",
       "8    Arab World          ARB  1976  1.448462e+11\n",
       "9    Arab World          ARB  1977  1.673083e+11\n",
       "10   Arab World          ARB  1978  1.835555e+11\n",
       "11   Arab World          ARB  1979  2.486462e+11\n",
       "12   Arab World          ARB  1980  3.381775e+11\n",
       "13   Arab World          ARB  1981  3.485928e+11\n",
       "14   Arab World          ARB  1982  3.243288e+11\n",
       "15   Arab World          ARB  1983  3.039625e+11\n",
       "16   Arab World          ARB  1984  3.079408e+11\n",
       "17   Arab World          ARB  1985  3.038936e+11\n",
       "18   Arab World          ARB  1986  2.890292e+11\n",
       "19   Arab World          ARB  1987  3.126817e+11\n",
       "20   Arab World          ARB  1988  3.075030e+11\n",
       "21   Arab World          ARB  1989  3.223251e+11\n",
       "22   Arab World          ARB  1990  4.468772e+11\n",
       "23   Arab World          ARB  1991  4.397792e+11\n",
       "24   Arab World          ARB  1992  4.711635e+11\n",
       "25   Arab World          ARB  1993  4.765136e+11\n",
       "26   Arab World          ARB  1994  4.875269e+11\n",
       "27   Arab World          ARB  1995  5.237599e+11\n",
       "28   Arab World          ARB  1996  5.782313e+11\n",
       "29   Arab World          ARB  1997  6.132795e+11\n",
       "30   Arab World          ARB  1998  5.915256e+11\n",
       "31   Arab World          ARB  1999  6.438897e+11\n",
       "32   Arab World          ARB  2000  7.350251e+11\n",
       "33   Arab World          ARB  2001  7.232828e+11\n",
       "34   Arab World          ARB  2002  7.290517e+11\n",
       "35   Arab World          ARB  2003  8.231105e+11\n",
       "36   Arab World          ARB  2004  9.638623e+11\n",
       "37   Arab World          ARB  2005  1.184662e+12\n",
       "38   Arab World          ARB  2006  1.404114e+12\n",
       "39   Arab World          ARB  2007  1.637573e+12\n",
       "40   Arab World          ARB  2008  2.078116e+12\n",
       "41   Arab World          ARB  2009  1.795820e+12\n",
       "42   Arab World          ARB  2010  2.109646e+12\n",
       "43   Arab World          ARB  2011  2.501554e+12\n",
       "44   Arab World          ARB  2012  2.741239e+12\n",
       "45   Arab World          ARB  2013  2.839627e+12\n",
       "46   Arab World          ARB  2014  2.906616e+12\n",
       "47   Arab World          ARB  2015  2.563302e+12\n",
       "48   Arab World          ARB  2016  2.504703e+12"
      ]
     },
     "execution_count": 12,
     "metadata": {},
     "output_type": "execute_result"
    }
   ],
   "source": [
    "df_pr"
   ]
  },
  {
   "cell_type": "markdown",
   "id": "d783a3ee-c62a-405e-9e9d-b89e4b20f4cf",
   "metadata": {},
   "source": [
    "## GDP growth of country"
   ]
  },
  {
   "cell_type": "code",
   "execution_count": 14,
   "id": "d82bfd36-79f9-4453-b706-5f2124ce032d",
   "metadata": {},
   "outputs": [],
   "source": [
    "# 1968 - 2576\n",
    "# 1969 - 2843\n",
    "# 1970 - 3138"
   ]
  },
  {
   "cell_type": "code",
   "execution_count": 15,
   "id": "d7c4bd4b-92c5-4a24-9385-796790eada81",
   "metadata": {},
   "outputs": [
    {
     "data": {
      "text/plain": [
       "27.01"
      ]
     },
     "execution_count": 15,
     "metadata": {},
     "output_type": "execute_result"
    }
   ],
   "source": [
    "round(((5501 - 4331) / 4331)*100,2)"
   ]
  },
  {
   "cell_type": "code",
   "execution_count": 16,
   "id": "50cfc9d9-355b-4e30-83b3-2930be0405b7",
   "metadata": {},
   "outputs": [],
   "source": [
    "data = df_pr.values\n",
    "\n",
    "gdp_change = [0]\n",
    "\n",
    "for i in range(1,len(data)):\n",
    "    \n",
    "    prev = data[i-1][3]\n",
    "    cur = data[i][3]\n",
    "    \n",
    "    gdp_change.append(round(((cur - prev) / prev)*100,2))"
   ]
  },
  {
   "cell_type": "code",
   "execution_count": 17,
   "id": "766b70ff-9f13-41da-b7d5-b87bb580a572",
   "metadata": {},
   "outputs": [
    {
     "data": {
      "text/html": [
       "<div>\n",
       "<style scoped>\n",
       "    .dataframe tbody tr th:only-of-type {\n",
       "        vertical-align: middle;\n",
       "    }\n",
       "\n",
       "    .dataframe tbody tr th {\n",
       "        vertical-align: top;\n",
       "    }\n",
       "\n",
       "    .dataframe thead th {\n",
       "        text-align: right;\n",
       "    }\n",
       "</style>\n",
       "<table border=\"1\" class=\"dataframe\">\n",
       "  <thead>\n",
       "    <tr style=\"text-align: right;\">\n",
       "      <th></th>\n",
       "      <th>Country Name</th>\n",
       "      <th>Country Code</th>\n",
       "      <th>Year</th>\n",
       "      <th>Value</th>\n",
       "      <th>GDP</th>\n",
       "    </tr>\n",
       "  </thead>\n",
       "  <tbody>\n",
       "    <tr>\n",
       "      <th>0</th>\n",
       "      <td>Arab World</td>\n",
       "      <td>ARB</td>\n",
       "      <td>1968</td>\n",
       "      <td>2.576068e+10</td>\n",
       "      <td>0.00</td>\n",
       "    </tr>\n",
       "    <tr>\n",
       "      <th>1</th>\n",
       "      <td>Arab World</td>\n",
       "      <td>ARB</td>\n",
       "      <td>1969</td>\n",
       "      <td>2.843420e+10</td>\n",
       "      <td>10.38</td>\n",
       "    </tr>\n",
       "    <tr>\n",
       "      <th>2</th>\n",
       "      <td>Arab World</td>\n",
       "      <td>ARB</td>\n",
       "      <td>1970</td>\n",
       "      <td>3.138550e+10</td>\n",
       "      <td>10.38</td>\n",
       "    </tr>\n",
       "    <tr>\n",
       "      <th>3</th>\n",
       "      <td>Arab World</td>\n",
       "      <td>ARB</td>\n",
       "      <td>1971</td>\n",
       "      <td>3.642691e+10</td>\n",
       "      <td>16.06</td>\n",
       "    </tr>\n",
       "    <tr>\n",
       "      <th>4</th>\n",
       "      <td>Arab World</td>\n",
       "      <td>ARB</td>\n",
       "      <td>1972</td>\n",
       "      <td>4.331606e+10</td>\n",
       "      <td>18.91</td>\n",
       "    </tr>\n",
       "    <tr>\n",
       "      <th>5</th>\n",
       "      <td>Arab World</td>\n",
       "      <td>ARB</td>\n",
       "      <td>1973</td>\n",
       "      <td>5.501839e+10</td>\n",
       "      <td>27.02</td>\n",
       "    </tr>\n",
       "    <tr>\n",
       "      <th>6</th>\n",
       "      <td>Arab World</td>\n",
       "      <td>ARB</td>\n",
       "      <td>1974</td>\n",
       "      <td>1.051458e+11</td>\n",
       "      <td>91.11</td>\n",
       "    </tr>\n",
       "    <tr>\n",
       "      <th>7</th>\n",
       "      <td>Arab World</td>\n",
       "      <td>ARB</td>\n",
       "      <td>1975</td>\n",
       "      <td>1.163370e+11</td>\n",
       "      <td>10.64</td>\n",
       "    </tr>\n",
       "    <tr>\n",
       "      <th>8</th>\n",
       "      <td>Arab World</td>\n",
       "      <td>ARB</td>\n",
       "      <td>1976</td>\n",
       "      <td>1.448462e+11</td>\n",
       "      <td>24.51</td>\n",
       "    </tr>\n",
       "    <tr>\n",
       "      <th>9</th>\n",
       "      <td>Arab World</td>\n",
       "      <td>ARB</td>\n",
       "      <td>1977</td>\n",
       "      <td>1.673083e+11</td>\n",
       "      <td>15.51</td>\n",
       "    </tr>\n",
       "    <tr>\n",
       "      <th>10</th>\n",
       "      <td>Arab World</td>\n",
       "      <td>ARB</td>\n",
       "      <td>1978</td>\n",
       "      <td>1.835555e+11</td>\n",
       "      <td>9.71</td>\n",
       "    </tr>\n",
       "    <tr>\n",
       "      <th>11</th>\n",
       "      <td>Arab World</td>\n",
       "      <td>ARB</td>\n",
       "      <td>1979</td>\n",
       "      <td>2.486462e+11</td>\n",
       "      <td>35.46</td>\n",
       "    </tr>\n",
       "    <tr>\n",
       "      <th>12</th>\n",
       "      <td>Arab World</td>\n",
       "      <td>ARB</td>\n",
       "      <td>1980</td>\n",
       "      <td>3.381775e+11</td>\n",
       "      <td>36.01</td>\n",
       "    </tr>\n",
       "    <tr>\n",
       "      <th>13</th>\n",
       "      <td>Arab World</td>\n",
       "      <td>ARB</td>\n",
       "      <td>1981</td>\n",
       "      <td>3.485928e+11</td>\n",
       "      <td>3.08</td>\n",
       "    </tr>\n",
       "    <tr>\n",
       "      <th>14</th>\n",
       "      <td>Arab World</td>\n",
       "      <td>ARB</td>\n",
       "      <td>1982</td>\n",
       "      <td>3.243288e+11</td>\n",
       "      <td>-6.96</td>\n",
       "    </tr>\n",
       "    <tr>\n",
       "      <th>15</th>\n",
       "      <td>Arab World</td>\n",
       "      <td>ARB</td>\n",
       "      <td>1983</td>\n",
       "      <td>3.039625e+11</td>\n",
       "      <td>-6.28</td>\n",
       "    </tr>\n",
       "    <tr>\n",
       "      <th>16</th>\n",
       "      <td>Arab World</td>\n",
       "      <td>ARB</td>\n",
       "      <td>1984</td>\n",
       "      <td>3.079408e+11</td>\n",
       "      <td>1.31</td>\n",
       "    </tr>\n",
       "    <tr>\n",
       "      <th>17</th>\n",
       "      <td>Arab World</td>\n",
       "      <td>ARB</td>\n",
       "      <td>1985</td>\n",
       "      <td>3.038936e+11</td>\n",
       "      <td>-1.31</td>\n",
       "    </tr>\n",
       "    <tr>\n",
       "      <th>18</th>\n",
       "      <td>Arab World</td>\n",
       "      <td>ARB</td>\n",
       "      <td>1986</td>\n",
       "      <td>2.890292e+11</td>\n",
       "      <td>-4.89</td>\n",
       "    </tr>\n",
       "    <tr>\n",
       "      <th>19</th>\n",
       "      <td>Arab World</td>\n",
       "      <td>ARB</td>\n",
       "      <td>1987</td>\n",
       "      <td>3.126817e+11</td>\n",
       "      <td>8.18</td>\n",
       "    </tr>\n",
       "    <tr>\n",
       "      <th>20</th>\n",
       "      <td>Arab World</td>\n",
       "      <td>ARB</td>\n",
       "      <td>1988</td>\n",
       "      <td>3.075030e+11</td>\n",
       "      <td>-1.66</td>\n",
       "    </tr>\n",
       "    <tr>\n",
       "      <th>21</th>\n",
       "      <td>Arab World</td>\n",
       "      <td>ARB</td>\n",
       "      <td>1989</td>\n",
       "      <td>3.223251e+11</td>\n",
       "      <td>4.82</td>\n",
       "    </tr>\n",
       "    <tr>\n",
       "      <th>22</th>\n",
       "      <td>Arab World</td>\n",
       "      <td>ARB</td>\n",
       "      <td>1990</td>\n",
       "      <td>4.468772e+11</td>\n",
       "      <td>38.64</td>\n",
       "    </tr>\n",
       "    <tr>\n",
       "      <th>23</th>\n",
       "      <td>Arab World</td>\n",
       "      <td>ARB</td>\n",
       "      <td>1991</td>\n",
       "      <td>4.397792e+11</td>\n",
       "      <td>-1.59</td>\n",
       "    </tr>\n",
       "    <tr>\n",
       "      <th>24</th>\n",
       "      <td>Arab World</td>\n",
       "      <td>ARB</td>\n",
       "      <td>1992</td>\n",
       "      <td>4.711635e+11</td>\n",
       "      <td>7.14</td>\n",
       "    </tr>\n",
       "    <tr>\n",
       "      <th>25</th>\n",
       "      <td>Arab World</td>\n",
       "      <td>ARB</td>\n",
       "      <td>1993</td>\n",
       "      <td>4.765136e+11</td>\n",
       "      <td>1.14</td>\n",
       "    </tr>\n",
       "    <tr>\n",
       "      <th>26</th>\n",
       "      <td>Arab World</td>\n",
       "      <td>ARB</td>\n",
       "      <td>1994</td>\n",
       "      <td>4.875269e+11</td>\n",
       "      <td>2.31</td>\n",
       "    </tr>\n",
       "    <tr>\n",
       "      <th>27</th>\n",
       "      <td>Arab World</td>\n",
       "      <td>ARB</td>\n",
       "      <td>1995</td>\n",
       "      <td>5.237599e+11</td>\n",
       "      <td>7.43</td>\n",
       "    </tr>\n",
       "    <tr>\n",
       "      <th>28</th>\n",
       "      <td>Arab World</td>\n",
       "      <td>ARB</td>\n",
       "      <td>1996</td>\n",
       "      <td>5.782313e+11</td>\n",
       "      <td>10.40</td>\n",
       "    </tr>\n",
       "    <tr>\n",
       "      <th>29</th>\n",
       "      <td>Arab World</td>\n",
       "      <td>ARB</td>\n",
       "      <td>1997</td>\n",
       "      <td>6.132795e+11</td>\n",
       "      <td>6.06</td>\n",
       "    </tr>\n",
       "    <tr>\n",
       "      <th>30</th>\n",
       "      <td>Arab World</td>\n",
       "      <td>ARB</td>\n",
       "      <td>1998</td>\n",
       "      <td>5.915256e+11</td>\n",
       "      <td>-3.55</td>\n",
       "    </tr>\n",
       "    <tr>\n",
       "      <th>31</th>\n",
       "      <td>Arab World</td>\n",
       "      <td>ARB</td>\n",
       "      <td>1999</td>\n",
       "      <td>6.438897e+11</td>\n",
       "      <td>8.85</td>\n",
       "    </tr>\n",
       "    <tr>\n",
       "      <th>32</th>\n",
       "      <td>Arab World</td>\n",
       "      <td>ARB</td>\n",
       "      <td>2000</td>\n",
       "      <td>7.350251e+11</td>\n",
       "      <td>14.15</td>\n",
       "    </tr>\n",
       "    <tr>\n",
       "      <th>33</th>\n",
       "      <td>Arab World</td>\n",
       "      <td>ARB</td>\n",
       "      <td>2001</td>\n",
       "      <td>7.232828e+11</td>\n",
       "      <td>-1.60</td>\n",
       "    </tr>\n",
       "    <tr>\n",
       "      <th>34</th>\n",
       "      <td>Arab World</td>\n",
       "      <td>ARB</td>\n",
       "      <td>2002</td>\n",
       "      <td>7.290517e+11</td>\n",
       "      <td>0.80</td>\n",
       "    </tr>\n",
       "    <tr>\n",
       "      <th>35</th>\n",
       "      <td>Arab World</td>\n",
       "      <td>ARB</td>\n",
       "      <td>2003</td>\n",
       "      <td>8.231105e+11</td>\n",
       "      <td>12.90</td>\n",
       "    </tr>\n",
       "    <tr>\n",
       "      <th>36</th>\n",
       "      <td>Arab World</td>\n",
       "      <td>ARB</td>\n",
       "      <td>2004</td>\n",
       "      <td>9.638623e+11</td>\n",
       "      <td>17.10</td>\n",
       "    </tr>\n",
       "    <tr>\n",
       "      <th>37</th>\n",
       "      <td>Arab World</td>\n",
       "      <td>ARB</td>\n",
       "      <td>2005</td>\n",
       "      <td>1.184662e+12</td>\n",
       "      <td>22.91</td>\n",
       "    </tr>\n",
       "    <tr>\n",
       "      <th>38</th>\n",
       "      <td>Arab World</td>\n",
       "      <td>ARB</td>\n",
       "      <td>2006</td>\n",
       "      <td>1.404114e+12</td>\n",
       "      <td>18.52</td>\n",
       "    </tr>\n",
       "    <tr>\n",
       "      <th>39</th>\n",
       "      <td>Arab World</td>\n",
       "      <td>ARB</td>\n",
       "      <td>2007</td>\n",
       "      <td>1.637573e+12</td>\n",
       "      <td>16.63</td>\n",
       "    </tr>\n",
       "    <tr>\n",
       "      <th>40</th>\n",
       "      <td>Arab World</td>\n",
       "      <td>ARB</td>\n",
       "      <td>2008</td>\n",
       "      <td>2.078116e+12</td>\n",
       "      <td>26.90</td>\n",
       "    </tr>\n",
       "    <tr>\n",
       "      <th>41</th>\n",
       "      <td>Arab World</td>\n",
       "      <td>ARB</td>\n",
       "      <td>2009</td>\n",
       "      <td>1.795820e+12</td>\n",
       "      <td>-13.58</td>\n",
       "    </tr>\n",
       "    <tr>\n",
       "      <th>42</th>\n",
       "      <td>Arab World</td>\n",
       "      <td>ARB</td>\n",
       "      <td>2010</td>\n",
       "      <td>2.109646e+12</td>\n",
       "      <td>17.48</td>\n",
       "    </tr>\n",
       "    <tr>\n",
       "      <th>43</th>\n",
       "      <td>Arab World</td>\n",
       "      <td>ARB</td>\n",
       "      <td>2011</td>\n",
       "      <td>2.501554e+12</td>\n",
       "      <td>18.58</td>\n",
       "    </tr>\n",
       "    <tr>\n",
       "      <th>44</th>\n",
       "      <td>Arab World</td>\n",
       "      <td>ARB</td>\n",
       "      <td>2012</td>\n",
       "      <td>2.741239e+12</td>\n",
       "      <td>9.58</td>\n",
       "    </tr>\n",
       "    <tr>\n",
       "      <th>45</th>\n",
       "      <td>Arab World</td>\n",
       "      <td>ARB</td>\n",
       "      <td>2013</td>\n",
       "      <td>2.839627e+12</td>\n",
       "      <td>3.59</td>\n",
       "    </tr>\n",
       "    <tr>\n",
       "      <th>46</th>\n",
       "      <td>Arab World</td>\n",
       "      <td>ARB</td>\n",
       "      <td>2014</td>\n",
       "      <td>2.906616e+12</td>\n",
       "      <td>2.36</td>\n",
       "    </tr>\n",
       "    <tr>\n",
       "      <th>47</th>\n",
       "      <td>Arab World</td>\n",
       "      <td>ARB</td>\n",
       "      <td>2015</td>\n",
       "      <td>2.563302e+12</td>\n",
       "      <td>-11.81</td>\n",
       "    </tr>\n",
       "    <tr>\n",
       "      <th>48</th>\n",
       "      <td>Arab World</td>\n",
       "      <td>ARB</td>\n",
       "      <td>2016</td>\n",
       "      <td>2.504703e+12</td>\n",
       "      <td>-2.29</td>\n",
       "    </tr>\n",
       "  </tbody>\n",
       "</table>\n",
       "</div>"
      ],
      "text/plain": [
       "   Country Name Country Code  Year         Value    GDP\n",
       "0    Arab World          ARB  1968  2.576068e+10   0.00\n",
       "1    Arab World          ARB  1969  2.843420e+10  10.38\n",
       "2    Arab World          ARB  1970  3.138550e+10  10.38\n",
       "3    Arab World          ARB  1971  3.642691e+10  16.06\n",
       "4    Arab World          ARB  1972  4.331606e+10  18.91\n",
       "5    Arab World          ARB  1973  5.501839e+10  27.02\n",
       "6    Arab World          ARB  1974  1.051458e+11  91.11\n",
       "7    Arab World          ARB  1975  1.163370e+11  10.64\n",
       "8    Arab World          ARB  1976  1.448462e+11  24.51\n",
       "9    Arab World          ARB  1977  1.673083e+11  15.51\n",
       "10   Arab World          ARB  1978  1.835555e+11   9.71\n",
       "11   Arab World          ARB  1979  2.486462e+11  35.46\n",
       "12   Arab World          ARB  1980  3.381775e+11  36.01\n",
       "13   Arab World          ARB  1981  3.485928e+11   3.08\n",
       "14   Arab World          ARB  1982  3.243288e+11  -6.96\n",
       "15   Arab World          ARB  1983  3.039625e+11  -6.28\n",
       "16   Arab World          ARB  1984  3.079408e+11   1.31\n",
       "17   Arab World          ARB  1985  3.038936e+11  -1.31\n",
       "18   Arab World          ARB  1986  2.890292e+11  -4.89\n",
       "19   Arab World          ARB  1987  3.126817e+11   8.18\n",
       "20   Arab World          ARB  1988  3.075030e+11  -1.66\n",
       "21   Arab World          ARB  1989  3.223251e+11   4.82\n",
       "22   Arab World          ARB  1990  4.468772e+11  38.64\n",
       "23   Arab World          ARB  1991  4.397792e+11  -1.59\n",
       "24   Arab World          ARB  1992  4.711635e+11   7.14\n",
       "25   Arab World          ARB  1993  4.765136e+11   1.14\n",
       "26   Arab World          ARB  1994  4.875269e+11   2.31\n",
       "27   Arab World          ARB  1995  5.237599e+11   7.43\n",
       "28   Arab World          ARB  1996  5.782313e+11  10.40\n",
       "29   Arab World          ARB  1997  6.132795e+11   6.06\n",
       "30   Arab World          ARB  1998  5.915256e+11  -3.55\n",
       "31   Arab World          ARB  1999  6.438897e+11   8.85\n",
       "32   Arab World          ARB  2000  7.350251e+11  14.15\n",
       "33   Arab World          ARB  2001  7.232828e+11  -1.60\n",
       "34   Arab World          ARB  2002  7.290517e+11   0.80\n",
       "35   Arab World          ARB  2003  8.231105e+11  12.90\n",
       "36   Arab World          ARB  2004  9.638623e+11  17.10\n",
       "37   Arab World          ARB  2005  1.184662e+12  22.91\n",
       "38   Arab World          ARB  2006  1.404114e+12  18.52\n",
       "39   Arab World          ARB  2007  1.637573e+12  16.63\n",
       "40   Arab World          ARB  2008  2.078116e+12  26.90\n",
       "41   Arab World          ARB  2009  1.795820e+12 -13.58\n",
       "42   Arab World          ARB  2010  2.109646e+12  17.48\n",
       "43   Arab World          ARB  2011  2.501554e+12  18.58\n",
       "44   Arab World          ARB  2012  2.741239e+12   9.58\n",
       "45   Arab World          ARB  2013  2.839627e+12   3.59\n",
       "46   Arab World          ARB  2014  2.906616e+12   2.36\n",
       "47   Arab World          ARB  2015  2.563302e+12 -11.81\n",
       "48   Arab World          ARB  2016  2.504703e+12  -2.29"
      ]
     },
     "execution_count": 17,
     "metadata": {},
     "output_type": "execute_result"
    }
   ],
   "source": [
    "df_pr.assign(GDP = gdp_change)"
   ]
  },
  {
   "cell_type": "markdown",
   "id": "0d841a48-ae00-4373-963c-0c682089eddb",
   "metadata": {},
   "source": [
    "## Finding GDP Growth of a country"
   ]
  },
  {
   "cell_type": "code",
   "execution_count": 18,
   "id": "e368486c-859f-4693-8045-2117b3666092",
   "metadata": {},
   "outputs": [],
   "source": [
    "df_pr = df[df['Country Name'] == 'Arab World']\n",
    "\n",
    "data = df_pr.values\n",
    "\n",
    "gdp_change = [0]\n",
    "\n",
    "for i in range(1,len(data)):\n",
    "    \n",
    "    prev = data[i-1][3]\n",
    "    cur = data[i][3]\n",
    "    \n",
    "    gdp_change.append(round(((cur - prev) / prev)*100,2))\n",
    "    \n",
    "df_pr = df_pr.assign(GDP = gdp_change)"
   ]
  },
  {
   "cell_type": "code",
   "execution_count": 19,
   "id": "96a6953b-ebd1-4cb6-854a-ac660c5de463",
   "metadata": {},
   "outputs": [
    {
     "data": {
      "text/html": [
       "<div>\n",
       "<style scoped>\n",
       "    .dataframe tbody tr th:only-of-type {\n",
       "        vertical-align: middle;\n",
       "    }\n",
       "\n",
       "    .dataframe tbody tr th {\n",
       "        vertical-align: top;\n",
       "    }\n",
       "\n",
       "    .dataframe thead th {\n",
       "        text-align: right;\n",
       "    }\n",
       "</style>\n",
       "<table border=\"1\" class=\"dataframe\">\n",
       "  <thead>\n",
       "    <tr style=\"text-align: right;\">\n",
       "      <th></th>\n",
       "      <th>Country Name</th>\n",
       "      <th>Country Code</th>\n",
       "      <th>Year</th>\n",
       "      <th>Value</th>\n",
       "      <th>GDP</th>\n",
       "    </tr>\n",
       "  </thead>\n",
       "  <tbody>\n",
       "    <tr>\n",
       "      <th>0</th>\n",
       "      <td>Arab World</td>\n",
       "      <td>ARB</td>\n",
       "      <td>1968</td>\n",
       "      <td>2.576068e+10</td>\n",
       "      <td>0.00</td>\n",
       "    </tr>\n",
       "    <tr>\n",
       "      <th>1</th>\n",
       "      <td>Arab World</td>\n",
       "      <td>ARB</td>\n",
       "      <td>1969</td>\n",
       "      <td>2.843420e+10</td>\n",
       "      <td>10.38</td>\n",
       "    </tr>\n",
       "    <tr>\n",
       "      <th>2</th>\n",
       "      <td>Arab World</td>\n",
       "      <td>ARB</td>\n",
       "      <td>1970</td>\n",
       "      <td>3.138550e+10</td>\n",
       "      <td>10.38</td>\n",
       "    </tr>\n",
       "    <tr>\n",
       "      <th>3</th>\n",
       "      <td>Arab World</td>\n",
       "      <td>ARB</td>\n",
       "      <td>1971</td>\n",
       "      <td>3.642691e+10</td>\n",
       "      <td>16.06</td>\n",
       "    </tr>\n",
       "    <tr>\n",
       "      <th>4</th>\n",
       "      <td>Arab World</td>\n",
       "      <td>ARB</td>\n",
       "      <td>1972</td>\n",
       "      <td>4.331606e+10</td>\n",
       "      <td>18.91</td>\n",
       "    </tr>\n",
       "    <tr>\n",
       "      <th>5</th>\n",
       "      <td>Arab World</td>\n",
       "      <td>ARB</td>\n",
       "      <td>1973</td>\n",
       "      <td>5.501839e+10</td>\n",
       "      <td>27.02</td>\n",
       "    </tr>\n",
       "    <tr>\n",
       "      <th>6</th>\n",
       "      <td>Arab World</td>\n",
       "      <td>ARB</td>\n",
       "      <td>1974</td>\n",
       "      <td>1.051458e+11</td>\n",
       "      <td>91.11</td>\n",
       "    </tr>\n",
       "    <tr>\n",
       "      <th>7</th>\n",
       "      <td>Arab World</td>\n",
       "      <td>ARB</td>\n",
       "      <td>1975</td>\n",
       "      <td>1.163370e+11</td>\n",
       "      <td>10.64</td>\n",
       "    </tr>\n",
       "    <tr>\n",
       "      <th>8</th>\n",
       "      <td>Arab World</td>\n",
       "      <td>ARB</td>\n",
       "      <td>1976</td>\n",
       "      <td>1.448462e+11</td>\n",
       "      <td>24.51</td>\n",
       "    </tr>\n",
       "    <tr>\n",
       "      <th>9</th>\n",
       "      <td>Arab World</td>\n",
       "      <td>ARB</td>\n",
       "      <td>1977</td>\n",
       "      <td>1.673083e+11</td>\n",
       "      <td>15.51</td>\n",
       "    </tr>\n",
       "    <tr>\n",
       "      <th>10</th>\n",
       "      <td>Arab World</td>\n",
       "      <td>ARB</td>\n",
       "      <td>1978</td>\n",
       "      <td>1.835555e+11</td>\n",
       "      <td>9.71</td>\n",
       "    </tr>\n",
       "    <tr>\n",
       "      <th>11</th>\n",
       "      <td>Arab World</td>\n",
       "      <td>ARB</td>\n",
       "      <td>1979</td>\n",
       "      <td>2.486462e+11</td>\n",
       "      <td>35.46</td>\n",
       "    </tr>\n",
       "    <tr>\n",
       "      <th>12</th>\n",
       "      <td>Arab World</td>\n",
       "      <td>ARB</td>\n",
       "      <td>1980</td>\n",
       "      <td>3.381775e+11</td>\n",
       "      <td>36.01</td>\n",
       "    </tr>\n",
       "    <tr>\n",
       "      <th>13</th>\n",
       "      <td>Arab World</td>\n",
       "      <td>ARB</td>\n",
       "      <td>1981</td>\n",
       "      <td>3.485928e+11</td>\n",
       "      <td>3.08</td>\n",
       "    </tr>\n",
       "    <tr>\n",
       "      <th>14</th>\n",
       "      <td>Arab World</td>\n",
       "      <td>ARB</td>\n",
       "      <td>1982</td>\n",
       "      <td>3.243288e+11</td>\n",
       "      <td>-6.96</td>\n",
       "    </tr>\n",
       "    <tr>\n",
       "      <th>15</th>\n",
       "      <td>Arab World</td>\n",
       "      <td>ARB</td>\n",
       "      <td>1983</td>\n",
       "      <td>3.039625e+11</td>\n",
       "      <td>-6.28</td>\n",
       "    </tr>\n",
       "    <tr>\n",
       "      <th>16</th>\n",
       "      <td>Arab World</td>\n",
       "      <td>ARB</td>\n",
       "      <td>1984</td>\n",
       "      <td>3.079408e+11</td>\n",
       "      <td>1.31</td>\n",
       "    </tr>\n",
       "    <tr>\n",
       "      <th>17</th>\n",
       "      <td>Arab World</td>\n",
       "      <td>ARB</td>\n",
       "      <td>1985</td>\n",
       "      <td>3.038936e+11</td>\n",
       "      <td>-1.31</td>\n",
       "    </tr>\n",
       "    <tr>\n",
       "      <th>18</th>\n",
       "      <td>Arab World</td>\n",
       "      <td>ARB</td>\n",
       "      <td>1986</td>\n",
       "      <td>2.890292e+11</td>\n",
       "      <td>-4.89</td>\n",
       "    </tr>\n",
       "    <tr>\n",
       "      <th>19</th>\n",
       "      <td>Arab World</td>\n",
       "      <td>ARB</td>\n",
       "      <td>1987</td>\n",
       "      <td>3.126817e+11</td>\n",
       "      <td>8.18</td>\n",
       "    </tr>\n",
       "    <tr>\n",
       "      <th>20</th>\n",
       "      <td>Arab World</td>\n",
       "      <td>ARB</td>\n",
       "      <td>1988</td>\n",
       "      <td>3.075030e+11</td>\n",
       "      <td>-1.66</td>\n",
       "    </tr>\n",
       "    <tr>\n",
       "      <th>21</th>\n",
       "      <td>Arab World</td>\n",
       "      <td>ARB</td>\n",
       "      <td>1989</td>\n",
       "      <td>3.223251e+11</td>\n",
       "      <td>4.82</td>\n",
       "    </tr>\n",
       "    <tr>\n",
       "      <th>22</th>\n",
       "      <td>Arab World</td>\n",
       "      <td>ARB</td>\n",
       "      <td>1990</td>\n",
       "      <td>4.468772e+11</td>\n",
       "      <td>38.64</td>\n",
       "    </tr>\n",
       "    <tr>\n",
       "      <th>23</th>\n",
       "      <td>Arab World</td>\n",
       "      <td>ARB</td>\n",
       "      <td>1991</td>\n",
       "      <td>4.397792e+11</td>\n",
       "      <td>-1.59</td>\n",
       "    </tr>\n",
       "    <tr>\n",
       "      <th>24</th>\n",
       "      <td>Arab World</td>\n",
       "      <td>ARB</td>\n",
       "      <td>1992</td>\n",
       "      <td>4.711635e+11</td>\n",
       "      <td>7.14</td>\n",
       "    </tr>\n",
       "    <tr>\n",
       "      <th>25</th>\n",
       "      <td>Arab World</td>\n",
       "      <td>ARB</td>\n",
       "      <td>1993</td>\n",
       "      <td>4.765136e+11</td>\n",
       "      <td>1.14</td>\n",
       "    </tr>\n",
       "    <tr>\n",
       "      <th>26</th>\n",
       "      <td>Arab World</td>\n",
       "      <td>ARB</td>\n",
       "      <td>1994</td>\n",
       "      <td>4.875269e+11</td>\n",
       "      <td>2.31</td>\n",
       "    </tr>\n",
       "    <tr>\n",
       "      <th>27</th>\n",
       "      <td>Arab World</td>\n",
       "      <td>ARB</td>\n",
       "      <td>1995</td>\n",
       "      <td>5.237599e+11</td>\n",
       "      <td>7.43</td>\n",
       "    </tr>\n",
       "    <tr>\n",
       "      <th>28</th>\n",
       "      <td>Arab World</td>\n",
       "      <td>ARB</td>\n",
       "      <td>1996</td>\n",
       "      <td>5.782313e+11</td>\n",
       "      <td>10.40</td>\n",
       "    </tr>\n",
       "    <tr>\n",
       "      <th>29</th>\n",
       "      <td>Arab World</td>\n",
       "      <td>ARB</td>\n",
       "      <td>1997</td>\n",
       "      <td>6.132795e+11</td>\n",
       "      <td>6.06</td>\n",
       "    </tr>\n",
       "    <tr>\n",
       "      <th>30</th>\n",
       "      <td>Arab World</td>\n",
       "      <td>ARB</td>\n",
       "      <td>1998</td>\n",
       "      <td>5.915256e+11</td>\n",
       "      <td>-3.55</td>\n",
       "    </tr>\n",
       "    <tr>\n",
       "      <th>31</th>\n",
       "      <td>Arab World</td>\n",
       "      <td>ARB</td>\n",
       "      <td>1999</td>\n",
       "      <td>6.438897e+11</td>\n",
       "      <td>8.85</td>\n",
       "    </tr>\n",
       "    <tr>\n",
       "      <th>32</th>\n",
       "      <td>Arab World</td>\n",
       "      <td>ARB</td>\n",
       "      <td>2000</td>\n",
       "      <td>7.350251e+11</td>\n",
       "      <td>14.15</td>\n",
       "    </tr>\n",
       "    <tr>\n",
       "      <th>33</th>\n",
       "      <td>Arab World</td>\n",
       "      <td>ARB</td>\n",
       "      <td>2001</td>\n",
       "      <td>7.232828e+11</td>\n",
       "      <td>-1.60</td>\n",
       "    </tr>\n",
       "    <tr>\n",
       "      <th>34</th>\n",
       "      <td>Arab World</td>\n",
       "      <td>ARB</td>\n",
       "      <td>2002</td>\n",
       "      <td>7.290517e+11</td>\n",
       "      <td>0.80</td>\n",
       "    </tr>\n",
       "    <tr>\n",
       "      <th>35</th>\n",
       "      <td>Arab World</td>\n",
       "      <td>ARB</td>\n",
       "      <td>2003</td>\n",
       "      <td>8.231105e+11</td>\n",
       "      <td>12.90</td>\n",
       "    </tr>\n",
       "    <tr>\n",
       "      <th>36</th>\n",
       "      <td>Arab World</td>\n",
       "      <td>ARB</td>\n",
       "      <td>2004</td>\n",
       "      <td>9.638623e+11</td>\n",
       "      <td>17.10</td>\n",
       "    </tr>\n",
       "    <tr>\n",
       "      <th>37</th>\n",
       "      <td>Arab World</td>\n",
       "      <td>ARB</td>\n",
       "      <td>2005</td>\n",
       "      <td>1.184662e+12</td>\n",
       "      <td>22.91</td>\n",
       "    </tr>\n",
       "    <tr>\n",
       "      <th>38</th>\n",
       "      <td>Arab World</td>\n",
       "      <td>ARB</td>\n",
       "      <td>2006</td>\n",
       "      <td>1.404114e+12</td>\n",
       "      <td>18.52</td>\n",
       "    </tr>\n",
       "    <tr>\n",
       "      <th>39</th>\n",
       "      <td>Arab World</td>\n",
       "      <td>ARB</td>\n",
       "      <td>2007</td>\n",
       "      <td>1.637573e+12</td>\n",
       "      <td>16.63</td>\n",
       "    </tr>\n",
       "    <tr>\n",
       "      <th>40</th>\n",
       "      <td>Arab World</td>\n",
       "      <td>ARB</td>\n",
       "      <td>2008</td>\n",
       "      <td>2.078116e+12</td>\n",
       "      <td>26.90</td>\n",
       "    </tr>\n",
       "    <tr>\n",
       "      <th>41</th>\n",
       "      <td>Arab World</td>\n",
       "      <td>ARB</td>\n",
       "      <td>2009</td>\n",
       "      <td>1.795820e+12</td>\n",
       "      <td>-13.58</td>\n",
       "    </tr>\n",
       "    <tr>\n",
       "      <th>42</th>\n",
       "      <td>Arab World</td>\n",
       "      <td>ARB</td>\n",
       "      <td>2010</td>\n",
       "      <td>2.109646e+12</td>\n",
       "      <td>17.48</td>\n",
       "    </tr>\n",
       "    <tr>\n",
       "      <th>43</th>\n",
       "      <td>Arab World</td>\n",
       "      <td>ARB</td>\n",
       "      <td>2011</td>\n",
       "      <td>2.501554e+12</td>\n",
       "      <td>18.58</td>\n",
       "    </tr>\n",
       "    <tr>\n",
       "      <th>44</th>\n",
       "      <td>Arab World</td>\n",
       "      <td>ARB</td>\n",
       "      <td>2012</td>\n",
       "      <td>2.741239e+12</td>\n",
       "      <td>9.58</td>\n",
       "    </tr>\n",
       "    <tr>\n",
       "      <th>45</th>\n",
       "      <td>Arab World</td>\n",
       "      <td>ARB</td>\n",
       "      <td>2013</td>\n",
       "      <td>2.839627e+12</td>\n",
       "      <td>3.59</td>\n",
       "    </tr>\n",
       "    <tr>\n",
       "      <th>46</th>\n",
       "      <td>Arab World</td>\n",
       "      <td>ARB</td>\n",
       "      <td>2014</td>\n",
       "      <td>2.906616e+12</td>\n",
       "      <td>2.36</td>\n",
       "    </tr>\n",
       "    <tr>\n",
       "      <th>47</th>\n",
       "      <td>Arab World</td>\n",
       "      <td>ARB</td>\n",
       "      <td>2015</td>\n",
       "      <td>2.563302e+12</td>\n",
       "      <td>-11.81</td>\n",
       "    </tr>\n",
       "    <tr>\n",
       "      <th>48</th>\n",
       "      <td>Arab World</td>\n",
       "      <td>ARB</td>\n",
       "      <td>2016</td>\n",
       "      <td>2.504703e+12</td>\n",
       "      <td>-2.29</td>\n",
       "    </tr>\n",
       "  </tbody>\n",
       "</table>\n",
       "</div>"
      ],
      "text/plain": [
       "   Country Name Country Code  Year         Value    GDP\n",
       "0    Arab World          ARB  1968  2.576068e+10   0.00\n",
       "1    Arab World          ARB  1969  2.843420e+10  10.38\n",
       "2    Arab World          ARB  1970  3.138550e+10  10.38\n",
       "3    Arab World          ARB  1971  3.642691e+10  16.06\n",
       "4    Arab World          ARB  1972  4.331606e+10  18.91\n",
       "5    Arab World          ARB  1973  5.501839e+10  27.02\n",
       "6    Arab World          ARB  1974  1.051458e+11  91.11\n",
       "7    Arab World          ARB  1975  1.163370e+11  10.64\n",
       "8    Arab World          ARB  1976  1.448462e+11  24.51\n",
       "9    Arab World          ARB  1977  1.673083e+11  15.51\n",
       "10   Arab World          ARB  1978  1.835555e+11   9.71\n",
       "11   Arab World          ARB  1979  2.486462e+11  35.46\n",
       "12   Arab World          ARB  1980  3.381775e+11  36.01\n",
       "13   Arab World          ARB  1981  3.485928e+11   3.08\n",
       "14   Arab World          ARB  1982  3.243288e+11  -6.96\n",
       "15   Arab World          ARB  1983  3.039625e+11  -6.28\n",
       "16   Arab World          ARB  1984  3.079408e+11   1.31\n",
       "17   Arab World          ARB  1985  3.038936e+11  -1.31\n",
       "18   Arab World          ARB  1986  2.890292e+11  -4.89\n",
       "19   Arab World          ARB  1987  3.126817e+11   8.18\n",
       "20   Arab World          ARB  1988  3.075030e+11  -1.66\n",
       "21   Arab World          ARB  1989  3.223251e+11   4.82\n",
       "22   Arab World          ARB  1990  4.468772e+11  38.64\n",
       "23   Arab World          ARB  1991  4.397792e+11  -1.59\n",
       "24   Arab World          ARB  1992  4.711635e+11   7.14\n",
       "25   Arab World          ARB  1993  4.765136e+11   1.14\n",
       "26   Arab World          ARB  1994  4.875269e+11   2.31\n",
       "27   Arab World          ARB  1995  5.237599e+11   7.43\n",
       "28   Arab World          ARB  1996  5.782313e+11  10.40\n",
       "29   Arab World          ARB  1997  6.132795e+11   6.06\n",
       "30   Arab World          ARB  1998  5.915256e+11  -3.55\n",
       "31   Arab World          ARB  1999  6.438897e+11   8.85\n",
       "32   Arab World          ARB  2000  7.350251e+11  14.15\n",
       "33   Arab World          ARB  2001  7.232828e+11  -1.60\n",
       "34   Arab World          ARB  2002  7.290517e+11   0.80\n",
       "35   Arab World          ARB  2003  8.231105e+11  12.90\n",
       "36   Arab World          ARB  2004  9.638623e+11  17.10\n",
       "37   Arab World          ARB  2005  1.184662e+12  22.91\n",
       "38   Arab World          ARB  2006  1.404114e+12  18.52\n",
       "39   Arab World          ARB  2007  1.637573e+12  16.63\n",
       "40   Arab World          ARB  2008  2.078116e+12  26.90\n",
       "41   Arab World          ARB  2009  1.795820e+12 -13.58\n",
       "42   Arab World          ARB  2010  2.109646e+12  17.48\n",
       "43   Arab World          ARB  2011  2.501554e+12  18.58\n",
       "44   Arab World          ARB  2012  2.741239e+12   9.58\n",
       "45   Arab World          ARB  2013  2.839627e+12   3.59\n",
       "46   Arab World          ARB  2014  2.906616e+12   2.36\n",
       "47   Arab World          ARB  2015  2.563302e+12 -11.81\n",
       "48   Arab World          ARB  2016  2.504703e+12  -2.29"
      ]
     },
     "execution_count": 19,
     "metadata": {},
     "output_type": "execute_result"
    }
   ],
   "source": [
    "df_pr"
   ]
  },
  {
   "cell_type": "markdown",
   "id": "881ac541-7b5f-47cf-b230-1b882159be01",
   "metadata": {},
   "source": [
    "## Finding GDP Growth of Every country"
   ]
  },
  {
   "cell_type": "code",
   "execution_count": 20,
   "id": "71d82f3f-e681-4a09-a1c4-4bbc42616eb8",
   "metadata": {},
   "outputs": [],
   "source": [
    "final_data = []\n",
    "\n",
    "for country_name in df['Country Name'].unique():\n",
    "    \n",
    "    df_pr = df[df['Country Name'] == country_name]\n",
    "\n",
    "    data = df_pr.values\n",
    "    gdp_change = [0]\n",
    "\n",
    "    for i in range(1,len(data)):\n",
    "\n",
    "        prev = data[i-1][3]\n",
    "        cur = data[i][3]\n",
    "\n",
    "        gdp_change.append(round(((cur - prev) / prev)*100,2))\n",
    "\n",
    "    df_pr = df_pr.assign(GDP = gdp_change)\n",
    "    final_data.append(df_pr)"
   ]
  },
  {
   "cell_type": "code",
   "execution_count": 21,
   "id": "f96769e2-a143-4b72-97cb-0f600c1fe90f",
   "metadata": {},
   "outputs": [],
   "source": [
    "df = pd.concat(final_data, axis = 0)"
   ]
  },
  {
   "cell_type": "code",
   "execution_count": 22,
   "id": "07b6eb11-22aa-4009-bedf-0044f484f311",
   "metadata": {},
   "outputs": [
    {
     "data": {
      "text/html": [
       "<div>\n",
       "<style scoped>\n",
       "    .dataframe tbody tr th:only-of-type {\n",
       "        vertical-align: middle;\n",
       "    }\n",
       "\n",
       "    .dataframe tbody tr th {\n",
       "        vertical-align: top;\n",
       "    }\n",
       "\n",
       "    .dataframe thead th {\n",
       "        text-align: right;\n",
       "    }\n",
       "</style>\n",
       "<table border=\"1\" class=\"dataframe\">\n",
       "  <thead>\n",
       "    <tr style=\"text-align: right;\">\n",
       "      <th></th>\n",
       "      <th>Country Name</th>\n",
       "      <th>Country Code</th>\n",
       "      <th>Year</th>\n",
       "      <th>Value</th>\n",
       "      <th>GDP</th>\n",
       "    </tr>\n",
       "  </thead>\n",
       "  <tbody>\n",
       "    <tr>\n",
       "      <th>0</th>\n",
       "      <td>Arab World</td>\n",
       "      <td>ARB</td>\n",
       "      <td>1968</td>\n",
       "      <td>2.576068e+10</td>\n",
       "      <td>0.00</td>\n",
       "    </tr>\n",
       "    <tr>\n",
       "      <th>1</th>\n",
       "      <td>Arab World</td>\n",
       "      <td>ARB</td>\n",
       "      <td>1969</td>\n",
       "      <td>2.843420e+10</td>\n",
       "      <td>10.38</td>\n",
       "    </tr>\n",
       "    <tr>\n",
       "      <th>2</th>\n",
       "      <td>Arab World</td>\n",
       "      <td>ARB</td>\n",
       "      <td>1970</td>\n",
       "      <td>3.138550e+10</td>\n",
       "      <td>10.38</td>\n",
       "    </tr>\n",
       "    <tr>\n",
       "      <th>3</th>\n",
       "      <td>Arab World</td>\n",
       "      <td>ARB</td>\n",
       "      <td>1971</td>\n",
       "      <td>3.642691e+10</td>\n",
       "      <td>16.06</td>\n",
       "    </tr>\n",
       "    <tr>\n",
       "      <th>4</th>\n",
       "      <td>Arab World</td>\n",
       "      <td>ARB</td>\n",
       "      <td>1972</td>\n",
       "      <td>4.331606e+10</td>\n",
       "      <td>18.91</td>\n",
       "    </tr>\n",
       "  </tbody>\n",
       "</table>\n",
       "</div>"
      ],
      "text/plain": [
       "  Country Name Country Code  Year         Value    GDP\n",
       "0   Arab World          ARB  1968  2.576068e+10   0.00\n",
       "1   Arab World          ARB  1969  2.843420e+10  10.38\n",
       "2   Arab World          ARB  1970  3.138550e+10  10.38\n",
       "3   Arab World          ARB  1971  3.642691e+10  16.06\n",
       "4   Arab World          ARB  1972  4.331606e+10  18.91"
      ]
     },
     "execution_count": 22,
     "metadata": {},
     "output_type": "execute_result"
    }
   ],
   "source": [
    "df.head()"
   ]
  },
  {
   "cell_type": "code",
   "execution_count": 23,
   "id": "c419f9b9-81f8-4188-9adb-c1b1cb99c2ba",
   "metadata": {},
   "outputs": [
    {
     "data": {
      "text/plain": [
       "Country Name\n",
       "World                                                   7.904923e+13\n",
       "High income                                             5.036240e+13\n",
       "OECD members                                            4.937008e+13\n",
       "Post-demographic dividend                               4.673504e+13\n",
       "IDA & IBRD total                                        2.948247e+13\n",
       "Low & middle income                                     2.870476e+13\n",
       "Middle income                                           2.829277e+13\n",
       "IBRD only                                               2.739661e+13\n",
       "Europe & Central Asia                                   2.365470e+13\n",
       "East Asia & Pacific                                     2.248043e+13\n",
       "Upper middle income                                     2.221220e+13\n",
       "North America                                           2.016030e+13\n",
       "Late-demographic dividend                               1.970310e+13\n",
       "European Union                                          1.913667e+13\n",
       "United States                                           1.862448e+13\n",
       "Euro area                                               1.411818e+13\n",
       "East Asia & Pacific (excluding high income)             1.351244e+13\n",
       "East Asia & Pacific (IDA & IBRD countries)              1.348649e+13\n",
       "China                                                   1.119915e+13\n",
       "Early-demographic dividend                              1.052987e+13\n",
       "Latin America & Caribbean                               6.391550e+12\n",
       "Lower middle income                                     6.263373e+12\n",
       "Japan                                                   6.203213e+12\n",
       "Latin America & the Caribbean (IDA & IBRD countries)    6.171392e+12\n",
       "Latin America & Caribbean (excluding high income)       5.905518e+12\n",
       "Europe & Central Asia (IDA & IBRD countries)            4.893444e+12\n",
       "Europe & Central Asia (excluding high income)           4.369243e+12\n",
       "Germany                                                 3.890607e+12\n",
       "Middle East & North Africa                              3.563559e+12\n",
       "United Kingdom                                          3.074360e+12\n",
       "France                                                  2.923466e+12\n",
       "Arab World                                              2.906616e+12\n",
       "South Asia (IDA & IBRD)                                 2.892481e+12\n",
       "South Asia                                              2.892481e+12\n",
       "Brazil                                                  2.616202e+12\n",
       "Italy                                                   2.390729e+12\n",
       "Russian Federation                                      2.297128e+12\n",
       "India                                                   2.263792e+12\n",
       "IDA total                                               2.094666e+12\n",
       "Canada                                                  1.842628e+12\n",
       "Sub-Saharan Africa                                      1.780285e+12\n",
       "Sub-Saharan Africa (IDA & IBRD countries)               1.780285e+12\n",
       "Sub-Saharan Africa (excluding high income)              1.778862e+12\n",
       "Middle East & North Africa (excluding high income)      1.681555e+12\n",
       "Middle East & North Africa (IDA & IBRD countries)       1.670274e+12\n",
       "Spain                                                   1.635015e+12\n",
       "Australia                                               1.567179e+12\n",
       "Central Europe and the Baltics                          1.524160e+12\n",
       "Pre-demographic dividend                                1.496971e+12\n",
       "Korea, Rep.                                             1.411334e+12\n",
       "Name: Value, dtype: float64"
      ]
     },
     "execution_count": 23,
     "metadata": {},
     "output_type": "execute_result"
    }
   ],
   "source": [
    "df.groupby('Country Name').max()['Value'].sort_values(ascending = False).head(50)"
   ]
  },
  {
   "cell_type": "markdown",
   "id": "ee9bb628-a2a2-440b-a938-ba78a3677d49",
   "metadata": {},
   "source": [
    "## Plotting Graphs Using Plotly"
   ]
  },
  {
   "cell_type": "code",
   "execution_count": 25,
   "id": "ddd48cc2-4535-4767-b8e3-6d124b661cfa",
   "metadata": {},
   "outputs": [
    {
     "name": "stdout",
     "output_type": "stream",
     "text": [
      "Collecting plotly\n",
      "  Downloading plotly-5.19.0-py3-none-any.whl.metadata (7.0 kB)\n",
      "Requirement already satisfied: tenacity>=6.2.0 in c:\\users\\91989\\appdata\\local\\programs\\python\\python311\\lib\\site-packages (from plotly) (8.2.3)\n",
      "Requirement already satisfied: packaging in c:\\users\\91989\\appdata\\roaming\\python\\python311\\site-packages (from plotly) (23.1)\n",
      "Downloading plotly-5.19.0-py3-none-any.whl (15.7 MB)\n",
      "   ---------------------------------------- 0.0/15.7 MB ? eta -:--:--\n",
      "   ---------------------------------------- 0.0/15.7 MB 1.3 MB/s eta 0:00:13\n",
      "   ---------------------------------------- 0.1/15.7 MB 812.7 kB/s eta 0:00:20\n",
      "   ---------------------------------------- 0.1/15.7 MB 812.7 kB/s eta 0:00:20\n",
      "   ---------------------------------------- 0.1/15.7 MB 326.8 kB/s eta 0:00:48\n",
      "   ---------------------------------------- 0.1/15.7 MB 326.8 kB/s eta 0:00:48\n",
      "   ---------------------------------------- 0.1/15.7 MB 364.4 kB/s eta 0:00:43\n",
      "   ---------------------------------------- 0.1/15.7 MB 364.4 kB/s eta 0:00:43\n",
      "   ---------------------------------------- 0.1/15.7 MB 364.4 kB/s eta 0:00:43\n",
      "   ---------------------------------------- 0.1/15.7 MB 300.4 kB/s eta 0:00:52\n",
      "   ---------------------------------------- 0.2/15.7 MB 316.5 kB/s eta 0:00:50\n",
      "   ---------------------------------------- 0.2/15.7 MB 357.2 kB/s eta 0:00:44\n",
      "   ---------------------------------------- 0.2/15.7 MB 357.2 kB/s eta 0:00:44\n",
      "    --------------------------------------- 0.2/15.7 MB 336.6 kB/s eta 0:00:46\n",
      "    --------------------------------------- 0.2/15.7 MB 353.1 kB/s eta 0:00:44\n",
      "    --------------------------------------- 0.2/15.7 MB 353.1 kB/s eta 0:00:44\n",
      "    --------------------------------------- 0.2/15.7 MB 353.1 kB/s eta 0:00:44\n",
      "    --------------------------------------- 0.2/15.7 MB 353.1 kB/s eta 0:00:44\n",
      "    --------------------------------------- 0.2/15.7 MB 353.1 kB/s eta 0:00:44\n",
      "    --------------------------------------- 0.2/15.7 MB 252.8 kB/s eta 0:01:02\n",
      "    --------------------------------------- 0.2/15.7 MB 252.8 kB/s eta 0:01:02\n",
      "    --------------------------------------- 0.3/15.7 MB 245.8 kB/s eta 0:01:03\n",
      "    --------------------------------------- 0.3/15.7 MB 245.8 kB/s eta 0:01:03\n",
      "    --------------------------------------- 0.3/15.7 MB 245.8 kB/s eta 0:01:03\n",
      "    --------------------------------------- 0.3/15.7 MB 245.8 kB/s eta 0:01:03\n",
      "    --------------------------------------- 0.3/15.7 MB 245.8 kB/s eta 0:01:03\n",
      "    --------------------------------------- 0.3/15.7 MB 245.8 kB/s eta 0:01:03\n",
      "    --------------------------------------- 0.3/15.7 MB 245.8 kB/s eta 0:01:03\n",
      "    --------------------------------------- 0.3/15.7 MB 245.8 kB/s eta 0:01:03\n",
      "    --------------------------------------- 0.3/15.7 MB 245.8 kB/s eta 0:01:03\n",
      "    --------------------------------------- 0.3/15.7 MB 245.8 kB/s eta 0:01:03\n",
      "    --------------------------------------- 0.3/15.7 MB 245.8 kB/s eta 0:01:03\n",
      "    --------------------------------------- 0.3/15.7 MB 245.8 kB/s eta 0:01:03\n",
      "    --------------------------------------- 0.3/15.7 MB 245.8 kB/s eta 0:01:03\n",
      "    --------------------------------------- 0.3/15.7 MB 245.8 kB/s eta 0:01:03\n",
      "    --------------------------------------- 0.3/15.7 MB 245.8 kB/s eta 0:01:03\n",
      "    --------------------------------------- 0.3/15.7 MB 159.2 kB/s eta 0:01:37\n",
      "    --------------------------------------- 0.3/15.7 MB 159.4 kB/s eta 0:01:37\n",
      "    --------------------------------------- 0.3/15.7 MB 165.3 kB/s eta 0:01:34\n",
      "    --------------------------------------- 0.3/15.7 MB 165.3 kB/s eta 0:01:34\n",
      "    --------------------------------------- 0.3/15.7 MB 165.3 kB/s eta 0:01:34\n",
      "    --------------------------------------- 0.3/15.7 MB 157.3 kB/s eta 0:01:38\n",
      "    --------------------------------------- 0.3/15.7 MB 157.3 kB/s eta 0:01:38\n",
      "    --------------------------------------- 0.3/15.7 MB 157.3 kB/s eta 0:01:38\n",
      "    --------------------------------------- 0.3/15.7 MB 157.7 kB/s eta 0:01:38\n",
      "    --------------------------------------- 0.4/15.7 MB 162.6 kB/s eta 0:01:35\n",
      "    --------------------------------------- 0.4/15.7 MB 163.8 kB/s eta 0:01:34\n",
      "   - -------------------------------------- 0.4/15.7 MB 175.4 kB/s eta 0:01:28\n",
      "   - -------------------------------------- 0.5/15.7 MB 193.0 kB/s eta 0:01:19\n",
      "   - -------------------------------------- 0.5/15.7 MB 202.3 kB/s eta 0:01:16\n",
      "   - -------------------------------------- 0.5/15.7 MB 219.9 kB/s eta 0:01:09\n",
      "   - -------------------------------------- 0.6/15.7 MB 229.8 kB/s eta 0:01:06\n",
      "   - -------------------------------------- 0.6/15.7 MB 236.4 kB/s eta 0:01:04\n",
      "   - -------------------------------------- 0.6/15.7 MB 247.3 kB/s eta 0:01:01\n",
      "   - -------------------------------------- 0.6/15.7 MB 247.3 kB/s eta 0:01:01\n",
      "   - -------------------------------------- 0.6/15.7 MB 244.7 kB/s eta 0:01:02\n",
      "   - -------------------------------------- 0.6/15.7 MB 244.7 kB/s eta 0:01:02\n",
      "   - -------------------------------------- 0.7/15.7 MB 240.0 kB/s eta 0:01:03\n",
      "   - -------------------------------------- 0.7/15.7 MB 240.0 kB/s eta 0:01:03\n",
      "   - -------------------------------------- 0.7/15.7 MB 240.0 kB/s eta 0:01:03\n",
      "   - -------------------------------------- 0.7/15.7 MB 240.0 kB/s eta 0:01:03\n",
      "   - -------------------------------------- 0.7/15.7 MB 226.7 kB/s eta 0:01:07\n",
      "   - -------------------------------------- 0.7/15.7 MB 226.7 kB/s eta 0:01:07\n",
      "   - -------------------------------------- 0.7/15.7 MB 226.7 kB/s eta 0:01:07\n",
      "   - -------------------------------------- 0.7/15.7 MB 223.0 kB/s eta 0:01:08\n",
      "   - -------------------------------------- 0.7/15.7 MB 223.0 kB/s eta 0:01:08\n",
      "   - -------------------------------------- 0.7/15.7 MB 223.0 kB/s eta 0:01:08\n",
      "   - -------------------------------------- 0.7/15.7 MB 219.5 kB/s eta 0:01:09\n",
      "   - -------------------------------------- 0.7/15.7 MB 219.5 kB/s eta 0:01:09\n",
      "   - -------------------------------------- 0.7/15.7 MB 219.5 kB/s eta 0:01:09\n",
      "   - -------------------------------------- 0.7/15.7 MB 212.3 kB/s eta 0:01:11\n",
      "   - -------------------------------------- 0.7/15.7 MB 212.3 kB/s eta 0:01:11\n",
      "   - -------------------------------------- 0.7/15.7 MB 212.3 kB/s eta 0:01:11\n",
      "   - -------------------------------------- 0.7/15.7 MB 212.3 kB/s eta 0:01:11\n",
      "   - -------------------------------------- 0.7/15.7 MB 212.3 kB/s eta 0:01:11\n",
      "   - -------------------------------------- 0.7/15.7 MB 212.3 kB/s eta 0:01:11\n",
      "   - -------------------------------------- 0.7/15.7 MB 212.3 kB/s eta 0:01:11\n",
      "   - -------------------------------------- 0.7/15.7 MB 212.3 kB/s eta 0:01:11\n",
      "   - -------------------------------------- 0.7/15.7 MB 212.3 kB/s eta 0:01:11\n",
      "   - -------------------------------------- 0.7/15.7 MB 212.3 kB/s eta 0:01:11\n",
      "   - -------------------------------------- 0.7/15.7 MB 189.9 kB/s eta 0:01:19\n",
      "   - -------------------------------------- 0.7/15.7 MB 189.9 kB/s eta 0:01:19\n",
      "   - -------------------------------------- 0.7/15.7 MB 189.9 kB/s eta 0:01:19\n",
      "   - -------------------------------------- 0.7/15.7 MB 189.9 kB/s eta 0:01:19\n",
      "   - -------------------------------------- 0.7/15.7 MB 189.9 kB/s eta 0:01:19\n",
      "   - -------------------------------------- 0.7/15.7 MB 189.9 kB/s eta 0:01:19\n",
      "   - -------------------------------------- 0.7/15.7 MB 189.9 kB/s eta 0:01:19\n",
      "   - -------------------------------------- 0.7/15.7 MB 189.9 kB/s eta 0:01:19\n",
      "   - -------------------------------------- 0.7/15.7 MB 176.7 kB/s eta 0:01:25\n",
      "   - -------------------------------------- 0.7/15.7 MB 176.7 kB/s eta 0:01:25\n",
      "   - -------------------------------------- 0.7/15.7 MB 176.7 kB/s eta 0:01:25\n",
      "   - -------------------------------------- 0.7/15.7 MB 176.7 kB/s eta 0:01:25\n",
      "   - -------------------------------------- 0.8/15.7 MB 173.8 kB/s eta 0:01:26\n",
      "   - -------------------------------------- 0.8/15.7 MB 173.8 kB/s eta 0:01:26\n",
      "   -- ------------------------------------- 0.8/15.7 MB 174.1 kB/s eta 0:01:26\n",
      "   -- ------------------------------------- 0.8/15.7 MB 174.1 kB/s eta 0:01:26\n",
      "   -- ------------------------------------- 0.8/15.7 MB 174.1 kB/s eta 0:01:26\n",
      "   -- ------------------------------------- 0.8/15.7 MB 174.1 kB/s eta 0:01:26\n",
      "   -- ------------------------------------- 0.8/15.7 MB 168.2 kB/s eta 0:01:29\n",
      "   -- ------------------------------------- 0.8/15.7 MB 168.2 kB/s eta 0:01:29\n",
      "   -- ------------------------------------- 0.8/15.7 MB 168.2 kB/s eta 0:01:29\n",
      "   -- ------------------------------------- 0.8/15.7 MB 168.2 kB/s eta 0:01:29\n",
      "   -- ------------------------------------- 0.8/15.7 MB 168.2 kB/s eta 0:01:29\n",
      "   -- ------------------------------------- 0.8/15.7 MB 168.2 kB/s eta 0:01:29\n",
      "   -- ------------------------------------- 0.8/15.7 MB 168.2 kB/s eta 0:01:29\n",
      "   -- ------------------------------------- 0.8/15.7 MB 168.2 kB/s eta 0:01:29\n",
      "   -- ------------------------------------- 0.8/15.7 MB 168.2 kB/s eta 0:01:29\n",
      "   -- ------------------------------------- 0.8/15.7 MB 168.2 kB/s eta 0:01:29\n",
      "   -- ------------------------------------- 0.8/15.7 MB 168.2 kB/s eta 0:01:29\n",
      "   -- ------------------------------------- 0.8/15.7 MB 168.2 kB/s eta 0:01:29\n",
      "   -- ------------------------------------- 0.8/15.7 MB 168.2 kB/s eta 0:01:29\n",
      "   -- ------------------------------------- 0.8/15.7 MB 168.2 kB/s eta 0:01:29\n",
      "   -- ------------------------------------- 0.8/15.7 MB 168.2 kB/s eta 0:01:29\n",
      "   -- ------------------------------------- 0.8/15.7 MB 168.2 kB/s eta 0:01:29\n",
      "   -- ------------------------------------- 0.8/15.7 MB 168.2 kB/s eta 0:01:29\n",
      "   -- ------------------------------------- 0.8/15.7 MB 147.5 kB/s eta 0:01:41\n",
      "   -- ------------------------------------- 0.8/15.7 MB 147.5 kB/s eta 0:01:41\n",
      "   -- ------------------------------------- 0.8/15.7 MB 147.5 kB/s eta 0:01:41\n",
      "   -- ------------------------------------- 0.8/15.7 MB 147.5 kB/s eta 0:01:41\n",
      "   -- ------------------------------------- 0.8/15.7 MB 147.5 kB/s eta 0:01:41\n",
      "   -- ------------------------------------- 0.8/15.7 MB 147.5 kB/s eta 0:01:41\n",
      "   -- ------------------------------------- 0.8/15.7 MB 147.5 kB/s eta 0:01:41\n",
      "   -- ------------------------------------- 0.8/15.7 MB 147.5 kB/s eta 0:01:41\n",
      "   -- ------------------------------------- 0.8/15.7 MB 147.5 kB/s eta 0:01:41\n",
      "   -- ------------------------------------- 0.8/15.7 MB 147.5 kB/s eta 0:01:41\n",
      "   -- ------------------------------------- 0.8/15.7 MB 147.5 kB/s eta 0:01:41\n",
      "   -- ------------------------------------- 0.8/15.7 MB 147.5 kB/s eta 0:01:41\n",
      "   -- ------------------------------------- 0.8/15.7 MB 147.5 kB/s eta 0:01:41\n",
      "   -- ------------------------------------- 0.8/15.7 MB 147.5 kB/s eta 0:01:41\n",
      "   -- ------------------------------------- 0.8/15.7 MB 147.5 kB/s eta 0:01:41\n",
      "   -- ------------------------------------- 0.8/15.7 MB 147.5 kB/s eta 0:01:41\n",
      "   -- ------------------------------------- 0.8/15.7 MB 147.5 kB/s eta 0:01:41\n",
      "   -- ------------------------------------- 0.8/15.7 MB 147.5 kB/s eta 0:01:41\n",
      "   -- ------------------------------------- 0.8/15.7 MB 147.5 kB/s eta 0:01:41\n",
      "   -- ------------------------------------- 0.8/15.7 MB 147.5 kB/s eta 0:01:41\n",
      "   -- ------------------------------------- 0.8/15.7 MB 147.5 kB/s eta 0:01:41\n",
      "   -- ------------------------------------- 0.8/15.7 MB 147.5 kB/s eta 0:01:41\n",
      "   -- ------------------------------------- 0.8/15.7 MB 147.5 kB/s eta 0:01:41\n",
      "   -- ------------------------------------- 0.8/15.7 MB 147.5 kB/s eta 0:01:41\n",
      "   -- ------------------------------------- 0.8/15.7 MB 147.5 kB/s eta 0:01:41\n",
      "   -- ------------------------------------- 0.8/15.7 MB 147.5 kB/s eta 0:01:41\n",
      "   -- ------------------------------------- 0.8/15.7 MB 147.5 kB/s eta 0:01:41\n",
      "   -- ------------------------------------- 0.8/15.7 MB 120.8 kB/s eta 0:02:03\n",
      "   -- ------------------------------------- 0.8/15.7 MB 120.8 kB/s eta 0:02:03\n",
      "   -- ------------------------------------- 0.8/15.7 MB 120.8 kB/s eta 0:02:03\n",
      "   -- ------------------------------------- 0.8/15.7 MB 120.8 kB/s eta 0:02:03\n",
      "   -- ------------------------------------- 0.8/15.7 MB 120.8 kB/s eta 0:02:03\n",
      "   -- ------------------------------------- 0.8/15.7 MB 120.8 kB/s eta 0:02:03\n",
      "   -- ------------------------------------- 0.8/15.7 MB 120.8 kB/s eta 0:02:03\n",
      "   -- ------------------------------------- 0.8/15.7 MB 120.8 kB/s eta 0:02:03\n",
      "   -- ------------------------------------- 0.8/15.7 MB 120.8 kB/s eta 0:02:03\n",
      "   -- ------------------------------------- 0.8/15.7 MB 120.8 kB/s eta 0:02:03\n",
      "   -- ------------------------------------- 0.8/15.7 MB 120.8 kB/s eta 0:02:03\n",
      "   -- ------------------------------------- 0.8/15.7 MB 120.8 kB/s eta 0:02:03\n",
      "   -- ------------------------------------- 0.8/15.7 MB 120.8 kB/s eta 0:02:03\n",
      "   -- ------------------------------------- 0.8/15.7 MB 120.8 kB/s eta 0:02:03\n",
      "   -- ------------------------------------- 0.8/15.7 MB 120.8 kB/s eta 0:02:03\n",
      "   -- ------------------------------------- 0.8/15.7 MB 120.8 kB/s eta 0:02:03\n",
      "   -- ------------------------------------- 0.8/15.7 MB 120.8 kB/s eta 0:02:03\n",
      "   -- ------------------------------------- 0.8/15.7 MB 120.8 kB/s eta 0:02:03\n",
      "   -- ------------------------------------- 0.8/15.7 MB 120.8 kB/s eta 0:02:03\n",
      "   -- ------------------------------------- 0.8/15.7 MB 120.8 kB/s eta 0:02:03\n",
      "   -- ------------------------------------- 0.8/15.7 MB 120.8 kB/s eta 0:02:03\n",
      "   -- ------------------------------------- 0.8/15.7 MB 120.8 kB/s eta 0:02:03\n",
      "   -- ------------------------------------- 0.8/15.7 MB 120.8 kB/s eta 0:02:03\n",
      "   -- ------------------------------------- 0.8/15.7 MB 120.8 kB/s eta 0:02:03\n",
      "   -- ------------------------------------- 0.8/15.7 MB 120.8 kB/s eta 0:02:03\n",
      "   -- ------------------------------------- 0.8/15.7 MB 120.8 kB/s eta 0:02:03\n",
      "   -- ------------------------------------- 0.8/15.7 MB 120.8 kB/s eta 0:02:03\n",
      "   -- ------------------------------------- 0.8/15.7 MB 120.8 kB/s eta 0:02:03\n",
      "   -- ------------------------------------- 0.8/15.7 MB 120.8 kB/s eta 0:02:03\n",
      "   -- ------------------------------------- 0.8/15.7 MB 120.8 kB/s eta 0:02:03\n",
      "   -- ------------------------------------- 0.8/15.7 MB 101.4 kB/s eta 0:02:27\n",
      "   -- ------------------------------------- 0.8/15.7 MB 101.4 kB/s eta 0:02:27\n",
      "   -- ------------------------------------- 0.8/15.7 MB 101.4 kB/s eta 0:02:27\n",
      "   -- ------------------------------------- 0.8/15.7 MB 101.4 kB/s eta 0:02:27\n",
      "   -- ------------------------------------- 0.8/15.7 MB 101.4 kB/s eta 0:02:27\n",
      "   -- ------------------------------------- 0.8/15.7 MB 101.4 kB/s eta 0:02:27\n",
      "   -- ------------------------------------- 0.8/15.7 MB 101.4 kB/s eta 0:02:27\n",
      "   -- ------------------------------------- 0.8/15.7 MB 101.4 kB/s eta 0:02:27\n",
      "   -- ------------------------------------- 0.8/15.7 MB 101.4 kB/s eta 0:02:27\n",
      "   -- ------------------------------------- 0.8/15.7 MB 101.4 kB/s eta 0:02:27\n",
      "   -- ------------------------------------- 0.8/15.7 MB 101.4 kB/s eta 0:02:27\n",
      "   -- ------------------------------------- 0.8/15.7 MB 101.4 kB/s eta 0:02:27\n",
      "   -- ------------------------------------- 0.8/15.7 MB 101.4 kB/s eta 0:02:27\n",
      "   -- ------------------------------------- 0.8/15.7 MB 101.4 kB/s eta 0:02:27\n",
      "   -- ------------------------------------- 0.8/15.7 MB 101.4 kB/s eta 0:02:27\n",
      "   -- ------------------------------------- 0.8/15.7 MB 101.4 kB/s eta 0:02:27\n",
      "   -- ------------------------------------- 0.9/15.7 MB 95.2 kB/s eta 0:02:36\n",
      "   -- ------------------------------------- 0.9/15.7 MB 95.2 kB/s eta 0:02:36\n",
      "   -- ------------------------------------- 0.9/15.7 MB 95.2 kB/s eta 0:02:36\n",
      "   -- ------------------------------------- 0.9/15.7 MB 95.2 kB/s eta 0:02:36\n",
      "   -- ------------------------------------- 0.9/15.7 MB 95.2 kB/s eta 0:02:36\n",
      "   -- ------------------------------------- 0.9/15.7 MB 95.2 kB/s eta 0:02:36\n",
      "   -- ------------------------------------- 0.9/15.7 MB 95.2 kB/s eta 0:02:36\n",
      "   -- ------------------------------------- 0.9/15.7 MB 95.2 kB/s eta 0:02:36\n",
      "   -- ------------------------------------- 0.9/15.7 MB 95.2 kB/s eta 0:02:36\n",
      "   -- ------------------------------------- 0.9/15.7 MB 95.2 kB/s eta 0:02:36\n",
      "   -- ------------------------------------- 0.9/15.7 MB 95.2 kB/s eta 0:02:36\n",
      "   -- ------------------------------------- 0.9/15.7 MB 95.2 kB/s eta 0:02:36\n",
      "   -- ------------------------------------- 0.9/15.7 MB 95.2 kB/s eta 0:02:36\n",
      "   -- ------------------------------------- 0.9/15.7 MB 95.2 kB/s eta 0:02:36\n",
      "   -- ------------------------------------- 0.9/15.7 MB 95.2 kB/s eta 0:02:36\n",
      "   -- ------------------------------------- 0.9/15.7 MB 95.2 kB/s eta 0:02:36\n",
      "   -- ------------------------------------- 0.9/15.7 MB 95.2 kB/s eta 0:02:36\n",
      "   -- ------------------------------------- 0.9/15.7 MB 95.2 kB/s eta 0:02:36\n",
      "   -- ------------------------------------- 0.9/15.7 MB 95.2 kB/s eta 0:02:36\n",
      "   -- ------------------------------------- 0.9/15.7 MB 95.2 kB/s eta 0:02:36\n",
      "   -- ------------------------------------- 0.9/15.7 MB 95.2 kB/s eta 0:02:36\n",
      "   -- ------------------------------------- 0.9/15.7 MB 95.2 kB/s eta 0:02:36\n",
      "   -- ------------------------------------- 0.9/15.7 MB 95.2 kB/s eta 0:02:36\n",
      "   -- ------------------------------------- 0.9/15.7 MB 95.2 kB/s eta 0:02:36\n",
      "   -- ------------------------------------- 0.9/15.7 MB 95.2 kB/s eta 0:02:36\n",
      "   -- ------------------------------------- 0.9/15.7 MB 95.2 kB/s eta 0:02:36\n",
      "   -- ------------------------------------- 0.9/15.7 MB 95.2 kB/s eta 0:02:36\n",
      "   -- ------------------------------------- 0.9/15.7 MB 95.2 kB/s eta 0:02:36\n",
      "   -- ------------------------------------- 0.9/15.7 MB 95.2 kB/s eta 0:02:36\n",
      "   -- ------------------------------------- 0.9/15.7 MB 95.2 kB/s eta 0:02:36\n",
      "   -- ------------------------------------- 0.9/15.7 MB 95.2 kB/s eta 0:02:36\n",
      "   -- ------------------------------------- 0.9/15.7 MB 95.2 kB/s eta 0:02:36\n",
      "   -- ------------------------------------- 0.9/15.7 MB 95.2 kB/s eta 0:02:36\n",
      "   -- ------------------------------------- 0.9/15.7 MB 95.2 kB/s eta 0:02:36\n",
      "   -- ------------------------------------- 0.9/15.7 MB 95.2 kB/s eta 0:02:36\n",
      "   -- ------------------------------------- 0.9/15.7 MB 95.2 kB/s eta 0:02:36\n",
      "   -- ------------------------------------- 0.9/15.7 MB 95.2 kB/s eta 0:02:36\n",
      "   -- ------------------------------------- 0.9/15.7 MB 95.2 kB/s eta 0:02:36\n",
      "   -- ------------------------------------- 0.9/15.7 MB 95.2 kB/s eta 0:02:36\n",
      "   -- ------------------------------------- 0.9/15.7 MB 95.2 kB/s eta 0:02:36\n",
      "   -- ------------------------------------- 0.9/15.7 MB 95.2 kB/s eta 0:02:36\n",
      "   -- ------------------------------------- 0.9/15.7 MB 95.2 kB/s eta 0:02:36\n",
      "   -- ------------------------------------- 0.9/15.7 MB 95.2 kB/s eta 0:02:36\n",
      "   -- ------------------------------------- 0.9/15.7 MB 95.2 kB/s eta 0:02:36\n",
      "   -- ------------------------------------- 0.9/15.7 MB 95.2 kB/s eta 0:02:36\n",
      "   -- ------------------------------------- 0.9/15.7 MB 95.2 kB/s eta 0:02:36\n",
      "   -- ------------------------------------- 0.9/15.7 MB 95.2 kB/s eta 0:02:36\n",
      "   -- ------------------------------------- 0.9/15.7 MB 95.2 kB/s eta 0:02:36\n",
      "   -- ------------------------------------- 0.9/15.7 MB 95.2 kB/s eta 0:02:36\n",
      "   -- ------------------------------------- 0.9/15.7 MB 95.2 kB/s eta 0:02:36\n",
      "   -- ------------------------------------- 0.9/15.7 MB 95.2 kB/s eta 0:02:36\n",
      "   -- ------------------------------------- 0.9/15.7 MB 95.2 kB/s eta 0:02:36\n",
      "   -- ------------------------------------- 0.9/15.7 MB 95.2 kB/s eta 0:02:36\n",
      "   -- ------------------------------------- 0.9/15.7 MB 95.2 kB/s eta 0:02:36\n",
      "   -- ------------------------------------- 0.9/15.7 MB 95.2 kB/s eta 0:02:36\n",
      "   -- ------------------------------------- 0.9/15.7 MB 95.2 kB/s eta 0:02:36\n",
      "   -- ------------------------------------- 0.9/15.7 MB 95.2 kB/s eta 0:02:36\n",
      "   -- ------------------------------------- 0.9/15.7 MB 73.7 kB/s eta 0:03:21\n",
      "   -- ------------------------------------- 0.9/15.7 MB 73.7 kB/s eta 0:03:21\n",
      "   -- ------------------------------------- 0.9/15.7 MB 73.7 kB/s eta 0:03:21\n",
      "   -- ------------------------------------- 0.9/15.7 MB 73.7 kB/s eta 0:03:21\n",
      "   -- ------------------------------------- 0.9/15.7 MB 73.7 kB/s eta 0:03:21\n",
      "   -- ------------------------------------- 0.9/15.7 MB 73.7 kB/s eta 0:03:21\n",
      "   -- ------------------------------------- 0.9/15.7 MB 73.7 kB/s eta 0:03:21\n",
      "   -- ------------------------------------- 0.9/15.7 MB 73.7 kB/s eta 0:03:21\n",
      "   -- ------------------------------------- 0.9/15.7 MB 73.0 kB/s eta 0:03:23\n",
      "   -- ------------------------------------- 0.9/15.7 MB 73.0 kB/s eta 0:03:23\n",
      "   -- ------------------------------------- 0.9/15.7 MB 73.0 kB/s eta 0:03:23\n",
      "   -- ------------------------------------- 0.9/15.7 MB 73.0 kB/s eta 0:03:23\n",
      "   -- ------------------------------------- 0.9/15.7 MB 73.0 kB/s eta 0:03:23\n",
      "   -- ------------------------------------- 0.9/15.7 MB 73.0 kB/s eta 0:03:23\n",
      "   -- ------------------------------------- 0.9/15.7 MB 73.0 kB/s eta 0:03:23\n",
      "   -- ------------------------------------- 0.9/15.7 MB 73.0 kB/s eta 0:03:23\n",
      "   -- ------------------------------------- 0.9/15.7 MB 73.0 kB/s eta 0:03:23\n",
      "   -- ------------------------------------- 0.9/15.7 MB 73.0 kB/s eta 0:03:23\n",
      "   -- ------------------------------------- 0.9/15.7 MB 73.0 kB/s eta 0:03:23\n",
      "   -- ------------------------------------- 0.9/15.7 MB 73.0 kB/s eta 0:03:23\n",
      "   -- ------------------------------------- 0.9/15.7 MB 73.0 kB/s eta 0:03:23\n",
      "   -- ------------------------------------- 0.9/15.7 MB 73.0 kB/s eta 0:03:23\n",
      "   -- ------------------------------------- 0.9/15.7 MB 73.0 kB/s eta 0:03:23\n",
      "   -- ------------------------------------- 0.9/15.7 MB 73.0 kB/s eta 0:03:23\n",
      "   -- ------------------------------------- 0.9/15.7 MB 73.0 kB/s eta 0:03:23\n",
      "   -- ------------------------------------- 0.9/15.7 MB 73.0 kB/s eta 0:03:23\n",
      "   -- ------------------------------------- 0.9/15.7 MB 69.0 kB/s eta 0:03:35\n",
      "   -- ------------------------------------- 0.9/15.7 MB 69.0 kB/s eta 0:03:35\n",
      "   -- ------------------------------------- 0.9/15.7 MB 69.0 kB/s eta 0:03:35\n",
      "   -- ------------------------------------- 0.9/15.7 MB 69.0 kB/s eta 0:03:35\n",
      "   -- ------------------------------------- 0.9/15.7 MB 69.0 kB/s eta 0:03:35\n",
      "   -- ------------------------------------- 0.9/15.7 MB 69.0 kB/s eta 0:03:35\n",
      "   -- ------------------------------------- 0.9/15.7 MB 69.0 kB/s eta 0:03:35\n",
      "   -- ------------------------------------- 0.9/15.7 MB 69.0 kB/s eta 0:03:35\n",
      "   -- ------------------------------------- 0.9/15.7 MB 69.0 kB/s eta 0:03:35\n",
      "   -- ------------------------------------- 0.9/15.7 MB 69.0 kB/s eta 0:03:35\n",
      "   -- ------------------------------------- 0.9/15.7 MB 69.0 kB/s eta 0:03:35\n",
      "   -- ------------------------------------- 0.9/15.7 MB 69.0 kB/s eta 0:03:35\n",
      "   -- ------------------------------------- 0.9/15.7 MB 69.0 kB/s eta 0:03:35\n",
      "   -- ------------------------------------- 0.9/15.7 MB 69.0 kB/s eta 0:03:35\n",
      "   -- ------------------------------------- 0.9/15.7 MB 69.0 kB/s eta 0:03:35\n",
      "   -- ------------------------------------- 0.9/15.7 MB 69.0 kB/s eta 0:03:35\n",
      "   -- ------------------------------------- 0.9/15.7 MB 69.0 kB/s eta 0:03:35\n",
      "   -- ------------------------------------- 0.9/15.7 MB 69.0 kB/s eta 0:03:35\n",
      "   -- ------------------------------------- 0.9/15.7 MB 66.2 kB/s eta 0:03:43\n",
      "   -- ------------------------------------- 0.9/15.7 MB 66.2 kB/s eta 0:03:43\n",
      "   -- ------------------------------------- 0.9/15.7 MB 66.2 kB/s eta 0:03:43\n",
      "   -- ------------------------------------- 0.9/15.7 MB 66.2 kB/s eta 0:03:43\n",
      "   -- ------------------------------------- 0.9/15.7 MB 66.2 kB/s eta 0:03:43\n",
      "   -- ------------------------------------- 0.9/15.7 MB 66.2 kB/s eta 0:03:43\n",
      "   -- ------------------------------------- 0.9/15.7 MB 66.2 kB/s eta 0:03:43\n",
      "   -- ------------------------------------- 0.9/15.7 MB 66.2 kB/s eta 0:03:43\n",
      "   -- ------------------------------------- 0.9/15.7 MB 66.2 kB/s eta 0:03:43\n",
      "   -- ------------------------------------- 0.9/15.7 MB 66.2 kB/s eta 0:03:43\n",
      "   -- ------------------------------------- 0.9/15.7 MB 66.2 kB/s eta 0:03:43\n",
      "   -- ------------------------------------- 0.9/15.7 MB 66.2 kB/s eta 0:03:43\n",
      "   -- ------------------------------------- 0.9/15.7 MB 66.2 kB/s eta 0:03:43\n",
      "   -- ------------------------------------- 0.9/15.7 MB 66.2 kB/s eta 0:03:43\n",
      "   -- ------------------------------------- 0.9/15.7 MB 66.2 kB/s eta 0:03:43\n",
      "   -- ------------------------------------- 0.9/15.7 MB 66.2 kB/s eta 0:03:43\n",
      "   -- ------------------------------------- 0.9/15.7 MB 66.2 kB/s eta 0:03:43\n",
      "   -- ------------------------------------- 0.9/15.7 MB 66.2 kB/s eta 0:03:43\n",
      "   -- ------------------------------------- 0.9/15.7 MB 66.2 kB/s eta 0:03:43\n",
      "   -- ------------------------------------- 1.0/15.7 MB 63.5 kB/s eta 0:03:52\n",
      "   -- ------------------------------------- 1.0/15.7 MB 63.5 kB/s eta 0:03:52\n",
      "   -- ------------------------------------- 1.0/15.7 MB 63.5 kB/s eta 0:03:52\n",
      "   -- ------------------------------------- 1.0/15.7 MB 63.5 kB/s eta 0:03:52\n",
      "   -- ------------------------------------- 1.0/15.7 MB 63.5 kB/s eta 0:03:52\n",
      "   -- ------------------------------------- 1.0/15.7 MB 63.5 kB/s eta 0:03:52\n",
      "   -- ------------------------------------- 1.0/15.7 MB 63.5 kB/s eta 0:03:52\n",
      "   -- ------------------------------------- 1.0/15.7 MB 63.5 kB/s eta 0:03:52\n",
      "   -- ------------------------------------- 1.0/15.7 MB 63.5 kB/s eta 0:03:52\n",
      "   -- ------------------------------------- 1.0/15.7 MB 63.5 kB/s eta 0:03:52\n",
      "   -- ------------------------------------- 1.0/15.7 MB 63.5 kB/s eta 0:03:52\n",
      "   -- ------------------------------------- 1.0/15.7 MB 63.5 kB/s eta 0:03:52\n",
      "   -- ------------------------------------- 1.0/15.7 MB 63.5 kB/s eta 0:03:52\n",
      "   -- ------------------------------------- 1.0/15.7 MB 63.5 kB/s eta 0:03:52\n",
      "   -- ------------------------------------- 1.0/15.7 MB 63.5 kB/s eta 0:03:52\n",
      "   -- ------------------------------------- 1.0/15.7 MB 63.5 kB/s eta 0:03:52\n",
      "   -- ------------------------------------- 1.0/15.7 MB 63.5 kB/s eta 0:03:52\n",
      "   -- ------------------------------------- 1.0/15.7 MB 63.5 kB/s eta 0:03:52\n",
      "   -- ------------------------------------- 1.0/15.7 MB 63.5 kB/s eta 0:03:52\n",
      "   -- ------------------------------------- 1.0/15.7 MB 63.5 kB/s eta 0:03:52\n",
      "   -- ------------------------------------- 1.0/15.7 MB 63.5 kB/s eta 0:03:52\n",
      "   -- ------------------------------------- 1.0/15.7 MB 63.5 kB/s eta 0:03:52\n",
      "   -- ------------------------------------- 1.0/15.7 MB 63.5 kB/s eta 0:03:52\n",
      "   -- ------------------------------------- 1.0/15.7 MB 63.5 kB/s eta 0:03:52\n",
      "   -- ------------------------------------- 1.0/15.7 MB 63.5 kB/s eta 0:03:52\n",
      "   -- ------------------------------------- 1.0/15.7 MB 63.5 kB/s eta 0:03:52\n",
      "   -- ------------------------------------- 1.0/15.7 MB 59.2 kB/s eta 0:04:09\n",
      "   -- ------------------------------------- 1.0/15.7 MB 59.2 kB/s eta 0:04:09\n",
      "   -- ------------------------------------- 1.0/15.7 MB 59.2 kB/s eta 0:04:09\n",
      "   -- ------------------------------------- 1.0/15.7 MB 59.2 kB/s eta 0:04:09\n",
      "   -- ------------------------------------- 1.0/15.7 MB 59.2 kB/s eta 0:04:09\n",
      "   -- ------------------------------------- 1.0/15.7 MB 59.2 kB/s eta 0:04:09\n",
      "   -- ------------------------------------- 1.0/15.7 MB 59.2 kB/s eta 0:04:09\n",
      "   -- ------------------------------------- 1.0/15.7 MB 59.2 kB/s eta 0:04:09\n",
      "   -- ------------------------------------- 1.0/15.7 MB 59.2 kB/s eta 0:04:09\n",
      "   -- ------------------------------------- 1.0/15.7 MB 59.2 kB/s eta 0:04:09\n",
      "   -- ------------------------------------- 1.0/15.7 MB 59.2 kB/s eta 0:04:09\n",
      "   -- ------------------------------------- 1.0/15.7 MB 59.2 kB/s eta 0:04:09\n",
      "   -- ------------------------------------- 1.0/15.7 MB 59.2 kB/s eta 0:04:09\n",
      "   -- ------------------------------------- 1.0/15.7 MB 59.2 kB/s eta 0:04:09\n",
      "   -- ------------------------------------- 1.0/15.7 MB 59.2 kB/s eta 0:04:09\n",
      "   -- ------------------------------------- 1.0/15.7 MB 59.2 kB/s eta 0:04:09\n",
      "   -- ------------------------------------- 1.0/15.7 MB 59.2 kB/s eta 0:04:09\n",
      "   -- ------------------------------------- 1.0/15.7 MB 59.2 kB/s eta 0:04:09\n",
      "   -- ------------------------------------- 1.0/15.7 MB 59.2 kB/s eta 0:04:09\n",
      "   -- ------------------------------------- 1.0/15.7 MB 59.2 kB/s eta 0:04:09\n",
      "   -- ------------------------------------- 1.0/15.7 MB 59.2 kB/s eta 0:04:09\n",
      "   -- ------------------------------------- 1.0/15.7 MB 59.2 kB/s eta 0:04:09\n",
      "   -- ------------------------------------- 1.0/15.7 MB 56.7 kB/s eta 0:04:20\n",
      "   -- ------------------------------------- 1.0/15.7 MB 56.7 kB/s eta 0:04:20\n",
      "   -- ------------------------------------- 1.0/15.7 MB 56.7 kB/s eta 0:04:20\n",
      "   -- ------------------------------------- 1.0/15.7 MB 56.7 kB/s eta 0:04:20\n",
      "   -- ------------------------------------- 1.0/15.7 MB 56.7 kB/s eta 0:04:20\n",
      "   -- ------------------------------------- 1.0/15.7 MB 56.7 kB/s eta 0:04:20\n",
      "   -- ------------------------------------- 1.0/15.7 MB 56.7 kB/s eta 0:04:20\n",
      "   -- ------------------------------------- 1.0/15.7 MB 56.7 kB/s eta 0:04:20\n",
      "   -- ------------------------------------- 1.0/15.7 MB 56.7 kB/s eta 0:04:20\n",
      "   -- ------------------------------------- 1.0/15.7 MB 56.7 kB/s eta 0:04:20\n",
      "   -- ------------------------------------- 1.0/15.7 MB 56.7 kB/s eta 0:04:20\n",
      "   -- ------------------------------------- 1.0/15.7 MB 56.7 kB/s eta 0:04:20\n",
      "   -- ------------------------------------- 1.0/15.7 MB 56.7 kB/s eta 0:04:20\n",
      "   -- ------------------------------------- 1.0/15.7 MB 56.7 kB/s eta 0:04:20\n",
      "   -- ------------------------------------- 1.0/15.7 MB 56.7 kB/s eta 0:04:20\n",
      "   -- ------------------------------------- 1.0/15.7 MB 56.7 kB/s eta 0:04:20\n",
      "   -- ------------------------------------- 1.0/15.7 MB 56.7 kB/s eta 0:04:20\n",
      "   -- ------------------------------------- 1.0/15.7 MB 56.7 kB/s eta 0:04:20\n",
      "   -- ------------------------------------- 1.0/15.7 MB 56.7 kB/s eta 0:04:20\n",
      "   -- ------------------------------------- 1.0/15.7 MB 56.7 kB/s eta 0:04:20\n",
      "   -- ------------------------------------- 1.0/15.7 MB 56.7 kB/s eta 0:04:20\n",
      "   -- ------------------------------------- 1.0/15.7 MB 54.1 kB/s eta 0:04:32\n",
      "   -- ------------------------------------- 1.0/15.7 MB 54.1 kB/s eta 0:04:32\n",
      "   -- ------------------------------------- 1.0/15.7 MB 54.1 kB/s eta 0:04:32\n",
      "   -- ------------------------------------- 1.0/15.7 MB 54.1 kB/s eta 0:04:32\n",
      "   -- ------------------------------------- 1.0/15.7 MB 54.1 kB/s eta 0:04:32\n",
      "   -- ------------------------------------- 1.0/15.7 MB 54.1 kB/s eta 0:04:32\n",
      "   -- ------------------------------------- 1.0/15.7 MB 54.1 kB/s eta 0:04:32\n",
      "   -- ------------------------------------- 1.0/15.7 MB 54.2 kB/s eta 0:04:31\n",
      "   -- ------------------------------------- 1.0/15.7 MB 54.2 kB/s eta 0:04:31\n",
      "   -- ------------------------------------- 1.0/15.7 MB 54.2 kB/s eta 0:04:31\n",
      "   -- ------------------------------------- 1.0/15.7 MB 54.2 kB/s eta 0:04:31\n",
      "   -- ------------------------------------- 1.0/15.7 MB 54.2 kB/s eta 0:04:31\n",
      "   -- ------------------------------------- 1.0/15.7 MB 54.2 kB/s eta 0:04:31\n",
      "   -- ------------------------------------- 1.0/15.7 MB 54.2 kB/s eta 0:04:31\n",
      "   -- ------------------------------------- 1.0/15.7 MB 54.2 kB/s eta 0:04:31\n",
      "   -- ------------------------------------- 1.0/15.7 MB 54.2 kB/s eta 0:04:31\n",
      "   -- ------------------------------------- 1.0/15.7 MB 54.2 kB/s eta 0:04:31\n",
      "   -- ------------------------------------- 1.0/15.7 MB 54.2 kB/s eta 0:04:31\n",
      "   -- ------------------------------------- 1.0/15.7 MB 54.2 kB/s eta 0:04:31\n",
      "   -- ------------------------------------- 1.0/15.7 MB 54.2 kB/s eta 0:04:31\n",
      "   -- ------------------------------------- 1.0/15.7 MB 54.2 kB/s eta 0:04:31\n",
      "   -- ------------------------------------- 1.0/15.7 MB 54.2 kB/s eta 0:04:31\n",
      "   -- ------------------------------------- 1.0/15.7 MB 54.2 kB/s eta 0:04:31\n",
      "   -- ------------------------------------- 1.0/15.7 MB 54.2 kB/s eta 0:04:31\n",
      "   -- ------------------------------------- 1.0/15.7 MB 53.0 kB/s eta 0:04:37\n",
      "   -- ------------------------------------- 1.0/15.7 MB 53.0 kB/s eta 0:04:37\n",
      "   -- ------------------------------------- 1.0/15.7 MB 53.0 kB/s eta 0:04:37\n",
      "   -- ------------------------------------- 1.0/15.7 MB 53.0 kB/s eta 0:04:37\n",
      "   -- ------------------------------------- 1.0/15.7 MB 53.0 kB/s eta 0:04:37\n",
      "   -- ------------------------------------- 1.0/15.7 MB 53.0 kB/s eta 0:04:37\n",
      "   -- ------------------------------------- 1.0/15.7 MB 53.0 kB/s eta 0:04:37\n",
      "   -- ------------------------------------- 1.0/15.7 MB 53.0 kB/s eta 0:04:37\n",
      "   -- ------------------------------------- 1.0/15.7 MB 53.0 kB/s eta 0:04:37\n",
      "   -- ------------------------------------- 1.0/15.7 MB 53.0 kB/s eta 0:04:37\n",
      "   -- ------------------------------------- 1.0/15.7 MB 53.0 kB/s eta 0:04:37\n",
      "   -- ------------------------------------- 1.0/15.7 MB 53.0 kB/s eta 0:04:37\n",
      "   -- ------------------------------------- 1.0/15.7 MB 53.0 kB/s eta 0:04:37\n",
      "   -- ------------------------------------- 1.0/15.7 MB 53.0 kB/s eta 0:04:37\n",
      "   -- ------------------------------------- 1.0/15.7 MB 53.0 kB/s eta 0:04:37\n",
      "   -- ------------------------------------- 1.0/15.7 MB 51.5 kB/s eta 0:04:44\n",
      "   -- ------------------------------------- 1.0/15.7 MB 51.5 kB/s eta 0:04:44\n",
      "   -- ------------------------------------- 1.0/15.7 MB 51.5 kB/s eta 0:04:44\n",
      "   -- ------------------------------------- 1.0/15.7 MB 51.5 kB/s eta 0:04:44\n",
      "   -- ------------------------------------- 1.0/15.7 MB 51.5 kB/s eta 0:04:44\n",
      "   -- ------------------------------------- 1.0/15.7 MB 51.5 kB/s eta 0:04:44\n",
      "   -- ------------------------------------- 1.0/15.7 MB 51.5 kB/s eta 0:04:44\n",
      "   -- ------------------------------------- 1.0/15.7 MB 51.5 kB/s eta 0:04:44\n",
      "   -- ------------------------------------- 1.0/15.7 MB 51.5 kB/s eta 0:04:44\n",
      "   -- ------------------------------------- 1.0/15.7 MB 51.5 kB/s eta 0:04:44\n",
      "   -- ------------------------------------- 1.0/15.7 MB 51.5 kB/s eta 0:04:44\n",
      "   -- ------------------------------------- 1.0/15.7 MB 51.5 kB/s eta 0:04:44\n",
      "   -- ------------------------------------- 1.0/15.7 MB 51.5 kB/s eta 0:04:44\n",
      "   -- ------------------------------------- 1.0/15.7 MB 51.5 kB/s eta 0:04:44\n",
      "   -- ------------------------------------- 1.0/15.7 MB 51.5 kB/s eta 0:04:44\n",
      "   -- ------------------------------------- 1.0/15.7 MB 51.5 kB/s eta 0:04:44\n",
      "   -- ------------------------------------- 1.0/15.7 MB 51.5 kB/s eta 0:04:44\n",
      "   -- ------------------------------------- 1.0/15.7 MB 51.5 kB/s eta 0:04:44\n",
      "   -- ------------------------------------- 1.0/15.7 MB 51.5 kB/s eta 0:04:44\n",
      "   -- ------------------------------------- 1.0/15.7 MB 51.5 kB/s eta 0:04:44\n",
      "   -- ------------------------------------- 1.0/15.7 MB 51.5 kB/s eta 0:04:44\n",
      "   -- ------------------------------------- 1.0/15.7 MB 51.5 kB/s eta 0:04:44\n",
      "   -- ------------------------------------- 1.1/15.7 MB 50.0 kB/s eta 0:04:53\n",
      "   -- ------------------------------------- 1.1/15.7 MB 50.0 kB/s eta 0:04:53\n",
      "   -- ------------------------------------- 1.1/15.7 MB 50.0 kB/s eta 0:04:53\n",
      "   -- ------------------------------------- 1.1/15.7 MB 50.0 kB/s eta 0:04:53\n",
      "   -- ------------------------------------- 1.1/15.7 MB 50.0 kB/s eta 0:04:53\n",
      "   -- ------------------------------------- 1.1/15.7 MB 50.0 kB/s eta 0:04:53\n",
      "   -- ------------------------------------- 1.1/15.7 MB 50.0 kB/s eta 0:04:53\n",
      "   -- ------------------------------------- 1.1/15.7 MB 50.0 kB/s eta 0:04:53\n",
      "   -- ------------------------------------- 1.1/15.7 MB 50.0 kB/s eta 0:04:53\n",
      "   -- ------------------------------------- 1.1/15.7 MB 50.0 kB/s eta 0:04:53\n",
      "   -- ------------------------------------- 1.1/15.7 MB 50.0 kB/s eta 0:04:53\n",
      "   -- ------------------------------------- 1.1/15.7 MB 49.3 kB/s eta 0:04:57\n",
      "   -- ------------------------------------- 1.1/15.7 MB 49.3 kB/s eta 0:04:57\n",
      "   -- ------------------------------------- 1.1/15.7 MB 49.3 kB/s eta 0:04:57\n",
      "   -- ------------------------------------- 1.1/15.7 MB 49.3 kB/s eta 0:04:57\n",
      "   -- ------------------------------------- 1.1/15.7 MB 49.3 kB/s eta 0:04:57\n",
      "   -- ------------------------------------- 1.1/15.7 MB 49.3 kB/s eta 0:04:57\n",
      "   -- ------------------------------------- 1.1/15.7 MB 49.3 kB/s eta 0:04:57\n",
      "   -- ------------------------------------- 1.1/15.7 MB 49.3 kB/s eta 0:04:57\n",
      "   -- ------------------------------------- 1.1/15.7 MB 49.3 kB/s eta 0:04:57\n",
      "   -- ------------------------------------- 1.1/15.7 MB 49.3 kB/s eta 0:04:57\n",
      "   -- ------------------------------------- 1.1/15.7 MB 49.3 kB/s eta 0:04:57\n",
      "   -- ------------------------------------- 1.1/15.7 MB 49.3 kB/s eta 0:04:57\n",
      "   -- ------------------------------------- 1.1/15.7 MB 48.9 kB/s eta 0:04:59\n",
      "   -- ------------------------------------- 1.1/15.7 MB 48.9 kB/s eta 0:04:59\n",
      "   -- ------------------------------------- 1.1/15.7 MB 48.9 kB/s eta 0:04:59\n",
      "   -- ------------------------------------- 1.1/15.7 MB 48.9 kB/s eta 0:04:59\n",
      "   -- ------------------------------------- 1.1/15.7 MB 48.9 kB/s eta 0:04:59\n",
      "   -- ------------------------------------- 1.1/15.7 MB 48.9 kB/s eta 0:04:59\n",
      "   -- ------------------------------------- 1.1/15.7 MB 48.8 kB/s eta 0:04:59\n",
      "   -- ------------------------------------- 1.1/15.7 MB 48.8 kB/s eta 0:04:59\n",
      "   -- ------------------------------------- 1.1/15.7 MB 48.8 kB/s eta 0:04:59\n",
      "   -- ------------------------------------- 1.1/15.7 MB 48.8 kB/s eta 0:04:59\n",
      "   -- ------------------------------------- 1.1/15.7 MB 48.8 kB/s eta 0:04:59\n",
      "   -- ------------------------------------- 1.1/15.7 MB 48.8 kB/s eta 0:04:59\n",
      "   -- ------------------------------------- 1.1/15.7 MB 48.8 kB/s eta 0:04:59\n",
      "   -- ------------------------------------- 1.1/15.7 MB 48.8 kB/s eta 0:04:59\n",
      "   -- ------------------------------------- 1.1/15.7 MB 48.8 kB/s eta 0:04:59\n",
      "   -- ------------------------------------- 1.1/15.7 MB 48.8 kB/s eta 0:04:59\n",
      "   -- ------------------------------------- 1.1/15.7 MB 48.8 kB/s eta 0:04:59\n",
      "   -- ------------------------------------- 1.1/15.7 MB 48.8 kB/s eta 0:04:59\n",
      "   -- ------------------------------------- 1.1/15.7 MB 48.8 kB/s eta 0:04:59\n",
      "   -- ------------------------------------- 1.1/15.7 MB 48.8 kB/s eta 0:04:59\n",
      "   -- ------------------------------------- 1.1/15.7 MB 48.8 kB/s eta 0:04:59\n",
      "   -- ------------------------------------- 1.1/15.7 MB 48.8 kB/s eta 0:04:59\n",
      "   -- ------------------------------------- 1.1/15.7 MB 48.8 kB/s eta 0:04:59\n",
      "   -- ------------------------------------- 1.1/15.7 MB 48.8 kB/s eta 0:04:59\n",
      "   -- ------------------------------------- 1.1/15.7 MB 48.8 kB/s eta 0:04:59\n",
      "   -- ------------------------------------- 1.1/15.7 MB 48.8 kB/s eta 0:04:59\n",
      "   -- ------------------------------------- 1.1/15.7 MB 48.8 kB/s eta 0:04:59\n",
      "   -- ------------------------------------- 1.1/15.7 MB 48.8 kB/s eta 0:04:59\n",
      "   -- ------------------------------------- 1.1/15.7 MB 48.8 kB/s eta 0:04:59\n",
      "   -- ------------------------------------- 1.1/15.7 MB 48.8 kB/s eta 0:04:59\n",
      "   -- ------------------------------------- 1.1/15.7 MB 48.8 kB/s eta 0:04:59\n",
      "   -- ------------------------------------- 1.1/15.7 MB 46.7 kB/s eta 0:05:13\n",
      "   -- ------------------------------------- 1.1/15.7 MB 46.7 kB/s eta 0:05:13\n",
      "   -- ------------------------------------- 1.1/15.7 MB 46.7 kB/s eta 0:05:13\n",
      "   -- ------------------------------------- 1.1/15.7 MB 46.7 kB/s eta 0:05:13\n",
      "   -- ------------------------------------- 1.1/15.7 MB 46.7 kB/s eta 0:05:13\n",
      "   -- ------------------------------------- 1.1/15.7 MB 46.7 kB/s eta 0:05:13\n",
      "   -- ------------------------------------- 1.1/15.7 MB 46.7 kB/s eta 0:05:13\n",
      "   -- ------------------------------------- 1.1/15.7 MB 46.7 kB/s eta 0:05:13\n",
      "   -- ------------------------------------- 1.1/15.7 MB 46.7 kB/s eta 0:05:13\n",
      "   -- ------------------------------------- 1.1/15.7 MB 46.7 kB/s eta 0:05:13\n",
      "   -- ------------------------------------- 1.1/15.7 MB 46.7 kB/s eta 0:05:13\n",
      "   -- ------------------------------------- 1.1/15.7 MB 46.7 kB/s eta 0:05:13\n",
      "   -- ------------------------------------- 1.1/15.7 MB 46.7 kB/s eta 0:05:13\n",
      "   -- ------------------------------------- 1.1/15.7 MB 46.7 kB/s eta 0:05:13\n",
      "   -- ------------------------------------- 1.1/15.7 MB 46.7 kB/s eta 0:05:13\n",
      "   -- ------------------------------------- 1.1/15.7 MB 46.7 kB/s eta 0:05:13\n",
      "   -- ------------------------------------- 1.1/15.7 MB 46.7 kB/s eta 0:05:13\n",
      "   -- ------------------------------------- 1.1/15.7 MB 46.7 kB/s eta 0:05:13\n",
      "   -- ------------------------------------- 1.1/15.7 MB 46.7 kB/s eta 0:05:13\n",
      "   -- ------------------------------------- 1.1/15.7 MB 46.7 kB/s eta 0:05:13\n",
      "   -- ------------------------------------- 1.1/15.7 MB 45.6 kB/s eta 0:05:19\n",
      "   -- ------------------------------------- 1.1/15.7 MB 45.6 kB/s eta 0:05:19\n",
      "   -- ------------------------------------- 1.1/15.7 MB 45.6 kB/s eta 0:05:19\n",
      "   -- ------------------------------------- 1.1/15.7 MB 45.6 kB/s eta 0:05:19\n",
      "   -- ------------------------------------- 1.1/15.7 MB 45.6 kB/s eta 0:05:19\n",
      "   -- ------------------------------------- 1.1/15.7 MB 45.6 kB/s eta 0:05:19\n",
      "   -- ------------------------------------- 1.1/15.7 MB 45.6 kB/s eta 0:05:19\n",
      "   -- ------------------------------------- 1.1/15.7 MB 45.6 kB/s eta 0:05:19\n",
      "   -- ------------------------------------- 1.1/15.7 MB 45.6 kB/s eta 0:05:19\n",
      "   -- ------------------------------------- 1.1/15.7 MB 45.6 kB/s eta 0:05:19\n",
      "   -- ------------------------------------- 1.1/15.7 MB 45.6 kB/s eta 0:05:19\n",
      "   -- ------------------------------------- 1.1/15.7 MB 45.6 kB/s eta 0:05:19\n",
      "   -- ------------------------------------- 1.1/15.7 MB 45.6 kB/s eta 0:05:19\n",
      "   -- ------------------------------------- 1.1/15.7 MB 45.6 kB/s eta 0:05:19\n",
      "   -- ------------------------------------- 1.1/15.7 MB 45.6 kB/s eta 0:05:19\n",
      "   -- ------------------------------------- 1.1/15.7 MB 45.6 kB/s eta 0:05:19\n",
      "   -- ------------------------------------- 1.1/15.7 MB 45.6 kB/s eta 0:05:19\n",
      "   -- ------------------------------------- 1.1/15.7 MB 45.6 kB/s eta 0:05:19\n",
      "   -- ------------------------------------- 1.1/15.7 MB 45.6 kB/s eta 0:05:19\n",
      "   -- ------------------------------------- 1.1/15.7 MB 45.6 kB/s eta 0:05:19\n",
      "   -- ------------------------------------- 1.1/15.7 MB 45.6 kB/s eta 0:05:19\n",
      "   -- ------------------------------------- 1.1/15.7 MB 45.6 kB/s eta 0:05:19\n",
      "   -- ------------------------------------- 1.1/15.7 MB 45.6 kB/s eta 0:05:19\n",
      "   -- ------------------------------------- 1.1/15.7 MB 45.6 kB/s eta 0:05:19\n",
      "   -- ------------------------------------- 1.1/15.7 MB 45.6 kB/s eta 0:05:19\n",
      "   -- ------------------------------------- 1.1/15.7 MB 45.6 kB/s eta 0:05:19\n",
      "   -- ------------------------------------- 1.1/15.7 MB 45.6 kB/s eta 0:05:19\n",
      "   -- ------------------------------------- 1.1/15.7 MB 43.8 kB/s eta 0:05:33\n",
      "   -- ------------------------------------- 1.1/15.7 MB 43.8 kB/s eta 0:05:33\n",
      "   -- ------------------------------------- 1.1/15.7 MB 43.8 kB/s eta 0:05:33\n",
      "   -- ------------------------------------- 1.1/15.7 MB 43.8 kB/s eta 0:05:33\n",
      "   -- ------------------------------------- 1.1/15.7 MB 43.8 kB/s eta 0:05:33\n",
      "   -- ------------------------------------- 1.1/15.7 MB 43.8 kB/s eta 0:05:33\n",
      "   -- ------------------------------------- 1.1/15.7 MB 43.8 kB/s eta 0:05:33\n",
      "   -- ------------------------------------- 1.1/15.7 MB 43.8 kB/s eta 0:05:33\n",
      "   -- ------------------------------------- 1.1/15.7 MB 43.8 kB/s eta 0:05:33\n",
      "   -- ------------------------------------- 1.1/15.7 MB 43.8 kB/s eta 0:05:33\n",
      "   -- ------------------------------------- 1.1/15.7 MB 43.8 kB/s eta 0:05:33\n",
      "   -- ------------------------------------- 1.1/15.7 MB 43.8 kB/s eta 0:05:33\n",
      "   -- ------------------------------------- 1.2/15.7 MB 43.6 kB/s eta 0:05:34\n",
      "   -- ------------------------------------- 1.2/15.7 MB 43.6 kB/s eta 0:05:34\n",
      "   -- ------------------------------------- 1.2/15.7 MB 43.6 kB/s eta 0:05:34\n",
      "   -- ------------------------------------- 1.2/15.7 MB 43.6 kB/s eta 0:05:34\n",
      "   -- ------------------------------------- 1.2/15.7 MB 43.6 kB/s eta 0:05:34\n",
      "   -- ------------------------------------- 1.2/15.7 MB 43.6 kB/s eta 0:05:34\n",
      "   -- ------------------------------------- 1.2/15.7 MB 43.6 kB/s eta 0:05:34\n",
      "   -- ------------------------------------- 1.2/15.7 MB 43.6 kB/s eta 0:05:34\n",
      "   -- ------------------------------------- 1.2/15.7 MB 43.6 kB/s eta 0:05:34\n",
      "   -- ------------------------------------- 1.2/15.7 MB 43.6 kB/s eta 0:05:34\n",
      "   -- ------------------------------------- 1.2/15.7 MB 43.6 kB/s eta 0:05:34\n",
      "   -- ------------------------------------- 1.2/15.7 MB 43.6 kB/s eta 0:05:34\n",
      "   -- ------------------------------------- 1.2/15.7 MB 43.6 kB/s eta 0:05:34\n",
      "   -- ------------------------------------- 1.2/15.7 MB 43.6 kB/s eta 0:05:34\n",
      "   -- ------------------------------------- 1.2/15.7 MB 43.6 kB/s eta 0:05:34\n",
      "   -- ------------------------------------- 1.2/15.7 MB 43.6 kB/s eta 0:05:34\n",
      "   -- ------------------------------------- 1.2/15.7 MB 43.6 kB/s eta 0:05:34\n",
      "   -- ------------------------------------- 1.2/15.7 MB 43.6 kB/s eta 0:05:34\n",
      "   -- ------------------------------------- 1.2/15.7 MB 43.6 kB/s eta 0:05:34\n",
      "   -- ------------------------------------- 1.2/15.7 MB 43.6 kB/s eta 0:05:34\n",
      "   -- ------------------------------------- 1.2/15.7 MB 43.6 kB/s eta 0:05:34\n",
      "   -- ------------------------------------- 1.2/15.7 MB 43.6 kB/s eta 0:05:34\n",
      "   -- ------------------------------------- 1.2/15.7 MB 43.6 kB/s eta 0:05:34\n",
      "   -- ------------------------------------- 1.2/15.7 MB 43.6 kB/s eta 0:05:34\n",
      "   --- ------------------------------------ 1.2/15.7 MB 42.5 kB/s eta 0:05:42\n",
      "   --- ------------------------------------ 1.2/15.7 MB 42.5 kB/s eta 0:05:42\n",
      "   --- ------------------------------------ 1.2/15.7 MB 42.5 kB/s eta 0:05:42\n",
      "   --- ------------------------------------ 1.2/15.7 MB 42.5 kB/s eta 0:05:42\n",
      "   --- ------------------------------------ 1.2/15.7 MB 42.5 kB/s eta 0:05:42\n",
      "   --- ------------------------------------ 1.2/15.7 MB 42.5 kB/s eta 0:05:42\n",
      "   --- ------------------------------------ 1.2/15.7 MB 42.5 kB/s eta 0:05:42\n",
      "   --- ------------------------------------ 1.2/15.7 MB 42.5 kB/s eta 0:05:42\n",
      "   --- ------------------------------------ 1.2/15.7 MB 42.5 kB/s eta 0:05:42\n",
      "   --- ------------------------------------ 1.2/15.7 MB 42.5 kB/s eta 0:05:42\n",
      "   --- ------------------------------------ 1.2/15.7 MB 42.5 kB/s eta 0:05:42\n",
      "   --- ------------------------------------ 1.2/15.7 MB 42.5 kB/s eta 0:05:42\n",
      "   --- ------------------------------------ 1.2/15.7 MB 42.5 kB/s eta 0:05:42\n",
      "   --- ------------------------------------ 1.2/15.7 MB 42.5 kB/s eta 0:05:42\n",
      "   --- ------------------------------------ 1.2/15.7 MB 42.5 kB/s eta 0:05:42\n",
      "   --- ------------------------------------ 1.2/15.7 MB 42.5 kB/s eta 0:05:42\n",
      "   --- ------------------------------------ 1.2/15.7 MB 42.5 kB/s eta 0:05:42\n",
      "   --- ------------------------------------ 1.2/15.7 MB 42.5 kB/s eta 0:05:42\n",
      "   --- ------------------------------------ 1.2/15.7 MB 42.5 kB/s eta 0:05:42\n",
      "   --- ------------------------------------ 1.2/15.7 MB 42.5 kB/s eta 0:05:42\n",
      "   --- ------------------------------------ 1.2/15.7 MB 42.5 kB/s eta 0:05:42\n",
      "   --- ------------------------------------ 1.2/15.7 MB 41.3 kB/s eta 0:05:51\n",
      "   --- ------------------------------------ 1.2/15.7 MB 41.3 kB/s eta 0:05:51\n",
      "   --- ------------------------------------ 1.2/15.7 MB 41.3 kB/s eta 0:05:51\n",
      "   --- ------------------------------------ 1.2/15.7 MB 41.3 kB/s eta 0:05:51\n",
      "   --- ------------------------------------ 1.2/15.7 MB 41.3 kB/s eta 0:05:51\n",
      "   --- ------------------------------------ 1.2/15.7 MB 41.3 kB/s eta 0:05:51\n",
      "   --- ------------------------------------ 1.2/15.7 MB 41.3 kB/s eta 0:05:51\n",
      "   --- ------------------------------------ 1.2/15.7 MB 41.5 kB/s eta 0:05:49\n",
      "   --- ------------------------------------ 1.2/15.7 MB 41.5 kB/s eta 0:05:49\n",
      "   --- ------------------------------------ 1.2/15.7 MB 41.5 kB/s eta 0:05:49\n",
      "   --- ------------------------------------ 1.2/15.7 MB 41.5 kB/s eta 0:05:49\n",
      "   --- ------------------------------------ 1.2/15.7 MB 41.5 kB/s eta 0:05:49\n",
      "   --- ------------------------------------ 1.2/15.7 MB 41.5 kB/s eta 0:05:49\n",
      "   --- ------------------------------------ 1.2/15.7 MB 41.5 kB/s eta 0:05:49\n",
      "   --- ------------------------------------ 1.2/15.7 MB 41.5 kB/s eta 0:05:49\n",
      "   --- ------------------------------------ 1.2/15.7 MB 41.5 kB/s eta 0:05:49\n",
      "   --- ------------------------------------ 1.2/15.7 MB 41.5 kB/s eta 0:05:49\n",
      "   --- ------------------------------------ 1.2/15.7 MB 41.5 kB/s eta 0:05:49\n",
      "   --- ------------------------------------ 1.2/15.7 MB 41.5 kB/s eta 0:05:49\n",
      "   --- ------------------------------------ 1.2/15.7 MB 41.0 kB/s eta 0:05:53\n",
      "   --- ------------------------------------ 1.2/15.7 MB 41.0 kB/s eta 0:05:53\n",
      "   --- ------------------------------------ 1.2/15.7 MB 41.0 kB/s eta 0:05:53\n",
      "   --- ------------------------------------ 1.2/15.7 MB 41.0 kB/s eta 0:05:53\n",
      "   --- ------------------------------------ 1.2/15.7 MB 41.0 kB/s eta 0:05:53\n",
      "   --- ------------------------------------ 1.2/15.7 MB 41.0 kB/s eta 0:05:53\n",
      "   --- ------------------------------------ 1.2/15.7 MB 41.0 kB/s eta 0:05:53\n",
      "   --- ------------------------------------ 1.2/15.7 MB 41.0 kB/s eta 0:05:53\n",
      "   --- ------------------------------------ 1.2/15.7 MB 41.0 kB/s eta 0:05:53\n",
      "   --- ------------------------------------ 1.2/15.7 MB 41.0 kB/s eta 0:05:53\n",
      "   --- ------------------------------------ 1.2/15.7 MB 41.0 kB/s eta 0:05:53\n",
      "   --- ------------------------------------ 1.2/15.7 MB 41.0 kB/s eta 0:05:53\n",
      "   --- ------------------------------------ 1.2/15.7 MB 41.0 kB/s eta 0:05:53\n",
      "   --- ------------------------------------ 1.2/15.7 MB 41.0 kB/s eta 0:05:53\n",
      "   --- ------------------------------------ 1.2/15.7 MB 41.0 kB/s eta 0:05:53\n",
      "   --- ------------------------------------ 1.2/15.7 MB 41.0 kB/s eta 0:05:53\n",
      "   --- ------------------------------------ 1.2/15.7 MB 41.0 kB/s eta 0:05:53\n",
      "   --- ------------------------------------ 1.2/15.7 MB 41.0 kB/s eta 0:05:53\n",
      "   --- ------------------------------------ 1.2/15.7 MB 41.0 kB/s eta 0:05:53\n",
      "   --- ------------------------------------ 1.2/15.7 MB 41.0 kB/s eta 0:05:53\n",
      "   --- ------------------------------------ 1.2/15.7 MB 41.0 kB/s eta 0:05:53\n",
      "   --- ------------------------------------ 1.2/15.7 MB 41.0 kB/s eta 0:05:53\n",
      "   --- ------------------------------------ 1.2/15.7 MB 34.0 kB/s eta 0:07:05\n",
      "   --- ------------------------------------ 1.2/15.7 MB 34.0 kB/s eta 0:07:05\n",
      "   --- ------------------------------------ 1.2/15.7 MB 34.0 kB/s eta 0:07:05\n",
      "   --- ------------------------------------ 1.2/15.7 MB 34.0 kB/s eta 0:07:05\n",
      "   --- ------------------------------------ 1.2/15.7 MB 34.0 kB/s eta 0:07:05\n",
      "   --- ------------------------------------ 1.2/15.7 MB 34.0 kB/s eta 0:07:05\n",
      "   --- ------------------------------------ 1.2/15.7 MB 34.0 kB/s eta 0:07:05\n",
      "   --- ------------------------------------ 1.2/15.7 MB 34.0 kB/s eta 0:07:05\n",
      "   --- ------------------------------------ 1.2/15.7 MB 34.0 kB/s eta 0:07:05\n",
      "   --- ------------------------------------ 1.2/15.7 MB 34.0 kB/s eta 0:07:05\n",
      "   --- ------------------------------------ 1.2/15.7 MB 34.0 kB/s eta 0:07:05\n",
      "   --- ------------------------------------ 1.2/15.7 MB 34.0 kB/s eta 0:07:05\n",
      "   --- ------------------------------------ 1.2/15.7 MB 34.0 kB/s eta 0:07:05\n",
      "   --- ------------------------------------ 1.2/15.7 MB 34.0 kB/s eta 0:07:05\n",
      "   --- ------------------------------------ 1.2/15.7 MB 34.0 kB/s eta 0:07:05\n",
      "   --- ------------------------------------ 1.2/15.7 MB 34.0 kB/s eta 0:07:05\n",
      "   --- ------------------------------------ 1.2/15.7 MB 34.0 kB/s eta 0:07:05\n",
      "   --- ------------------------------------ 1.2/15.7 MB 34.0 kB/s eta 0:07:05\n",
      "   --- ------------------------------------ 1.2/15.7 MB 34.0 kB/s eta 0:07:05\n",
      "   --- ------------------------------------ 1.2/15.7 MB 34.0 kB/s eta 0:07:05\n",
      "   --- ------------------------------------ 1.2/15.7 MB 34.0 kB/s eta 0:07:05\n",
      "   --- ------------------------------------ 1.2/15.7 MB 34.0 kB/s eta 0:07:05\n",
      "   --- ------------------------------------ 1.3/15.7 MB 32.5 kB/s eta 0:07:24\n",
      "   --- ------------------------------------ 1.3/15.7 MB 32.5 kB/s eta 0:07:24\n",
      "   --- ------------------------------------ 1.3/15.7 MB 32.5 kB/s eta 0:07:24\n",
      "   --- ------------------------------------ 1.3/15.7 MB 32.5 kB/s eta 0:07:24\n",
      "   --- ------------------------------------ 1.3/15.7 MB 32.5 kB/s eta 0:07:24\n",
      "   --- ------------------------------------ 1.3/15.7 MB 32.5 kB/s eta 0:07:24\n",
      "   --- ------------------------------------ 1.3/15.7 MB 32.5 kB/s eta 0:07:24\n",
      "   --- ------------------------------------ 1.3/15.7 MB 32.5 kB/s eta 0:07:24\n",
      "   --- ------------------------------------ 1.3/15.7 MB 32.5 kB/s eta 0:07:24\n",
      "   --- ------------------------------------ 1.3/15.7 MB 32.5 kB/s eta 0:07:24\n",
      "   --- ------------------------------------ 1.3/15.7 MB 32.5 kB/s eta 0:07:24\n",
      "   --- ------------------------------------ 1.3/15.7 MB 32.5 kB/s eta 0:07:24\n",
      "   --- ------------------------------------ 1.3/15.7 MB 32.5 kB/s eta 0:07:24\n",
      "   --- ------------------------------------ 1.3/15.7 MB 32.5 kB/s eta 0:07:24\n",
      "   --- ------------------------------------ 1.3/15.7 MB 32.5 kB/s eta 0:07:24\n",
      "   --- ------------------------------------ 1.3/15.7 MB 32.5 kB/s eta 0:07:24\n",
      "   --- ------------------------------------ 1.3/15.7 MB 32.5 kB/s eta 0:07:24\n",
      "   --- ------------------------------------ 1.3/15.7 MB 32.5 kB/s eta 0:07:24\n",
      "   --- ------------------------------------ 1.3/15.7 MB 20.9 kB/s eta 0:11:30\n",
      "   --- ------------------------------------ 1.3/15.7 MB 20.9 kB/s eta 0:11:30\n",
      "   --- ------------------------------------ 1.3/15.7 MB 20.9 kB/s eta 0:11:30\n",
      "   --- ------------------------------------ 1.3/15.7 MB 20.9 kB/s eta 0:11:30\n",
      "   --- ------------------------------------ 1.3/15.7 MB 20.9 kB/s eta 0:11:30\n",
      "   --- ------------------------------------ 1.3/15.7 MB 20.9 kB/s eta 0:11:30\n",
      "   --- ------------------------------------ 1.3/15.7 MB 20.9 kB/s eta 0:11:30\n",
      "   --- ------------------------------------ 1.3/15.7 MB 20.9 kB/s eta 0:11:30\n",
      "   --- ------------------------------------ 1.3/15.7 MB 20.9 kB/s eta 0:11:30\n",
      "   --- ------------------------------------ 1.3/15.7 MB 20.9 kB/s eta 0:11:30\n",
      "   --- ------------------------------------ 1.3/15.7 MB 20.9 kB/s eta 0:11:30\n",
      "   --- ------------------------------------ 1.3/15.7 MB 20.9 kB/s eta 0:11:30\n",
      "   --- ------------------------------------ 1.3/15.7 MB 20.9 kB/s eta 0:11:30\n",
      "   --- ------------------------------------ 1.3/15.7 MB 20.9 kB/s eta 0:11:30\n",
      "   --- ------------------------------------ 1.3/15.7 MB 20.9 kB/s eta 0:11:30\n",
      "   --- ------------------------------------ 1.3/15.7 MB 20.9 kB/s eta 0:11:30\n",
      "   --- ------------------------------------ 1.3/15.7 MB 20.9 kB/s eta 0:11:30\n",
      "   --- ------------------------------------ 1.3/15.7 MB 20.9 kB/s eta 0:11:30\n",
      "   --- ------------------------------------ 1.3/15.7 MB 20.9 kB/s eta 0:11:30\n",
      "   --- ------------------------------------ 1.3/15.7 MB 20.9 kB/s eta 0:11:30\n",
      "   --- ------------------------------------ 1.3/15.7 MB 19.3 kB/s eta 0:12:25\n",
      "   --- ------------------------------------ 1.3/15.7 MB 19.3 kB/s eta 0:12:25\n",
      "   --- ------------------------------------ 1.3/15.7 MB 19.3 kB/s eta 0:12:25\n",
      "   --- ------------------------------------ 1.3/15.7 MB 19.3 kB/s eta 0:12:25\n",
      "   --- ------------------------------------ 1.3/15.7 MB 19.3 kB/s eta 0:12:25\n",
      "   --- ------------------------------------ 1.3/15.7 MB 19.3 kB/s eta 0:12:25\n",
      "   --- ------------------------------------ 1.3/15.7 MB 19.3 kB/s eta 0:12:25\n",
      "   --- ------------------------------------ 1.3/15.7 MB 19.3 kB/s eta 0:12:25\n",
      "   --- ------------------------------------ 1.3/15.7 MB 19.3 kB/s eta 0:12:25\n",
      "   --- ------------------------------------ 1.3/15.7 MB 19.3 kB/s eta 0:12:25\n",
      "   --- ------------------------------------ 1.3/15.7 MB 19.3 kB/s eta 0:12:25\n",
      "   --- ------------------------------------ 1.3/15.7 MB 19.3 kB/s eta 0:12:25\n",
      "   --- ------------------------------------ 1.3/15.7 MB 19.3 kB/s eta 0:12:25\n",
      "   --- ------------------------------------ 1.3/15.7 MB 19.3 kB/s eta 0:12:25\n",
      "   --- ------------------------------------ 1.3/15.7 MB 19.3 kB/s eta 0:12:25\n",
      "   --- ------------------------------------ 1.3/15.7 MB 19.3 kB/s eta 0:12:25\n",
      "   --- ------------------------------------ 1.3/15.7 MB 19.3 kB/s eta 0:12:25\n",
      "   --- ------------------------------------ 1.3/15.7 MB 19.3 kB/s eta 0:12:25\n",
      "   --- ------------------------------------ 1.3/15.7 MB 19.3 kB/s eta 0:12:25\n",
      "   --- ------------------------------------ 1.3/15.7 MB 19.3 kB/s eta 0:12:25\n",
      "   --- ------------------------------------ 1.3/15.7 MB 19.3 kB/s eta 0:12:25\n",
      "   --- ------------------------------------ 1.3/15.7 MB 19.3 kB/s eta 0:12:25\n",
      "   --- ------------------------------------ 1.3/15.7 MB 17.2 kB/s eta 0:13:58\n",
      "   --- ------------------------------------ 1.3/15.7 MB 17.2 kB/s eta 0:13:58\n",
      "   --- ------------------------------------ 1.3/15.7 MB 17.2 kB/s eta 0:13:58\n",
      "   --- ------------------------------------ 1.3/15.7 MB 17.2 kB/s eta 0:13:58\n",
      "   --- ------------------------------------ 1.3/15.7 MB 17.2 kB/s eta 0:13:58\n",
      "   --- ------------------------------------ 1.3/15.7 MB 17.2 kB/s eta 0:13:58\n",
      "   --- ------------------------------------ 1.3/15.7 MB 17.2 kB/s eta 0:13:58\n",
      "   --- ------------------------------------ 1.3/15.7 MB 17.2 kB/s eta 0:13:58\n",
      "   --- ------------------------------------ 1.3/15.7 MB 17.2 kB/s eta 0:13:58\n",
      "   --- ------------------------------------ 1.3/15.7 MB 17.2 kB/s eta 0:13:58\n",
      "   --- ------------------------------------ 1.3/15.7 MB 17.2 kB/s eta 0:13:58\n",
      "   --- ------------------------------------ 1.3/15.7 MB 17.2 kB/s eta 0:13:58\n",
      "   --- ------------------------------------ 1.3/15.7 MB 17.2 kB/s eta 0:13:58\n",
      "   --- ------------------------------------ 1.3/15.7 MB 17.2 kB/s eta 0:13:58\n",
      "   --- ------------------------------------ 1.3/15.7 MB 17.2 kB/s eta 0:13:58\n",
      "   --- ------------------------------------ 1.3/15.7 MB 17.2 kB/s eta 0:13:58\n",
      "   --- ------------------------------------ 1.3/15.7 MB 17.2 kB/s eta 0:13:58\n",
      "   --- ------------------------------------ 1.3/15.7 MB 17.2 kB/s eta 0:13:58\n",
      "   --- ------------------------------------ 1.3/15.7 MB 17.2 kB/s eta 0:13:58\n",
      "   --- ------------------------------------ 1.3/15.7 MB 17.2 kB/s eta 0:13:58\n",
      "   --- ------------------------------------ 1.3/15.7 MB 17.2 kB/s eta 0:13:58\n",
      "   --- ------------------------------------ 1.3/15.7 MB 17.2 kB/s eta 0:13:58\n",
      "   --- ------------------------------------ 1.3/15.7 MB 17.2 kB/s eta 0:13:58\n",
      "   --- ------------------------------------ 1.3/15.7 MB 17.4 kB/s eta 0:13:45\n",
      "   --- ------------------------------------ 1.3/15.7 MB 17.4 kB/s eta 0:13:45\n",
      "   --- ------------------------------------ 1.3/15.7 MB 17.4 kB/s eta 0:13:45\n",
      "   --- ------------------------------------ 1.3/15.7 MB 17.4 kB/s eta 0:13:45\n",
      "   --- ------------------------------------ 1.3/15.7 MB 17.4 kB/s eta 0:13:45\n",
      "   --- ------------------------------------ 1.3/15.7 MB 17.4 kB/s eta 0:13:45\n",
      "   --- ------------------------------------ 1.3/15.7 MB 17.4 kB/s eta 0:13:45\n",
      "   --- ------------------------------------ 1.3/15.7 MB 17.4 kB/s eta 0:13:45\n",
      "   --- ------------------------------------ 1.3/15.7 MB 17.4 kB/s eta 0:13:45\n",
      "   --- ------------------------------------ 1.3/15.7 MB 17.4 kB/s eta 0:13:45\n",
      "   --- ------------------------------------ 1.3/15.7 MB 17.4 kB/s eta 0:13:45\n",
      "   --- ------------------------------------ 1.3/15.7 MB 17.4 kB/s eta 0:13:45\n",
      "   --- ------------------------------------ 1.3/15.7 MB 17.4 kB/s eta 0:13:45\n",
      "   --- ------------------------------------ 1.3/15.7 MB 17.4 kB/s eta 0:13:45\n",
      "   --- ------------------------------------ 1.3/15.7 MB 17.4 kB/s eta 0:13:45\n",
      "   --- ------------------------------------ 1.3/15.7 MB 17.4 kB/s eta 0:13:45\n",
      "   --- ------------------------------------ 1.3/15.7 MB 17.4 kB/s eta 0:13:45\n",
      "   --- ------------------------------------ 1.3/15.7 MB 17.4 kB/s eta 0:13:45\n",
      "   --- ------------------------------------ 1.3/15.7 MB 17.4 kB/s eta 0:13:45\n",
      "   --- ------------------------------------ 1.3/15.7 MB 17.4 kB/s eta 0:13:45\n",
      "   --- ------------------------------------ 1.3/15.7 MB 17.4 kB/s eta 0:13:45\n",
      "   --- ------------------------------------ 1.3/15.7 MB 17.4 kB/s eta 0:13:45\n",
      "   --- ------------------------------------ 1.3/15.7 MB 17.4 kB/s eta 0:13:45\n",
      "   --- ------------------------------------ 1.3/15.7 MB 17.4 kB/s eta 0:13:45\n",
      "   --- ------------------------------------ 1.3/15.7 MB 17.4 kB/s eta 0:13:45\n",
      "   --- ------------------------------------ 1.3/15.7 MB 17.4 kB/s eta 0:13:45\n",
      "   --- ------------------------------------ 1.3/15.7 MB 17.4 kB/s eta 0:13:45\n",
      "   --- ------------------------------------ 1.3/15.7 MB 17.4 kB/s eta 0:13:45\n",
      "   --- ------------------------------------ 1.3/15.7 MB 17.4 kB/s eta 0:13:45\n",
      "   --- ------------------------------------ 1.3/15.7 MB 17.4 kB/s eta 0:13:45\n",
      "   --- ------------------------------------ 1.3/15.7 MB 17.4 kB/s eta 0:13:45\n",
      "   --- ------------------------------------ 1.4/15.7 MB 17.8 kB/s eta 0:13:27\n",
      "   --- ------------------------------------ 1.4/15.7 MB 17.8 kB/s eta 0:13:27\n",
      "   --- ------------------------------------ 1.4/15.7 MB 17.8 kB/s eta 0:13:27\n",
      "   --- ------------------------------------ 1.4/15.7 MB 17.8 kB/s eta 0:13:27\n",
      "   --- ------------------------------------ 1.4/15.7 MB 17.8 kB/s eta 0:13:27\n",
      "   --- ------------------------------------ 1.4/15.7 MB 17.8 kB/s eta 0:13:27\n",
      "   --- ------------------------------------ 1.4/15.7 MB 17.8 kB/s eta 0:13:27\n",
      "   --- ------------------------------------ 1.4/15.7 MB 17.8 kB/s eta 0:13:27\n",
      "   --- ------------------------------------ 1.4/15.7 MB 17.8 kB/s eta 0:13:27\n",
      "   --- ------------------------------------ 1.4/15.7 MB 17.8 kB/s eta 0:13:27\n",
      "   --- ------------------------------------ 1.4/15.7 MB 17.8 kB/s eta 0:13:27\n",
      "   --- ------------------------------------ 1.4/15.7 MB 17.8 kB/s eta 0:13:27\n",
      "   --- ------------------------------------ 1.4/15.7 MB 17.8 kB/s eta 0:13:27\n",
      "   --- ------------------------------------ 1.4/15.7 MB 17.8 kB/s eta 0:13:27\n",
      "   --- ------------------------------------ 1.4/15.7 MB 17.8 kB/s eta 0:13:27\n",
      "   --- ------------------------------------ 1.4/15.7 MB 17.8 kB/s eta 0:13:27\n",
      "   --- ------------------------------------ 1.4/15.7 MB 17.8 kB/s eta 0:13:27\n",
      "   --- ------------------------------------ 1.4/15.7 MB 17.8 kB/s eta 0:13:27\n",
      "   --- ------------------------------------ 1.4/15.7 MB 17.8 kB/s eta 0:13:27\n",
      "   --- ------------------------------------ 1.4/15.7 MB 17.8 kB/s eta 0:13:27\n",
      "   --- ------------------------------------ 1.4/15.7 MB 17.8 kB/s eta 0:13:27\n",
      "   --- ------------------------------------ 1.4/15.7 MB 17.8 kB/s eta 0:13:27\n",
      "   --- ------------------------------------ 1.4/15.7 MB 17.8 kB/s eta 0:13:27\n",
      "   --- ------------------------------------ 1.4/15.7 MB 17.8 kB/s eta 0:13:27\n",
      "   --- ------------------------------------ 1.4/15.7 MB 17.8 kB/s eta 0:13:27\n",
      "   --- ------------------------------------ 1.4/15.7 MB 17.8 kB/s eta 0:13:27\n",
      "   --- ------------------------------------ 1.4/15.7 MB 17.1 kB/s eta 0:13:56\n",
      "   --- ------------------------------------ 1.4/15.7 MB 17.1 kB/s eta 0:13:56\n",
      "   --- ------------------------------------ 1.4/15.7 MB 17.1 kB/s eta 0:13:56\n",
      "   --- ------------------------------------ 1.4/15.7 MB 17.1 kB/s eta 0:13:56\n",
      "   --- ------------------------------------ 1.4/15.7 MB 17.1 kB/s eta 0:13:56\n",
      "   --- ------------------------------------ 1.4/15.7 MB 17.1 kB/s eta 0:13:56\n",
      "   --- ------------------------------------ 1.4/15.7 MB 17.1 kB/s eta 0:13:56\n",
      "   --- ------------------------------------ 1.4/15.7 MB 17.1 kB/s eta 0:13:56\n",
      "   --- ------------------------------------ 1.4/15.7 MB 17.1 kB/s eta 0:13:56\n",
      "   --- ------------------------------------ 1.4/15.7 MB 17.1 kB/s eta 0:13:56\n",
      "   --- ------------------------------------ 1.4/15.7 MB 17.1 kB/s eta 0:13:56\n",
      "   --- ------------------------------------ 1.4/15.7 MB 17.1 kB/s eta 0:13:56\n",
      "   --- ------------------------------------ 1.4/15.7 MB 17.1 kB/s eta 0:13:56\n",
      "   --- ------------------------------------ 1.4/15.7 MB 17.1 kB/s eta 0:13:56\n",
      "   --- ------------------------------------ 1.4/15.7 MB 17.1 kB/s eta 0:13:56\n",
      "   --- ------------------------------------ 1.4/15.7 MB 17.1 kB/s eta 0:13:56\n",
      "   --- ------------------------------------ 1.4/15.7 MB 17.1 kB/s eta 0:13:56\n",
      "   --- ------------------------------------ 1.4/15.7 MB 17.1 kB/s eta 0:13:56\n",
      "   --- ------------------------------------ 1.4/15.7 MB 17.1 kB/s eta 0:13:56\n",
      "   --- ------------------------------------ 1.4/15.7 MB 17.1 kB/s eta 0:13:56\n",
      "   --- ------------------------------------ 1.4/15.7 MB 17.1 kB/s eta 0:13:56\n",
      "   --- ------------------------------------ 1.4/15.7 MB 17.1 kB/s eta 0:13:56\n",
      "   --- ------------------------------------ 1.4/15.7 MB 17.1 kB/s eta 0:13:56\n",
      "   --- ------------------------------------ 1.4/15.7 MB 17.1 kB/s eta 0:13:56\n",
      "   --- ------------------------------------ 1.4/15.7 MB 17.1 kB/s eta 0:13:56\n",
      "   --- ------------------------------------ 1.4/15.7 MB 17.1 kB/s eta 0:13:56\n",
      "   --- ------------------------------------ 1.4/15.7 MB 17.1 kB/s eta 0:13:56\n",
      "   --- ------------------------------------ 1.4/15.7 MB 17.1 kB/s eta 0:13:56\n",
      "   --- ------------------------------------ 1.4/15.7 MB 17.1 kB/s eta 0:13:56\n",
      "   --- ------------------------------------ 1.4/15.7 MB 17.1 kB/s eta 0:13:56\n",
      "   --- ------------------------------------ 1.4/15.7 MB 17.1 kB/s eta 0:13:56\n",
      "   --- ------------------------------------ 1.4/15.7 MB 17.1 kB/s eta 0:13:56\n",
      "   --- ------------------------------------ 1.4/15.7 MB 17.1 kB/s eta 0:13:56\n",
      "   --- ------------------------------------ 1.4/15.7 MB 17.1 kB/s eta 0:13:56\n",
      "   --- ------------------------------------ 1.4/15.7 MB 17.1 kB/s eta 0:13:56\n",
      "   --- ------------------------------------ 1.4/15.7 MB 17.1 kB/s eta 0:13:56\n",
      "   --- ------------------------------------ 1.4/15.7 MB 17.1 kB/s eta 0:13:56\n",
      "   --- ------------------------------------ 1.4/15.7 MB 17.1 kB/s eta 0:13:56\n",
      "   --- ------------------------------------ 1.4/15.7 MB 17.1 kB/s eta 0:13:56\n",
      "   --- ------------------------------------ 1.4/15.7 MB 17.1 kB/s eta 0:13:56\n",
      "   --- ------------------------------------ 1.4/15.7 MB 17.1 kB/s eta 0:13:56\n",
      "   --- ------------------------------------ 1.4/15.7 MB 17.1 kB/s eta 0:13:56\n",
      "   --- ------------------------------------ 1.4/15.7 MB 17.1 kB/s eta 0:13:56\n",
      "   --- ------------------------------------ 1.4/15.7 MB 17.1 kB/s eta 0:13:56\n",
      "   --- ------------------------------------ 1.4/15.7 MB 17.1 kB/s eta 0:13:56\n",
      "   --- ------------------------------------ 1.4/15.7 MB 17.1 kB/s eta 0:13:56\n",
      "   --- ------------------------------------ 1.4/15.7 MB 17.1 kB/s eta 0:13:56\n",
      "   --- ------------------------------------ 1.4/15.7 MB 17.1 kB/s eta 0:13:56\n",
      "   --- ------------------------------------ 1.4/15.7 MB 17.1 kB/s eta 0:13:56\n",
      "   --- ------------------------------------ 1.4/15.7 MB 17.1 kB/s eta 0:13:56\n",
      "   --- ------------------------------------ 1.4/15.7 MB 17.1 kB/s eta 0:13:56\n",
      "   --- ------------------------------------ 1.4/15.7 MB 17.1 kB/s eta 0:13:56\n",
      "   --- ------------------------------------ 1.4/15.7 MB 17.1 kB/s eta 0:13:56\n",
      "   --- ------------------------------------ 1.4/15.7 MB 17.1 kB/s eta 0:13:56\n",
      "   --- ------------------------------------ 1.4/15.7 MB 17.1 kB/s eta 0:13:56\n",
      "   --- ------------------------------------ 1.4/15.7 MB 17.1 kB/s eta 0:13:56\n",
      "   --- ------------------------------------ 1.4/15.7 MB 17.1 kB/s eta 0:13:56\n",
      "   --- ------------------------------------ 1.4/15.7 MB 17.1 kB/s eta 0:13:56\n",
      "   --- ------------------------------------ 1.4/15.7 MB 17.1 kB/s eta 0:13:56\n",
      "   --- ------------------------------------ 1.4/15.7 MB 17.1 kB/s eta 0:13:56\n",
      "   --- ------------------------------------ 1.4/15.7 MB 17.1 kB/s eta 0:13:56\n",
      "   --- ------------------------------------ 1.4/15.7 MB 17.1 kB/s eta 0:13:56\n",
      "   --- ------------------------------------ 1.4/15.7 MB 17.1 kB/s eta 0:13:56\n",
      "   --- ------------------------------------ 1.4/15.7 MB 17.1 kB/s eta 0:13:56\n",
      "   --- ------------------------------------ 1.4/15.7 MB 17.1 kB/s eta 0:13:56\n",
      "   --- ------------------------------------ 1.4/15.7 MB 17.1 kB/s eta 0:13:56\n",
      "   --- ------------------------------------ 1.4/15.7 MB 17.1 kB/s eta 0:13:56\n",
      "   --- ------------------------------------ 1.4/15.7 MB 17.1 kB/s eta 0:13:56\n",
      "   --- ------------------------------------ 1.4/15.7 MB 17.1 kB/s eta 0:13:56\n",
      "   --- ------------------------------------ 1.4/15.7 MB 17.1 kB/s eta 0:13:56\n",
      "   --- ------------------------------------ 1.4/15.7 MB 17.1 kB/s eta 0:13:56\n",
      "   --- ------------------------------------ 1.4/15.7 MB 17.1 kB/s eta 0:13:56\n",
      "   --- ------------------------------------ 1.4/15.7 MB 17.1 kB/s eta 0:13:56\n",
      "   --- ------------------------------------ 1.4/15.7 MB 17.1 kB/s eta 0:13:56\n",
      "   --- ------------------------------------ 1.4/15.7 MB 17.1 kB/s eta 0:13:56\n",
      "   --- ------------------------------------ 1.4/15.7 MB 17.1 kB/s eta 0:13:56\n",
      "   --- ------------------------------------ 1.4/15.7 MB 17.1 kB/s eta 0:13:56\n",
      "   --- ------------------------------------ 1.4/15.7 MB 17.1 kB/s eta 0:13:56\n",
      "   --- ------------------------------------ 1.4/15.7 MB 17.1 kB/s eta 0:13:56\n",
      "   --- ------------------------------------ 1.4/15.7 MB 17.1 kB/s eta 0:13:56\n",
      "   --- ------------------------------------ 1.4/15.7 MB 17.1 kB/s eta 0:13:56\n",
      "   --- ------------------------------------ 1.4/15.7 MB 17.1 kB/s eta 0:13:56\n",
      "   --- ------------------------------------ 1.4/15.7 MB 17.1 kB/s eta 0:13:56\n",
      "   --- ------------------------------------ 1.4/15.7 MB 17.1 kB/s eta 0:13:56\n",
      "   --- ------------------------------------ 1.4/15.7 MB 17.1 kB/s eta 0:13:56\n",
      "   --- ------------------------------------ 1.4/15.7 MB 17.1 kB/s eta 0:13:56\n",
      "   --- ------------------------------------ 1.4/15.7 MB 17.1 kB/s eta 0:13:56\n",
      "   --- ------------------------------------ 1.4/15.7 MB 17.1 kB/s eta 0:13:56\n",
      "   --- ------------------------------------ 1.4/15.7 MB 17.1 kB/s eta 0:13:56\n",
      "   --- ------------------------------------ 1.4/15.7 MB 17.1 kB/s eta 0:13:56\n",
      "   --- ------------------------------------ 1.4/15.7 MB 17.1 kB/s eta 0:13:56\n",
      "   --- ------------------------------------ 1.4/15.7 MB 17.1 kB/s eta 0:13:56\n",
      "   --- ------------------------------------ 1.4/15.7 MB 17.1 kB/s eta 0:13:56\n",
      "   --- ------------------------------------ 1.4/15.7 MB 17.1 kB/s eta 0:13:56\n",
      "   --- ------------------------------------ 1.4/15.7 MB 17.1 kB/s eta 0:13:56\n",
      "   --- ------------------------------------ 1.4/15.7 MB 17.1 kB/s eta 0:13:56\n",
      "   --- ------------------------------------ 1.4/15.7 MB 17.1 kB/s eta 0:13:56\n",
      "   --- ------------------------------------ 1.4/15.7 MB 17.1 kB/s eta 0:13:56\n",
      "   --- ------------------------------------ 1.4/15.7 MB 17.1 kB/s eta 0:13:56\n",
      "   --- ------------------------------------ 1.4/15.7 MB 17.1 kB/s eta 0:13:56\n",
      "   --- ------------------------------------ 1.4/15.7 MB 17.1 kB/s eta 0:13:56\n",
      "   --- ------------------------------------ 1.4/15.7 MB 17.1 kB/s eta 0:13:56\n",
      "   --- ------------------------------------ 1.4/15.7 MB 17.1 kB/s eta 0:13:56\n",
      "   --- ------------------------------------ 1.4/15.7 MB 17.1 kB/s eta 0:13:56\n",
      "   --- ------------------------------------ 1.4/15.7 MB 17.1 kB/s eta 0:13:56\n",
      "   --- ------------------------------------ 1.4/15.7 MB 17.1 kB/s eta 0:13:56\n",
      "   --- ------------------------------------ 1.4/15.7 MB 17.1 kB/s eta 0:13:56\n",
      "   --- ------------------------------------ 1.4/15.7 MB 17.1 kB/s eta 0:13:56\n",
      "   --- ------------------------------------ 1.4/15.7 MB 17.1 kB/s eta 0:13:56\n",
      "   --- ------------------------------------ 1.4/15.7 MB 17.1 kB/s eta 0:13:56\n",
      "   --- ------------------------------------ 1.4/15.7 MB 17.1 kB/s eta 0:13:56\n",
      "   --- ------------------------------------ 1.4/15.7 MB 17.1 kB/s eta 0:13:56\n",
      "   --- ------------------------------------ 1.4/15.7 MB 17.1 kB/s eta 0:13:56\n",
      "   --- ------------------------------------ 1.4/15.7 MB 17.1 kB/s eta 0:13:56\n",
      "   --- ------------------------------------ 1.4/15.7 MB 17.1 kB/s eta 0:13:56\n",
      "   --- ------------------------------------ 1.4/15.7 MB 17.1 kB/s eta 0:13:56\n",
      "   --- ------------------------------------ 1.4/15.7 MB 17.1 kB/s eta 0:13:56\n",
      "   --- ------------------------------------ 1.4/15.7 MB 17.1 kB/s eta 0:13:56\n",
      "   --- ------------------------------------ 1.4/15.7 MB 17.1 kB/s eta 0:13:56\n",
      "   --- ------------------------------------ 1.4/15.7 MB 17.1 kB/s eta 0:13:56\n",
      "   --- ------------------------------------ 1.4/15.7 MB 17.1 kB/s eta 0:13:56\n",
      "   --- ------------------------------------ 1.4/15.7 MB 17.1 kB/s eta 0:13:56\n",
      "   --- ------------------------------------ 1.4/15.7 MB 17.1 kB/s eta 0:13:56\n",
      "   --- ------------------------------------ 1.4/15.7 MB 17.1 kB/s eta 0:13:56\n",
      "   --- ------------------------------------ 1.4/15.7 MB 17.1 kB/s eta 0:13:56\n",
      "   --- ------------------------------------ 1.4/15.7 MB 17.1 kB/s eta 0:13:56\n",
      "   --- ------------------------------------ 1.4/15.7 MB 17.1 kB/s eta 0:13:56\n",
      "   --- ------------------------------------ 1.4/15.7 MB 17.1 kB/s eta 0:13:56\n",
      "   --- ------------------------------------ 1.4/15.7 MB 17.1 kB/s eta 0:13:56\n",
      "   --- ------------------------------------ 1.4/15.7 MB 17.1 kB/s eta 0:13:56\n",
      "   --- ------------------------------------ 1.4/15.7 MB 17.1 kB/s eta 0:13:56\n",
      "   --- ------------------------------------ 1.4/15.7 MB 17.1 kB/s eta 0:13:56\n",
      "   --- ------------------------------------ 1.4/15.7 MB 17.1 kB/s eta 0:13:56\n",
      "   --- ------------------------------------ 1.4/15.7 MB 17.1 kB/s eta 0:13:56\n",
      "   --- ------------------------------------ 1.4/15.7 MB 17.1 kB/s eta 0:13:56\n",
      "   --- ------------------------------------ 1.4/15.7 MB 17.1 kB/s eta 0:13:56\n",
      "   --- ------------------------------------ 1.4/15.7 MB 17.1 kB/s eta 0:13:56\n",
      "   --- ------------------------------------ 1.4/15.7 MB 17.1 kB/s eta 0:13:56\n",
      "   --- ------------------------------------ 1.4/15.7 MB 17.1 kB/s eta 0:13:56\n",
      "   --- ------------------------------------ 1.4/15.7 MB 17.1 kB/s eta 0:13:56\n",
      "   --- ------------------------------------ 1.4/15.7 MB 17.1 kB/s eta 0:13:56\n",
      "   --- ------------------------------------ 1.4/15.7 MB 17.1 kB/s eta 0:13:56\n",
      "   --- ------------------------------------ 1.4/15.7 MB 17.1 kB/s eta 0:13:56\n",
      "   --- ------------------------------------ 1.4/15.7 MB 17.1 kB/s eta 0:13:56\n",
      "   --- ------------------------------------ 1.4/15.7 MB 17.1 kB/s eta 0:13:56\n",
      "   --- ------------------------------------ 1.4/15.7 MB 17.1 kB/s eta 0:13:56\n",
      "   --- ------------------------------------ 1.4/15.7 MB 17.1 kB/s eta 0:13:56\n",
      "   --- ------------------------------------ 1.4/15.7 MB 17.1 kB/s eta 0:13:56\n",
      "   --- ------------------------------------ 1.4/15.7 MB 17.1 kB/s eta 0:13:56\n",
      "   --- ------------------------------------ 1.4/15.7 MB 17.1 kB/s eta 0:13:56\n",
      "   --- ------------------------------------ 1.4/15.7 MB 17.1 kB/s eta 0:13:56\n",
      "   --- ------------------------------------ 1.4/15.7 MB 17.1 kB/s eta 0:13:56\n",
      "   --- ------------------------------------ 1.4/15.7 MB 17.1 kB/s eta 0:13:56\n",
      "   --- ------------------------------------ 1.4/15.7 MB 17.1 kB/s eta 0:13:56\n",
      "   --- ------------------------------------ 1.4/15.7 MB 17.1 kB/s eta 0:13:56\n",
      "   --- ------------------------------------ 1.4/15.7 MB 17.1 kB/s eta 0:13:56\n",
      "   --- ------------------------------------ 1.4/15.7 MB 17.1 kB/s eta 0:13:56\n",
      "   --- ------------------------------------ 1.4/15.7 MB 17.1 kB/s eta 0:13:56\n",
      "   --- ------------------------------------ 1.4/15.7 MB 17.1 kB/s eta 0:13:56\n",
      "   --- ------------------------------------ 1.4/15.7 MB 17.1 kB/s eta 0:13:56\n",
      "   --- ------------------------------------ 1.4/15.7 MB 17.1 kB/s eta 0:13:56\n",
      "   --- ------------------------------------ 1.4/15.7 MB 17.1 kB/s eta 0:13:56\n",
      "   --- ------------------------------------ 1.4/15.7 MB 17.1 kB/s eta 0:13:56\n",
      "   --- ------------------------------------ 1.4/15.7 MB 17.1 kB/s eta 0:13:56\n",
      "   --- ------------------------------------ 1.4/15.7 MB 17.1 kB/s eta 0:13:56\n",
      "   --- ------------------------------------ 1.4/15.7 MB 17.1 kB/s eta 0:13:56\n",
      "   --- ------------------------------------ 1.4/15.7 MB 17.1 kB/s eta 0:13:56\n",
      "   --- ------------------------------------ 1.4/15.7 MB 17.1 kB/s eta 0:13:56\n",
      "   --- ------------------------------------ 1.4/15.7 MB 17.1 kB/s eta 0:13:56\n",
      "   --- ------------------------------------ 1.4/15.7 MB 17.1 kB/s eta 0:13:56\n",
      "   --- ------------------------------------ 1.4/15.7 MB 17.1 kB/s eta 0:13:56\n",
      "   --- ------------------------------------ 1.4/15.7 MB 17.1 kB/s eta 0:13:56\n",
      "   --- ------------------------------------ 1.4/15.7 MB 17.1 kB/s eta 0:13:56\n",
      "   --- ------------------------------------ 1.4/15.7 MB 17.1 kB/s eta 0:13:56\n",
      "   --- ------------------------------------ 1.4/15.7 MB 17.1 kB/s eta 0:13:56\n",
      "   --- ------------------------------------ 1.4/15.7 MB 17.1 kB/s eta 0:13:56\n",
      "   --- ------------------------------------ 1.4/15.7 MB 17.1 kB/s eta 0:13:56\n",
      "   --- ------------------------------------ 1.4/15.7 MB 17.1 kB/s eta 0:13:56\n",
      "   --- ------------------------------------ 1.4/15.7 MB 17.1 kB/s eta 0:13:56\n",
      "   --- ------------------------------------ 1.4/15.7 MB 17.1 kB/s eta 0:13:56\n",
      "   --- ------------------------------------ 1.4/15.7 MB 17.1 kB/s eta 0:13:56\n",
      "   --- ------------------------------------ 1.4/15.7 MB 17.1 kB/s eta 0:13:56\n",
      "   --- ------------------------------------ 1.4/15.7 MB 17.1 kB/s eta 0:13:56\n",
      "   --- ------------------------------------ 1.4/15.7 MB 17.1 kB/s eta 0:13:56\n",
      "   --- ------------------------------------ 1.4/15.7 MB 17.1 kB/s eta 0:13:56\n",
      "   --- ------------------------------------ 1.4/15.7 MB 17.1 kB/s eta 0:13:56\n",
      "   --- ------------------------------------ 1.4/15.7 MB 17.1 kB/s eta 0:13:56\n",
      "   --- ------------------------------------ 1.4/15.7 MB 17.1 kB/s eta 0:13:56\n",
      "   --- ------------------------------------ 1.4/15.7 MB 17.1 kB/s eta 0:13:56\n",
      "   --- ------------------------------------ 1.4/15.7 MB 17.1 kB/s eta 0:13:56\n",
      "   --- ------------------------------------ 1.4/15.7 MB 17.1 kB/s eta 0:13:56\n",
      "   --- ------------------------------------ 1.4/15.7 MB 17.1 kB/s eta 0:13:56\n",
      "   --- ------------------------------------ 1.4/15.7 MB 17.1 kB/s eta 0:13:56\n",
      "   --- ------------------------------------ 1.4/15.7 MB 17.1 kB/s eta 0:13:56\n",
      "   --- ------------------------------------ 1.4/15.7 MB 17.1 kB/s eta 0:13:56\n",
      "   --- ------------------------------------ 1.4/15.7 MB 17.1 kB/s eta 0:13:56\n",
      "   --- ------------------------------------ 1.4/15.7 MB 17.1 kB/s eta 0:13:56\n",
      "   --- ------------------------------------ 1.4/15.7 MB 17.1 kB/s eta 0:13:56\n",
      "   --- ------------------------------------ 1.4/15.7 MB 17.1 kB/s eta 0:13:56\n",
      "   --- ------------------------------------ 1.4/15.7 MB 17.1 kB/s eta 0:13:56\n",
      "   --- ------------------------------------ 1.4/15.7 MB 17.1 kB/s eta 0:13:56\n",
      "   --- ------------------------------------ 1.4/15.7 MB 17.1 kB/s eta 0:13:56\n",
      "   --- ------------------------------------ 1.4/15.7 MB 17.1 kB/s eta 0:13:56\n",
      "   --- ------------------------------------ 1.4/15.7 MB 17.1 kB/s eta 0:13:56\n",
      "   --- ------------------------------------ 1.4/15.7 MB 17.1 kB/s eta 0:13:56\n",
      "   --- ------------------------------------ 1.4/15.7 MB 17.1 kB/s eta 0:13:56\n",
      "   --- ------------------------------------ 1.4/15.7 MB 17.1 kB/s eta 0:13:56\n",
      "   --- ------------------------------------ 1.4/15.7 MB 17.1 kB/s eta 0:13:56\n",
      "   --- ------------------------------------ 1.4/15.7 MB 17.1 kB/s eta 0:13:56\n",
      "   --- ------------------------------------ 1.4/15.7 MB 17.1 kB/s eta 0:13:56\n",
      "   --- ------------------------------------ 1.4/15.7 MB 17.1 kB/s eta 0:13:56\n",
      "   --- ------------------------------------ 1.4/15.7 MB 17.1 kB/s eta 0:13:56\n",
      "   --- ------------------------------------ 1.4/15.7 MB 17.1 kB/s eta 0:13:56\n",
      "   --- ------------------------------------ 1.4/15.7 MB 17.1 kB/s eta 0:13:56\n",
      "   --- ------------------------------------ 1.4/15.7 MB 17.1 kB/s eta 0:13:56\n",
      "   --- ------------------------------------ 1.4/15.7 MB 17.1 kB/s eta 0:13:56\n",
      "   --- ------------------------------------ 1.4/15.7 MB 17.1 kB/s eta 0:13:56\n",
      "   --- ------------------------------------ 1.4/15.7 MB 17.1 kB/s eta 0:13:56\n",
      "   --- ------------------------------------ 1.4/15.7 MB 17.1 kB/s eta 0:13:56\n",
      "   --- ------------------------------------ 1.4/15.7 MB 17.1 kB/s eta 0:13:56\n",
      "   --- ------------------------------------ 1.4/15.7 MB 17.1 kB/s eta 0:13:56\n",
      "   --- ------------------------------------ 1.4/15.7 MB 17.1 kB/s eta 0:13:56\n",
      "   --- ------------------------------------ 1.4/15.7 MB 17.1 kB/s eta 0:13:56\n",
      "   --- ------------------------------------ 1.4/15.7 MB 17.1 kB/s eta 0:13:56\n",
      "   --- ------------------------------------ 1.4/15.7 MB 17.1 kB/s eta 0:13:56\n",
      "   --- ------------------------------------ 1.4/15.7 MB 17.1 kB/s eta 0:13:56\n",
      "   --- ------------------------------------ 1.4/15.7 MB 17.1 kB/s eta 0:13:56\n",
      "   --- ------------------------------------ 1.4/15.7 MB 17.1 kB/s eta 0:13:56\n",
      "   --- ------------------------------------ 1.4/15.7 MB 17.1 kB/s eta 0:13:56\n",
      "   --- ------------------------------------ 1.4/15.7 MB 17.1 kB/s eta 0:13:56\n",
      "   --- ------------------------------------ 1.4/15.7 MB 17.1 kB/s eta 0:13:56\n",
      "   --- ------------------------------------ 1.4/15.7 MB 17.1 kB/s eta 0:13:56\n",
      "   --- ------------------------------------ 1.4/15.7 MB 17.1 kB/s eta 0:13:56\n",
      "   --- ------------------------------------ 1.4/15.7 MB 17.1 kB/s eta 0:13:56\n",
      "   --- ------------------------------------ 1.4/15.7 MB 17.1 kB/s eta 0:13:56\n",
      "   --- ------------------------------------ 1.4/15.7 MB 17.1 kB/s eta 0:13:56\n",
      "   --- ------------------------------------ 1.4/15.7 MB 17.1 kB/s eta 0:13:56\n",
      "   --- ------------------------------------ 1.4/15.7 MB 17.1 kB/s eta 0:13:56\n",
      "   --- ------------------------------------ 1.4/15.7 MB 17.1 kB/s eta 0:13:56\n",
      "   --- ------------------------------------ 1.4/15.7 MB 17.1 kB/s eta 0:13:56\n",
      "   --- ------------------------------------ 1.4/15.7 MB 17.1 kB/s eta 0:13:56\n",
      "   --- ------------------------------------ 1.4/15.7 MB 17.1 kB/s eta 0:13:56\n",
      "   --- ------------------------------------ 1.4/15.7 MB 17.1 kB/s eta 0:13:56\n",
      "   --- ------------------------------------ 1.4/15.7 MB 17.1 kB/s eta 0:13:56\n",
      "   --- ------------------------------------ 1.4/15.7 MB 17.1 kB/s eta 0:13:56\n",
      "   --- ------------------------------------ 1.4/15.7 MB 17.1 kB/s eta 0:13:56\n",
      "   --- ------------------------------------ 1.4/15.7 MB 17.1 kB/s eta 0:13:56\n",
      "   --- ------------------------------------ 1.4/15.7 MB 17.1 kB/s eta 0:13:56\n",
      "   --- ------------------------------------ 1.4/15.7 MB 17.1 kB/s eta 0:13:56\n",
      "   --- ------------------------------------ 1.4/15.7 MB 17.1 kB/s eta 0:13:56\n",
      "   --- ------------------------------------ 1.4/15.7 MB 17.1 kB/s eta 0:13:56\n",
      "   --- ------------------------------------ 1.4/15.7 MB 17.1 kB/s eta 0:13:56\n",
      "   --- ------------------------------------ 1.4/15.7 MB 17.1 kB/s eta 0:13:56\n",
      "   --- ------------------------------------ 1.4/15.7 MB 17.1 kB/s eta 0:13:56\n",
      "   --- ------------------------------------ 1.4/15.7 MB 17.1 kB/s eta 0:13:56\n",
      "   --- ------------------------------------ 1.4/15.7 MB 17.1 kB/s eta 0:13:56\n",
      "   --- ------------------------------------ 1.4/15.7 MB 17.1 kB/s eta 0:13:56\n",
      "   --- ------------------------------------ 1.4/15.7 MB 17.1 kB/s eta 0:13:56\n",
      "   --- ------------------------------------ 1.4/15.7 MB 17.1 kB/s eta 0:13:56\n",
      "   --- ------------------------------------ 1.4/15.7 MB 17.1 kB/s eta 0:13:56\n",
      "   --- ------------------------------------ 1.4/15.7 MB 17.1 kB/s eta 0:13:56\n",
      "   --- ------------------------------------ 1.4/15.7 MB 17.1 kB/s eta 0:13:56\n",
      "   --- ------------------------------------ 1.4/15.7 MB 17.1 kB/s eta 0:13:56\n",
      "   --- ------------------------------------ 1.4/15.7 MB 17.1 kB/s eta 0:13:56\n",
      "   --- ------------------------------------ 1.4/15.7 MB 17.1 kB/s eta 0:13:56\n",
      "   --- ------------------------------------ 1.4/15.7 MB 17.1 kB/s eta 0:13:56\n",
      "   --- ------------------------------------ 1.4/15.7 MB 17.1 kB/s eta 0:13:56\n",
      "   --- ------------------------------------ 1.4/15.7 MB 17.1 kB/s eta 0:13:56\n",
      "   --- ------------------------------------ 1.4/15.7 MB 17.1 kB/s eta 0:13:56\n",
      "   --- ------------------------------------ 1.4/15.7 MB 17.1 kB/s eta 0:13:56\n",
      "   --- ------------------------------------ 1.4/15.7 MB 17.1 kB/s eta 0:13:56\n",
      "   --- ------------------------------------ 1.4/15.7 MB 17.1 kB/s eta 0:13:56\n",
      "   --- ------------------------------------ 1.4/15.7 MB 17.1 kB/s eta 0:13:56\n",
      "   --- ------------------------------------ 1.4/15.7 MB 17.1 kB/s eta 0:13:56\n",
      "   --- ------------------------------------ 1.4/15.7 MB 17.1 kB/s eta 0:13:56\n",
      "   --- ------------------------------------ 1.4/15.7 MB 17.1 kB/s eta 0:13:56\n",
      "   --- ------------------------------------ 1.4/15.7 MB 17.1 kB/s eta 0:13:56\n",
      "   --- ------------------------------------ 1.4/15.7 MB 17.1 kB/s eta 0:13:56\n",
      "   --- ------------------------------------ 1.4/15.7 MB 17.1 kB/s eta 0:13:56\n",
      "   --- ------------------------------------ 1.4/15.7 MB 17.1 kB/s eta 0:13:56\n",
      "   --- ------------------------------------ 1.4/15.7 MB 17.1 kB/s eta 0:13:56\n",
      "   --- ------------------------------------ 1.4/15.7 MB 17.1 kB/s eta 0:13:56\n",
      "   --- ------------------------------------ 1.4/15.7 MB 17.1 kB/s eta 0:13:56\n",
      "   --- ------------------------------------ 1.4/15.7 MB 17.1 kB/s eta 0:13:56\n",
      "   --- ------------------------------------ 1.4/15.7 MB 17.1 kB/s eta 0:13:56\n",
      "   --- ------------------------------------ 1.4/15.7 MB 17.1 kB/s eta 0:13:56\n",
      "   --- ------------------------------------ 1.4/15.7 MB 17.1 kB/s eta 0:13:56\n",
      "   --- ------------------------------------ 1.4/15.7 MB 17.1 kB/s eta 0:13:56\n",
      "   --- ------------------------------------ 1.4/15.7 MB 17.1 kB/s eta 0:13:56\n",
      "   --- ------------------------------------ 1.4/15.7 MB 17.1 kB/s eta 0:13:56\n",
      "   --- ------------------------------------ 1.4/15.7 MB 17.1 kB/s eta 0:13:56\n",
      "   --- ------------------------------------ 1.4/15.7 MB 17.1 kB/s eta 0:13:56\n",
      "   --- ------------------------------------ 1.4/15.7 MB 17.1 kB/s eta 0:13:56\n",
      "   --- ------------------------------------ 1.4/15.7 MB 17.1 kB/s eta 0:13:56\n",
      "   --- ------------------------------------ 1.4/15.7 MB 17.1 kB/s eta 0:13:56\n",
      "   --- ------------------------------------ 1.4/15.7 MB 17.1 kB/s eta 0:13:56\n",
      "   --- ------------------------------------ 1.4/15.7 MB 17.1 kB/s eta 0:13:56\n",
      "   --- ------------------------------------ 1.4/15.7 MB 17.1 kB/s eta 0:13:56\n",
      "   --- ------------------------------------ 1.4/15.7 MB 17.1 kB/s eta 0:13:56\n",
      "   --- ------------------------------------ 1.4/15.7 MB 17.1 kB/s eta 0:13:56\n",
      "   --- ------------------------------------ 1.4/15.7 MB 17.1 kB/s eta 0:13:56\n",
      "   --- ------------------------------------ 1.4/15.7 MB 17.1 kB/s eta 0:13:56\n",
      "   --- ------------------------------------ 1.4/15.7 MB 17.1 kB/s eta 0:13:56\n",
      "   --- ------------------------------------ 1.4/15.7 MB 17.1 kB/s eta 0:13:56\n",
      "   --- ------------------------------------ 1.4/15.7 MB 17.1 kB/s eta 0:13:56\n",
      "   --- ------------------------------------ 1.4/15.7 MB 17.1 kB/s eta 0:13:56\n",
      "   --- ------------------------------------ 1.4/15.7 MB 17.1 kB/s eta 0:13:56\n"
     ]
    },
    {
     "name": "stderr",
     "output_type": "stream",
     "text": [
      "ERROR: Exception:\n",
      "Traceback (most recent call last):\n",
      "  File \"C:\\Users\\91989\\AppData\\Local\\Programs\\Python\\Python311\\Lib\\site-packages\\pip\\_vendor\\urllib3\\response.py\", line 438, in _error_catcher\n",
      "    yield\n",
      "  File \"C:\\Users\\91989\\AppData\\Local\\Programs\\Python\\Python311\\Lib\\site-packages\\pip\\_vendor\\urllib3\\response.py\", line 561, in read\n",
      "    data = self._fp_read(amt) if not fp_closed else b\"\"\n",
      "           ^^^^^^^^^^^^^^^^^^\n",
      "  File \"C:\\Users\\91989\\AppData\\Local\\Programs\\Python\\Python311\\Lib\\site-packages\\pip\\_vendor\\urllib3\\response.py\", line 527, in _fp_read\n",
      "    return self._fp.read(amt) if amt is not None else self._fp.read()\n",
      "           ^^^^^^^^^^^^^^^^^^\n",
      "  File \"C:\\Users\\91989\\AppData\\Local\\Programs\\Python\\Python311\\Lib\\site-packages\\pip\\_vendor\\cachecontrol\\filewrapper.py\", line 98, in read\n",
      "    data: bytes = self.__fp.read(amt)\n",
      "                  ^^^^^^^^^^^^^^^^^^^\n",
      "  File \"C:\\Users\\91989\\AppData\\Local\\Programs\\Python\\Python311\\Lib\\http\\client.py\", line 466, in read\n",
      "    s = self.fp.read(amt)\n",
      "        ^^^^^^^^^^^^^^^^^\n",
      "  File \"C:\\Users\\91989\\AppData\\Local\\Programs\\Python\\Python311\\Lib\\socket.py\", line 706, in readinto\n",
      "    return self._sock.recv_into(b)\n",
      "           ^^^^^^^^^^^^^^^^^^^^^^^\n",
      "  File \"C:\\Users\\91989\\AppData\\Local\\Programs\\Python\\Python311\\Lib\\ssl.py\", line 1278, in recv_into\n",
      "    return self.read(nbytes, buffer)\n",
      "           ^^^^^^^^^^^^^^^^^^^^^^^^^\n",
      "  File \"C:\\Users\\91989\\AppData\\Local\\Programs\\Python\\Python311\\Lib\\ssl.py\", line 1134, in read\n",
      "    return self._sslobj.read(len, buffer)\n",
      "           ^^^^^^^^^^^^^^^^^^^^^^^^^^^^^^\n",
      "TimeoutError: The read operation timed out\n",
      "\n",
      "During handling of the above exception, another exception occurred:\n",
      "\n",
      "Traceback (most recent call last):\n",
      "  File \"C:\\Users\\91989\\AppData\\Local\\Programs\\Python\\Python311\\Lib\\site-packages\\pip\\_internal\\cli\\base_command.py\", line 180, in exc_logging_wrapper\n",
      "    status = run_func(*args)\n",
      "             ^^^^^^^^^^^^^^^\n",
      "  File \"C:\\Users\\91989\\AppData\\Local\\Programs\\Python\\Python311\\Lib\\site-packages\\pip\\_internal\\cli\\req_command.py\", line 245, in wrapper\n",
      "    return func(self, options, args)\n",
      "           ^^^^^^^^^^^^^^^^^^^^^^^^^\n",
      "  File \"C:\\Users\\91989\\AppData\\Local\\Programs\\Python\\Python311\\Lib\\site-packages\\pip\\_internal\\commands\\install.py\", line 377, in run\n",
      "    requirement_set = resolver.resolve(\n",
      "                      ^^^^^^^^^^^^^^^^^\n",
      "  File \"C:\\Users\\91989\\AppData\\Local\\Programs\\Python\\Python311\\Lib\\site-packages\\pip\\_internal\\resolution\\resolvelib\\resolver.py\", line 179, in resolve\n",
      "    self.factory.preparer.prepare_linked_requirements_more(reqs)\n",
      "  File \"C:\\Users\\91989\\AppData\\Local\\Programs\\Python\\Python311\\Lib\\site-packages\\pip\\_internal\\operations\\prepare.py\", line 552, in prepare_linked_requirements_more\n",
      "    self._complete_partial_requirements(\n",
      "  File \"C:\\Users\\91989\\AppData\\Local\\Programs\\Python\\Python311\\Lib\\site-packages\\pip\\_internal\\operations\\prepare.py\", line 467, in _complete_partial_requirements\n",
      "    for link, (filepath, _) in batch_download:\n",
      "  File \"C:\\Users\\91989\\AppData\\Local\\Programs\\Python\\Python311\\Lib\\site-packages\\pip\\_internal\\network\\download.py\", line 183, in __call__\n",
      "    for chunk in chunks:\n",
      "  File \"C:\\Users\\91989\\AppData\\Local\\Programs\\Python\\Python311\\Lib\\site-packages\\pip\\_internal\\cli\\progress_bars.py\", line 53, in _rich_progress_bar\n",
      "    for chunk in iterable:\n",
      "  File \"C:\\Users\\91989\\AppData\\Local\\Programs\\Python\\Python311\\Lib\\site-packages\\pip\\_internal\\network\\utils.py\", line 63, in response_chunks\n",
      "    for chunk in response.raw.stream(\n",
      "  File \"C:\\Users\\91989\\AppData\\Local\\Programs\\Python\\Python311\\Lib\\site-packages\\pip\\_vendor\\urllib3\\response.py\", line 622, in stream\n",
      "    data = self.read(amt=amt, decode_content=decode_content)\n",
      "           ^^^^^^^^^^^^^^^^^^^^^^^^^^^^^^^^^^^^^^^^^^^^^^^^^\n",
      "  File \"C:\\Users\\91989\\AppData\\Local\\Programs\\Python\\Python311\\Lib\\site-packages\\pip\\_vendor\\urllib3\\response.py\", line 560, in read\n",
      "    with self._error_catcher():\n",
      "  File \"C:\\Users\\91989\\AppData\\Local\\Programs\\Python\\Python311\\Lib\\contextlib.py\", line 155, in __exit__\n",
      "    self.gen.throw(typ, value, traceback)\n",
      "  File \"C:\\Users\\91989\\AppData\\Local\\Programs\\Python\\Python311\\Lib\\site-packages\\pip\\_vendor\\urllib3\\response.py\", line 443, in _error_catcher\n",
      "    raise ReadTimeoutError(self._pool, None, \"Read timed out.\")\n",
      "pip._vendor.urllib3.exceptions.ReadTimeoutError: HTTPSConnectionPool(host='files.pythonhosted.org', port=443): Read timed out.\n"
     ]
    }
   ],
   "source": [
    "!pip install plotly"
   ]
  },
  {
   "cell_type": "code",
   "execution_count": 1,
   "id": "b020ba5e-06a4-4844-94c7-dd21c43fce5e",
   "metadata": {},
   "outputs": [
    {
     "data": {
      "text/html": [
       "<div>\n",
       "<style scoped>\n",
       "    .dataframe tbody tr th:only-of-type {\n",
       "        vertical-align: middle;\n",
       "    }\n",
       "\n",
       "    .dataframe tbody tr th {\n",
       "        vertical-align: top;\n",
       "    }\n",
       "\n",
       "    .dataframe thead th {\n",
       "        text-align: right;\n",
       "    }\n",
       "</style>\n",
       "<table border=\"1\" class=\"dataframe\">\n",
       "  <thead>\n",
       "    <tr style=\"text-align: right;\">\n",
       "      <th></th>\n",
       "      <th>Country Name</th>\n",
       "      <th>Country Code</th>\n",
       "      <th>Year</th>\n",
       "      <th>Value</th>\n",
       "    </tr>\n",
       "  </thead>\n",
       "  <tbody>\n",
       "    <tr>\n",
       "      <th>0</th>\n",
       "      <td>Arab World</td>\n",
       "      <td>ARB</td>\n",
       "      <td>1968</td>\n",
       "      <td>2.576068e+10</td>\n",
       "    </tr>\n",
       "    <tr>\n",
       "      <th>1</th>\n",
       "      <td>Arab World</td>\n",
       "      <td>ARB</td>\n",
       "      <td>1969</td>\n",
       "      <td>2.843420e+10</td>\n",
       "    </tr>\n",
       "    <tr>\n",
       "      <th>2</th>\n",
       "      <td>Arab World</td>\n",
       "      <td>ARB</td>\n",
       "      <td>1970</td>\n",
       "      <td>3.138550e+10</td>\n",
       "    </tr>\n",
       "    <tr>\n",
       "      <th>3</th>\n",
       "      <td>Arab World</td>\n",
       "      <td>ARB</td>\n",
       "      <td>1971</td>\n",
       "      <td>3.642691e+10</td>\n",
       "    </tr>\n",
       "    <tr>\n",
       "      <th>4</th>\n",
       "      <td>Arab World</td>\n",
       "      <td>ARB</td>\n",
       "      <td>1972</td>\n",
       "      <td>4.331606e+10</td>\n",
       "    </tr>\n",
       "  </tbody>\n",
       "</table>\n",
       "</div>"
      ],
      "text/plain": [
       "  Country Name Country Code  Year         Value\n",
       "0   Arab World          ARB  1968  2.576068e+10\n",
       "1   Arab World          ARB  1969  2.843420e+10\n",
       "2   Arab World          ARB  1970  3.138550e+10\n",
       "3   Arab World          ARB  1971  3.642691e+10\n",
       "4   Arab World          ARB  1972  4.331606e+10"
      ]
     },
     "execution_count": 1,
     "metadata": {},
     "output_type": "execute_result"
    }
   ],
   "source": [
    "import pandas as pd\n",
    "\n",
    "import plotly.express as px\n",
    "import plotly.offline as pyo\n",
    "\n",
    "df = pd.read_csv('gdp.csv')\n",
    "df.head()"
   ]
  },
  {
   "cell_type": "code",
   "execution_count": 2,
   "id": "723de8cf-dc25-4d80-85cf-62eccaa06723",
   "metadata": {},
   "outputs": [],
   "source": [
    "final_data = []\n",
    "\n",
    "for country_name in df['Country Name'].unique():\n",
    "    \n",
    "    df_pr = df[df['Country Name'] == country_name]\n",
    "\n",
    "    data = df_pr.values\n",
    "    gdp_change = [0]\n",
    "\n",
    "    for i in range(1,len(data)):\n",
    "\n",
    "        prev = data[i-1][3]\n",
    "        cur = data[i][3]\n",
    "\n",
    "        gdp_change.append(round(((cur - prev) / prev)*100,2))\n",
    "\n",
    "    df_pr = df_pr.assign(GDP = gdp_change)\n",
    "    final_data.append(df_pr)\n",
    "    \n",
    "df = pd.concat(final_data, axis = 0)"
   ]
  },
  {
   "cell_type": "code",
   "execution_count": 3,
   "id": "8a3c1405-fa29-4df5-95b0-132adbda52fe",
   "metadata": {},
   "outputs": [
    {
     "data": {
      "text/html": [
       "<div>\n",
       "<style scoped>\n",
       "    .dataframe tbody tr th:only-of-type {\n",
       "        vertical-align: middle;\n",
       "    }\n",
       "\n",
       "    .dataframe tbody tr th {\n",
       "        vertical-align: top;\n",
       "    }\n",
       "\n",
       "    .dataframe thead th {\n",
       "        text-align: right;\n",
       "    }\n",
       "</style>\n",
       "<table border=\"1\" class=\"dataframe\">\n",
       "  <thead>\n",
       "    <tr style=\"text-align: right;\">\n",
       "      <th></th>\n",
       "      <th>Country Name</th>\n",
       "      <th>Country Code</th>\n",
       "      <th>Year</th>\n",
       "      <th>Value</th>\n",
       "      <th>GDP</th>\n",
       "    </tr>\n",
       "  </thead>\n",
       "  <tbody>\n",
       "    <tr>\n",
       "      <th>0</th>\n",
       "      <td>Arab World</td>\n",
       "      <td>ARB</td>\n",
       "      <td>1968</td>\n",
       "      <td>2.576068e+10</td>\n",
       "      <td>0.00</td>\n",
       "    </tr>\n",
       "    <tr>\n",
       "      <th>1</th>\n",
       "      <td>Arab World</td>\n",
       "      <td>ARB</td>\n",
       "      <td>1969</td>\n",
       "      <td>2.843420e+10</td>\n",
       "      <td>10.38</td>\n",
       "    </tr>\n",
       "    <tr>\n",
       "      <th>2</th>\n",
       "      <td>Arab World</td>\n",
       "      <td>ARB</td>\n",
       "      <td>1970</td>\n",
       "      <td>3.138550e+10</td>\n",
       "      <td>10.38</td>\n",
       "    </tr>\n",
       "    <tr>\n",
       "      <th>3</th>\n",
       "      <td>Arab World</td>\n",
       "      <td>ARB</td>\n",
       "      <td>1971</td>\n",
       "      <td>3.642691e+10</td>\n",
       "      <td>16.06</td>\n",
       "    </tr>\n",
       "    <tr>\n",
       "      <th>4</th>\n",
       "      <td>Arab World</td>\n",
       "      <td>ARB</td>\n",
       "      <td>1972</td>\n",
       "      <td>4.331606e+10</td>\n",
       "      <td>18.91</td>\n",
       "    </tr>\n",
       "  </tbody>\n",
       "</table>\n",
       "</div>"
      ],
      "text/plain": [
       "  Country Name Country Code  Year         Value    GDP\n",
       "0   Arab World          ARB  1968  2.576068e+10   0.00\n",
       "1   Arab World          ARB  1969  2.843420e+10  10.38\n",
       "2   Arab World          ARB  1970  3.138550e+10  10.38\n",
       "3   Arab World          ARB  1971  3.642691e+10  16.06\n",
       "4   Arab World          ARB  1972  4.331606e+10  18.91"
      ]
     },
     "execution_count": 3,
     "metadata": {},
     "output_type": "execute_result"
    }
   ],
   "source": [
    "df.head()"
   ]
  },
  {
   "cell_type": "code",
   "execution_count": 6,
   "id": "f9790090-f7e9-43b7-b9af-2a7c533af7c5",
   "metadata": {},
   "outputs": [
    {
     "data": {
      "application/vnd.plotly.v1+json": {
       "config": {
        "plotlyServerURL": "https://plot.ly"
       },
       "data": [
        {
         "hovertemplate": "Year=%{x}<br>Value=%{y}<extra></extra>",
         "legendgroup": "",
         "line": {
          "color": "#636efa",
          "dash": "solid"
         },
         "marker": {
          "symbol": "circle"
         },
         "mode": "lines",
         "name": "",
         "orientation": "v",
         "showlegend": false,
         "type": "scatter",
         "x": [
          1960,
          1961,
          1962,
          1963,
          1964,
          1965,
          1966,
          1967,
          1968,
          1969,
          1970,
          1971,
          1972,
          1973,
          1974,
          1975,
          1976,
          1977,
          1978,
          1979,
          1980,
          1981,
          1982,
          1983,
          1984,
          1985,
          1986,
          1987,
          1988,
          1989,
          1990,
          1991,
          1992,
          1993,
          1994,
          1995,
          1996,
          1997,
          1998,
          1999,
          2000,
          2001,
          2002,
          2003,
          2004,
          2005,
          2006,
          2007,
          2008,
          2009,
          2010,
          2011,
          2012,
          2013,
          2014,
          2015,
          2016
         ],
         "xaxis": "x",
         "y": [
          1366678314500.11,
          1421787954650.66,
          1526955368819.35,
          1643751761478.77,
          1800795995209.43,
          1961780296080.77,
          2128450484917.02,
          2264600480895.74,
          2443223914097.19,
          2690797713906.75,
          2957799684034.88,
          3266907090008.42,
          3767673874129.39,
          4591345929540.29,
          5296031606150.48,
          5897205371168.41,
          6416473081055.61,
          7257626963722.61,
          8542924735220.41,
          9925897437975.24,
          11172203734232.9,
          11464351513520.9,
          11363646516060.8,
          11623710624558.5,
          12065068062766.6,
          12689154578406.4,
          15022583231149.5,
          17091694967928.9,
          19140813953244.6,
          20092825106288.4,
          22595007714784.7,
          23927631710502.6,
          25409951568921.6,
          25859044482204.5,
          27767511728269.1,
          30872586998056.7,
          31552679853240.2,
          31435387611565.4,
          31338780339102.7,
          32510834041730.3,
          33566568243507,
          33354548715888.5,
          34635964364193.1,
          38894058718266,
          43804823746956.6,
          47428894542015.9,
          51363239608528.7,
          57858970551966.6,
          63461809858683.9,
          60168346976208.9,
          65954532001568.7,
          73279862292629,
          74889946508917.8,
          76990857251851,
          79049230590610.9,
          74757745150689.1,
          75845109381590.5
         ],
         "yaxis": "y"
        }
       ],
       "layout": {
        "legend": {
         "tracegroupgap": 0
        },
        "template": {
         "data": {
          "bar": [
           {
            "error_x": {
             "color": "#2a3f5f"
            },
            "error_y": {
             "color": "#2a3f5f"
            },
            "marker": {
             "line": {
              "color": "#E5ECF6",
              "width": 0.5
             },
             "pattern": {
              "fillmode": "overlay",
              "size": 10,
              "solidity": 0.2
             }
            },
            "type": "bar"
           }
          ],
          "barpolar": [
           {
            "marker": {
             "line": {
              "color": "#E5ECF6",
              "width": 0.5
             },
             "pattern": {
              "fillmode": "overlay",
              "size": 10,
              "solidity": 0.2
             }
            },
            "type": "barpolar"
           }
          ],
          "carpet": [
           {
            "aaxis": {
             "endlinecolor": "#2a3f5f",
             "gridcolor": "white",
             "linecolor": "white",
             "minorgridcolor": "white",
             "startlinecolor": "#2a3f5f"
            },
            "baxis": {
             "endlinecolor": "#2a3f5f",
             "gridcolor": "white",
             "linecolor": "white",
             "minorgridcolor": "white",
             "startlinecolor": "#2a3f5f"
            },
            "type": "carpet"
           }
          ],
          "choropleth": [
           {
            "colorbar": {
             "outlinewidth": 0,
             "ticks": ""
            },
            "type": "choropleth"
           }
          ],
          "contour": [
           {
            "colorbar": {
             "outlinewidth": 0,
             "ticks": ""
            },
            "colorscale": [
             [
              0,
              "#0d0887"
             ],
             [
              0.1111111111111111,
              "#46039f"
             ],
             [
              0.2222222222222222,
              "#7201a8"
             ],
             [
              0.3333333333333333,
              "#9c179e"
             ],
             [
              0.4444444444444444,
              "#bd3786"
             ],
             [
              0.5555555555555556,
              "#d8576b"
             ],
             [
              0.6666666666666666,
              "#ed7953"
             ],
             [
              0.7777777777777778,
              "#fb9f3a"
             ],
             [
              0.8888888888888888,
              "#fdca26"
             ],
             [
              1,
              "#f0f921"
             ]
            ],
            "type": "contour"
           }
          ],
          "contourcarpet": [
           {
            "colorbar": {
             "outlinewidth": 0,
             "ticks": ""
            },
            "type": "contourcarpet"
           }
          ],
          "heatmap": [
           {
            "colorbar": {
             "outlinewidth": 0,
             "ticks": ""
            },
            "colorscale": [
             [
              0,
              "#0d0887"
             ],
             [
              0.1111111111111111,
              "#46039f"
             ],
             [
              0.2222222222222222,
              "#7201a8"
             ],
             [
              0.3333333333333333,
              "#9c179e"
             ],
             [
              0.4444444444444444,
              "#bd3786"
             ],
             [
              0.5555555555555556,
              "#d8576b"
             ],
             [
              0.6666666666666666,
              "#ed7953"
             ],
             [
              0.7777777777777778,
              "#fb9f3a"
             ],
             [
              0.8888888888888888,
              "#fdca26"
             ],
             [
              1,
              "#f0f921"
             ]
            ],
            "type": "heatmap"
           }
          ],
          "heatmapgl": [
           {
            "colorbar": {
             "outlinewidth": 0,
             "ticks": ""
            },
            "colorscale": [
             [
              0,
              "#0d0887"
             ],
             [
              0.1111111111111111,
              "#46039f"
             ],
             [
              0.2222222222222222,
              "#7201a8"
             ],
             [
              0.3333333333333333,
              "#9c179e"
             ],
             [
              0.4444444444444444,
              "#bd3786"
             ],
             [
              0.5555555555555556,
              "#d8576b"
             ],
             [
              0.6666666666666666,
              "#ed7953"
             ],
             [
              0.7777777777777778,
              "#fb9f3a"
             ],
             [
              0.8888888888888888,
              "#fdca26"
             ],
             [
              1,
              "#f0f921"
             ]
            ],
            "type": "heatmapgl"
           }
          ],
          "histogram": [
           {
            "marker": {
             "pattern": {
              "fillmode": "overlay",
              "size": 10,
              "solidity": 0.2
             }
            },
            "type": "histogram"
           }
          ],
          "histogram2d": [
           {
            "colorbar": {
             "outlinewidth": 0,
             "ticks": ""
            },
            "colorscale": [
             [
              0,
              "#0d0887"
             ],
             [
              0.1111111111111111,
              "#46039f"
             ],
             [
              0.2222222222222222,
              "#7201a8"
             ],
             [
              0.3333333333333333,
              "#9c179e"
             ],
             [
              0.4444444444444444,
              "#bd3786"
             ],
             [
              0.5555555555555556,
              "#d8576b"
             ],
             [
              0.6666666666666666,
              "#ed7953"
             ],
             [
              0.7777777777777778,
              "#fb9f3a"
             ],
             [
              0.8888888888888888,
              "#fdca26"
             ],
             [
              1,
              "#f0f921"
             ]
            ],
            "type": "histogram2d"
           }
          ],
          "histogram2dcontour": [
           {
            "colorbar": {
             "outlinewidth": 0,
             "ticks": ""
            },
            "colorscale": [
             [
              0,
              "#0d0887"
             ],
             [
              0.1111111111111111,
              "#46039f"
             ],
             [
              0.2222222222222222,
              "#7201a8"
             ],
             [
              0.3333333333333333,
              "#9c179e"
             ],
             [
              0.4444444444444444,
              "#bd3786"
             ],
             [
              0.5555555555555556,
              "#d8576b"
             ],
             [
              0.6666666666666666,
              "#ed7953"
             ],
             [
              0.7777777777777778,
              "#fb9f3a"
             ],
             [
              0.8888888888888888,
              "#fdca26"
             ],
             [
              1,
              "#f0f921"
             ]
            ],
            "type": "histogram2dcontour"
           }
          ],
          "mesh3d": [
           {
            "colorbar": {
             "outlinewidth": 0,
             "ticks": ""
            },
            "type": "mesh3d"
           }
          ],
          "parcoords": [
           {
            "line": {
             "colorbar": {
              "outlinewidth": 0,
              "ticks": ""
             }
            },
            "type": "parcoords"
           }
          ],
          "pie": [
           {
            "automargin": true,
            "type": "pie"
           }
          ],
          "scatter": [
           {
            "fillpattern": {
             "fillmode": "overlay",
             "size": 10,
             "solidity": 0.2
            },
            "type": "scatter"
           }
          ],
          "scatter3d": [
           {
            "line": {
             "colorbar": {
              "outlinewidth": 0,
              "ticks": ""
             }
            },
            "marker": {
             "colorbar": {
              "outlinewidth": 0,
              "ticks": ""
             }
            },
            "type": "scatter3d"
           }
          ],
          "scattercarpet": [
           {
            "marker": {
             "colorbar": {
              "outlinewidth": 0,
              "ticks": ""
             }
            },
            "type": "scattercarpet"
           }
          ],
          "scattergeo": [
           {
            "marker": {
             "colorbar": {
              "outlinewidth": 0,
              "ticks": ""
             }
            },
            "type": "scattergeo"
           }
          ],
          "scattergl": [
           {
            "marker": {
             "colorbar": {
              "outlinewidth": 0,
              "ticks": ""
             }
            },
            "type": "scattergl"
           }
          ],
          "scattermapbox": [
           {
            "marker": {
             "colorbar": {
              "outlinewidth": 0,
              "ticks": ""
             }
            },
            "type": "scattermapbox"
           }
          ],
          "scatterpolar": [
           {
            "marker": {
             "colorbar": {
              "outlinewidth": 0,
              "ticks": ""
             }
            },
            "type": "scatterpolar"
           }
          ],
          "scatterpolargl": [
           {
            "marker": {
             "colorbar": {
              "outlinewidth": 0,
              "ticks": ""
             }
            },
            "type": "scatterpolargl"
           }
          ],
          "scatterternary": [
           {
            "marker": {
             "colorbar": {
              "outlinewidth": 0,
              "ticks": ""
             }
            },
            "type": "scatterternary"
           }
          ],
          "surface": [
           {
            "colorbar": {
             "outlinewidth": 0,
             "ticks": ""
            },
            "colorscale": [
             [
              0,
              "#0d0887"
             ],
             [
              0.1111111111111111,
              "#46039f"
             ],
             [
              0.2222222222222222,
              "#7201a8"
             ],
             [
              0.3333333333333333,
              "#9c179e"
             ],
             [
              0.4444444444444444,
              "#bd3786"
             ],
             [
              0.5555555555555556,
              "#d8576b"
             ],
             [
              0.6666666666666666,
              "#ed7953"
             ],
             [
              0.7777777777777778,
              "#fb9f3a"
             ],
             [
              0.8888888888888888,
              "#fdca26"
             ],
             [
              1,
              "#f0f921"
             ]
            ],
            "type": "surface"
           }
          ],
          "table": [
           {
            "cells": {
             "fill": {
              "color": "#EBF0F8"
             },
             "line": {
              "color": "white"
             }
            },
            "header": {
             "fill": {
              "color": "#C8D4E3"
             },
             "line": {
              "color": "white"
             }
            },
            "type": "table"
           }
          ]
         },
         "layout": {
          "annotationdefaults": {
           "arrowcolor": "#2a3f5f",
           "arrowhead": 0,
           "arrowwidth": 1
          },
          "autotypenumbers": "strict",
          "coloraxis": {
           "colorbar": {
            "outlinewidth": 0,
            "ticks": ""
           }
          },
          "colorscale": {
           "diverging": [
            [
             0,
             "#8e0152"
            ],
            [
             0.1,
             "#c51b7d"
            ],
            [
             0.2,
             "#de77ae"
            ],
            [
             0.3,
             "#f1b6da"
            ],
            [
             0.4,
             "#fde0ef"
            ],
            [
             0.5,
             "#f7f7f7"
            ],
            [
             0.6,
             "#e6f5d0"
            ],
            [
             0.7,
             "#b8e186"
            ],
            [
             0.8,
             "#7fbc41"
            ],
            [
             0.9,
             "#4d9221"
            ],
            [
             1,
             "#276419"
            ]
           ],
           "sequential": [
            [
             0,
             "#0d0887"
            ],
            [
             0.1111111111111111,
             "#46039f"
            ],
            [
             0.2222222222222222,
             "#7201a8"
            ],
            [
             0.3333333333333333,
             "#9c179e"
            ],
            [
             0.4444444444444444,
             "#bd3786"
            ],
            [
             0.5555555555555556,
             "#d8576b"
            ],
            [
             0.6666666666666666,
             "#ed7953"
            ],
            [
             0.7777777777777778,
             "#fb9f3a"
            ],
            [
             0.8888888888888888,
             "#fdca26"
            ],
            [
             1,
             "#f0f921"
            ]
           ],
           "sequentialminus": [
            [
             0,
             "#0d0887"
            ],
            [
             0.1111111111111111,
             "#46039f"
            ],
            [
             0.2222222222222222,
             "#7201a8"
            ],
            [
             0.3333333333333333,
             "#9c179e"
            ],
            [
             0.4444444444444444,
             "#bd3786"
            ],
            [
             0.5555555555555556,
             "#d8576b"
            ],
            [
             0.6666666666666666,
             "#ed7953"
            ],
            [
             0.7777777777777778,
             "#fb9f3a"
            ],
            [
             0.8888888888888888,
             "#fdca26"
            ],
            [
             1,
             "#f0f921"
            ]
           ]
          },
          "colorway": [
           "#636efa",
           "#EF553B",
           "#00cc96",
           "#ab63fa",
           "#FFA15A",
           "#19d3f3",
           "#FF6692",
           "#B6E880",
           "#FF97FF",
           "#FECB52"
          ],
          "font": {
           "color": "#2a3f5f"
          },
          "geo": {
           "bgcolor": "white",
           "lakecolor": "white",
           "landcolor": "#E5ECF6",
           "showlakes": true,
           "showland": true,
           "subunitcolor": "white"
          },
          "hoverlabel": {
           "align": "left"
          },
          "hovermode": "closest",
          "mapbox": {
           "style": "light"
          },
          "paper_bgcolor": "white",
          "plot_bgcolor": "#E5ECF6",
          "polar": {
           "angularaxis": {
            "gridcolor": "white",
            "linecolor": "white",
            "ticks": ""
           },
           "bgcolor": "#E5ECF6",
           "radialaxis": {
            "gridcolor": "white",
            "linecolor": "white",
            "ticks": ""
           }
          },
          "scene": {
           "xaxis": {
            "backgroundcolor": "#E5ECF6",
            "gridcolor": "white",
            "gridwidth": 2,
            "linecolor": "white",
            "showbackground": true,
            "ticks": "",
            "zerolinecolor": "white"
           },
           "yaxis": {
            "backgroundcolor": "#E5ECF6",
            "gridcolor": "white",
            "gridwidth": 2,
            "linecolor": "white",
            "showbackground": true,
            "ticks": "",
            "zerolinecolor": "white"
           },
           "zaxis": {
            "backgroundcolor": "#E5ECF6",
            "gridcolor": "white",
            "gridwidth": 2,
            "linecolor": "white",
            "showbackground": true,
            "ticks": "",
            "zerolinecolor": "white"
           }
          },
          "shapedefaults": {
           "line": {
            "color": "#2a3f5f"
           }
          },
          "ternary": {
           "aaxis": {
            "gridcolor": "white",
            "linecolor": "white",
            "ticks": ""
           },
           "baxis": {
            "gridcolor": "white",
            "linecolor": "white",
            "ticks": ""
           },
           "bgcolor": "#E5ECF6",
           "caxis": {
            "gridcolor": "white",
            "linecolor": "white",
            "ticks": ""
           }
          },
          "title": {
           "x": 0.05
          },
          "xaxis": {
           "automargin": true,
           "gridcolor": "white",
           "linecolor": "white",
           "ticks": "",
           "title": {
            "standoff": 15
           },
           "zerolinecolor": "white",
           "zerolinewidth": 2
          },
          "yaxis": {
           "automargin": true,
           "gridcolor": "white",
           "linecolor": "white",
           "ticks": "",
           "title": {
            "standoff": 15
           },
           "zerolinecolor": "white",
           "zerolinewidth": 2
          }
         }
        },
        "title": {
         "text": "World GDP Analysis"
        },
        "xaxis": {
         "anchor": "y",
         "domain": [
          0,
          1
         ],
         "title": {
          "text": "Year"
         }
        },
        "yaxis": {
         "anchor": "x",
         "domain": [
          0,
          1
         ],
         "title": {
          "text": "Value"
         }
        }
       }
      },
      "text/html": [
       "<div>                            <div id=\"feab7cf7-892d-41eb-a2ea-952a63503806\" class=\"plotly-graph-div\" style=\"height:525px; width:100%;\"></div>            <script type=\"text/javascript\">                require([\"plotly\"], function(Plotly) {                    window.PLOTLYENV=window.PLOTLYENV || {};                                    if (document.getElementById(\"feab7cf7-892d-41eb-a2ea-952a63503806\")) {                    Plotly.newPlot(                        \"feab7cf7-892d-41eb-a2ea-952a63503806\",                        [{\"hovertemplate\":\"Year=%{x}\\u003cbr\\u003eValue=%{y}\\u003cextra\\u003e\\u003c\\u002fextra\\u003e\",\"legendgroup\":\"\",\"line\":{\"color\":\"#636efa\",\"dash\":\"solid\"},\"marker\":{\"symbol\":\"circle\"},\"mode\":\"lines\",\"name\":\"\",\"orientation\":\"v\",\"showlegend\":false,\"x\":[1960,1961,1962,1963,1964,1965,1966,1967,1968,1969,1970,1971,1972,1973,1974,1975,1976,1977,1978,1979,1980,1981,1982,1983,1984,1985,1986,1987,1988,1989,1990,1991,1992,1993,1994,1995,1996,1997,1998,1999,2000,2001,2002,2003,2004,2005,2006,2007,2008,2009,2010,2011,2012,2013,2014,2015,2016],\"xaxis\":\"x\",\"y\":[1366678314500.11,1421787954650.66,1526955368819.35,1643751761478.77,1800795995209.43,1961780296080.77,2128450484917.02,2264600480895.74,2443223914097.19,2690797713906.75,2957799684034.88,3266907090008.42,3767673874129.39,4591345929540.29,5296031606150.48,5897205371168.41,6416473081055.61,7257626963722.61,8542924735220.41,9925897437975.24,11172203734232.9,11464351513520.9,11363646516060.8,11623710624558.5,12065068062766.6,12689154578406.4,15022583231149.5,17091694967928.9,19140813953244.6,20092825106288.4,22595007714784.7,23927631710502.6,25409951568921.6,25859044482204.5,27767511728269.1,30872586998056.7,31552679853240.2,31435387611565.4,31338780339102.7,32510834041730.3,33566568243507.0,33354548715888.5,34635964364193.1,38894058718266.0,43804823746956.6,47428894542015.9,51363239608528.7,57858970551966.6,63461809858683.9,60168346976208.9,65954532001568.7,73279862292629.0,74889946508917.8,76990857251851.0,79049230590610.9,74757745150689.1,75845109381590.5],\"yaxis\":\"y\",\"type\":\"scatter\"}],                        {\"template\":{\"data\":{\"histogram2dcontour\":[{\"type\":\"histogram2dcontour\",\"colorbar\":{\"outlinewidth\":0,\"ticks\":\"\"},\"colorscale\":[[0.0,\"#0d0887\"],[0.1111111111111111,\"#46039f\"],[0.2222222222222222,\"#7201a8\"],[0.3333333333333333,\"#9c179e\"],[0.4444444444444444,\"#bd3786\"],[0.5555555555555556,\"#d8576b\"],[0.6666666666666666,\"#ed7953\"],[0.7777777777777778,\"#fb9f3a\"],[0.8888888888888888,\"#fdca26\"],[1.0,\"#f0f921\"]]}],\"choropleth\":[{\"type\":\"choropleth\",\"colorbar\":{\"outlinewidth\":0,\"ticks\":\"\"}}],\"histogram2d\":[{\"type\":\"histogram2d\",\"colorbar\":{\"outlinewidth\":0,\"ticks\":\"\"},\"colorscale\":[[0.0,\"#0d0887\"],[0.1111111111111111,\"#46039f\"],[0.2222222222222222,\"#7201a8\"],[0.3333333333333333,\"#9c179e\"],[0.4444444444444444,\"#bd3786\"],[0.5555555555555556,\"#d8576b\"],[0.6666666666666666,\"#ed7953\"],[0.7777777777777778,\"#fb9f3a\"],[0.8888888888888888,\"#fdca26\"],[1.0,\"#f0f921\"]]}],\"heatmap\":[{\"type\":\"heatmap\",\"colorbar\":{\"outlinewidth\":0,\"ticks\":\"\"},\"colorscale\":[[0.0,\"#0d0887\"],[0.1111111111111111,\"#46039f\"],[0.2222222222222222,\"#7201a8\"],[0.3333333333333333,\"#9c179e\"],[0.4444444444444444,\"#bd3786\"],[0.5555555555555556,\"#d8576b\"],[0.6666666666666666,\"#ed7953\"],[0.7777777777777778,\"#fb9f3a\"],[0.8888888888888888,\"#fdca26\"],[1.0,\"#f0f921\"]]}],\"heatmapgl\":[{\"type\":\"heatmapgl\",\"colorbar\":{\"outlinewidth\":0,\"ticks\":\"\"},\"colorscale\":[[0.0,\"#0d0887\"],[0.1111111111111111,\"#46039f\"],[0.2222222222222222,\"#7201a8\"],[0.3333333333333333,\"#9c179e\"],[0.4444444444444444,\"#bd3786\"],[0.5555555555555556,\"#d8576b\"],[0.6666666666666666,\"#ed7953\"],[0.7777777777777778,\"#fb9f3a\"],[0.8888888888888888,\"#fdca26\"],[1.0,\"#f0f921\"]]}],\"contourcarpet\":[{\"type\":\"contourcarpet\",\"colorbar\":{\"outlinewidth\":0,\"ticks\":\"\"}}],\"contour\":[{\"type\":\"contour\",\"colorbar\":{\"outlinewidth\":0,\"ticks\":\"\"},\"colorscale\":[[0.0,\"#0d0887\"],[0.1111111111111111,\"#46039f\"],[0.2222222222222222,\"#7201a8\"],[0.3333333333333333,\"#9c179e\"],[0.4444444444444444,\"#bd3786\"],[0.5555555555555556,\"#d8576b\"],[0.6666666666666666,\"#ed7953\"],[0.7777777777777778,\"#fb9f3a\"],[0.8888888888888888,\"#fdca26\"],[1.0,\"#f0f921\"]]}],\"surface\":[{\"type\":\"surface\",\"colorbar\":{\"outlinewidth\":0,\"ticks\":\"\"},\"colorscale\":[[0.0,\"#0d0887\"],[0.1111111111111111,\"#46039f\"],[0.2222222222222222,\"#7201a8\"],[0.3333333333333333,\"#9c179e\"],[0.4444444444444444,\"#bd3786\"],[0.5555555555555556,\"#d8576b\"],[0.6666666666666666,\"#ed7953\"],[0.7777777777777778,\"#fb9f3a\"],[0.8888888888888888,\"#fdca26\"],[1.0,\"#f0f921\"]]}],\"mesh3d\":[{\"type\":\"mesh3d\",\"colorbar\":{\"outlinewidth\":0,\"ticks\":\"\"}}],\"scatter\":[{\"fillpattern\":{\"fillmode\":\"overlay\",\"size\":10,\"solidity\":0.2},\"type\":\"scatter\"}],\"parcoords\":[{\"type\":\"parcoords\",\"line\":{\"colorbar\":{\"outlinewidth\":0,\"ticks\":\"\"}}}],\"scatterpolargl\":[{\"type\":\"scatterpolargl\",\"marker\":{\"colorbar\":{\"outlinewidth\":0,\"ticks\":\"\"}}}],\"bar\":[{\"error_x\":{\"color\":\"#2a3f5f\"},\"error_y\":{\"color\":\"#2a3f5f\"},\"marker\":{\"line\":{\"color\":\"#E5ECF6\",\"width\":0.5},\"pattern\":{\"fillmode\":\"overlay\",\"size\":10,\"solidity\":0.2}},\"type\":\"bar\"}],\"scattergeo\":[{\"type\":\"scattergeo\",\"marker\":{\"colorbar\":{\"outlinewidth\":0,\"ticks\":\"\"}}}],\"scatterpolar\":[{\"type\":\"scatterpolar\",\"marker\":{\"colorbar\":{\"outlinewidth\":0,\"ticks\":\"\"}}}],\"histogram\":[{\"marker\":{\"pattern\":{\"fillmode\":\"overlay\",\"size\":10,\"solidity\":0.2}},\"type\":\"histogram\"}],\"scattergl\":[{\"type\":\"scattergl\",\"marker\":{\"colorbar\":{\"outlinewidth\":0,\"ticks\":\"\"}}}],\"scatter3d\":[{\"type\":\"scatter3d\",\"line\":{\"colorbar\":{\"outlinewidth\":0,\"ticks\":\"\"}},\"marker\":{\"colorbar\":{\"outlinewidth\":0,\"ticks\":\"\"}}}],\"scattermapbox\":[{\"type\":\"scattermapbox\",\"marker\":{\"colorbar\":{\"outlinewidth\":0,\"ticks\":\"\"}}}],\"scatterternary\":[{\"type\":\"scatterternary\",\"marker\":{\"colorbar\":{\"outlinewidth\":0,\"ticks\":\"\"}}}],\"scattercarpet\":[{\"type\":\"scattercarpet\",\"marker\":{\"colorbar\":{\"outlinewidth\":0,\"ticks\":\"\"}}}],\"carpet\":[{\"aaxis\":{\"endlinecolor\":\"#2a3f5f\",\"gridcolor\":\"white\",\"linecolor\":\"white\",\"minorgridcolor\":\"white\",\"startlinecolor\":\"#2a3f5f\"},\"baxis\":{\"endlinecolor\":\"#2a3f5f\",\"gridcolor\":\"white\",\"linecolor\":\"white\",\"minorgridcolor\":\"white\",\"startlinecolor\":\"#2a3f5f\"},\"type\":\"carpet\"}],\"table\":[{\"cells\":{\"fill\":{\"color\":\"#EBF0F8\"},\"line\":{\"color\":\"white\"}},\"header\":{\"fill\":{\"color\":\"#C8D4E3\"},\"line\":{\"color\":\"white\"}},\"type\":\"table\"}],\"barpolar\":[{\"marker\":{\"line\":{\"color\":\"#E5ECF6\",\"width\":0.5},\"pattern\":{\"fillmode\":\"overlay\",\"size\":10,\"solidity\":0.2}},\"type\":\"barpolar\"}],\"pie\":[{\"automargin\":true,\"type\":\"pie\"}]},\"layout\":{\"autotypenumbers\":\"strict\",\"colorway\":[\"#636efa\",\"#EF553B\",\"#00cc96\",\"#ab63fa\",\"#FFA15A\",\"#19d3f3\",\"#FF6692\",\"#B6E880\",\"#FF97FF\",\"#FECB52\"],\"font\":{\"color\":\"#2a3f5f\"},\"hovermode\":\"closest\",\"hoverlabel\":{\"align\":\"left\"},\"paper_bgcolor\":\"white\",\"plot_bgcolor\":\"#E5ECF6\",\"polar\":{\"bgcolor\":\"#E5ECF6\",\"angularaxis\":{\"gridcolor\":\"white\",\"linecolor\":\"white\",\"ticks\":\"\"},\"radialaxis\":{\"gridcolor\":\"white\",\"linecolor\":\"white\",\"ticks\":\"\"}},\"ternary\":{\"bgcolor\":\"#E5ECF6\",\"aaxis\":{\"gridcolor\":\"white\",\"linecolor\":\"white\",\"ticks\":\"\"},\"baxis\":{\"gridcolor\":\"white\",\"linecolor\":\"white\",\"ticks\":\"\"},\"caxis\":{\"gridcolor\":\"white\",\"linecolor\":\"white\",\"ticks\":\"\"}},\"coloraxis\":{\"colorbar\":{\"outlinewidth\":0,\"ticks\":\"\"}},\"colorscale\":{\"sequential\":[[0.0,\"#0d0887\"],[0.1111111111111111,\"#46039f\"],[0.2222222222222222,\"#7201a8\"],[0.3333333333333333,\"#9c179e\"],[0.4444444444444444,\"#bd3786\"],[0.5555555555555556,\"#d8576b\"],[0.6666666666666666,\"#ed7953\"],[0.7777777777777778,\"#fb9f3a\"],[0.8888888888888888,\"#fdca26\"],[1.0,\"#f0f921\"]],\"sequentialminus\":[[0.0,\"#0d0887\"],[0.1111111111111111,\"#46039f\"],[0.2222222222222222,\"#7201a8\"],[0.3333333333333333,\"#9c179e\"],[0.4444444444444444,\"#bd3786\"],[0.5555555555555556,\"#d8576b\"],[0.6666666666666666,\"#ed7953\"],[0.7777777777777778,\"#fb9f3a\"],[0.8888888888888888,\"#fdca26\"],[1.0,\"#f0f921\"]],\"diverging\":[[0,\"#8e0152\"],[0.1,\"#c51b7d\"],[0.2,\"#de77ae\"],[0.3,\"#f1b6da\"],[0.4,\"#fde0ef\"],[0.5,\"#f7f7f7\"],[0.6,\"#e6f5d0\"],[0.7,\"#b8e186\"],[0.8,\"#7fbc41\"],[0.9,\"#4d9221\"],[1,\"#276419\"]]},\"xaxis\":{\"gridcolor\":\"white\",\"linecolor\":\"white\",\"ticks\":\"\",\"title\":{\"standoff\":15},\"zerolinecolor\":\"white\",\"automargin\":true,\"zerolinewidth\":2},\"yaxis\":{\"gridcolor\":\"white\",\"linecolor\":\"white\",\"ticks\":\"\",\"title\":{\"standoff\":15},\"zerolinecolor\":\"white\",\"automargin\":true,\"zerolinewidth\":2},\"scene\":{\"xaxis\":{\"backgroundcolor\":\"#E5ECF6\",\"gridcolor\":\"white\",\"linecolor\":\"white\",\"showbackground\":true,\"ticks\":\"\",\"zerolinecolor\":\"white\",\"gridwidth\":2},\"yaxis\":{\"backgroundcolor\":\"#E5ECF6\",\"gridcolor\":\"white\",\"linecolor\":\"white\",\"showbackground\":true,\"ticks\":\"\",\"zerolinecolor\":\"white\",\"gridwidth\":2},\"zaxis\":{\"backgroundcolor\":\"#E5ECF6\",\"gridcolor\":\"white\",\"linecolor\":\"white\",\"showbackground\":true,\"ticks\":\"\",\"zerolinecolor\":\"white\",\"gridwidth\":2}},\"shapedefaults\":{\"line\":{\"color\":\"#2a3f5f\"}},\"annotationdefaults\":{\"arrowcolor\":\"#2a3f5f\",\"arrowhead\":0,\"arrowwidth\":1},\"geo\":{\"bgcolor\":\"white\",\"landcolor\":\"#E5ECF6\",\"subunitcolor\":\"white\",\"showland\":true,\"showlakes\":true,\"lakecolor\":\"white\"},\"title\":{\"x\":0.05},\"mapbox\":{\"style\":\"light\"}}},\"xaxis\":{\"anchor\":\"y\",\"domain\":[0.0,1.0],\"title\":{\"text\":\"Year\"}},\"yaxis\":{\"anchor\":\"x\",\"domain\":[0.0,1.0],\"title\":{\"text\":\"Value\"}},\"legend\":{\"tracegroupgap\":0},\"title\":{\"text\":\"World GDP Analysis\"}},                        {\"responsive\": true}                    ).then(function(){\n",
       "                            \n",
       "var gd = document.getElementById('feab7cf7-892d-41eb-a2ea-952a63503806');\n",
       "var x = new MutationObserver(function (mutations, observer) {{\n",
       "        var display = window.getComputedStyle(gd).display;\n",
       "        if (!display || display === 'none') {{\n",
       "            console.log([gd, 'removed!']);\n",
       "            Plotly.purge(gd);\n",
       "            observer.disconnect();\n",
       "        }}\n",
       "}});\n",
       "\n",
       "// Listen for the removal of the full notebook cells\n",
       "var notebookContainer = gd.closest('#notebook-container');\n",
       "if (notebookContainer) {{\n",
       "    x.observe(notebookContainer, {childList: true});\n",
       "}}\n",
       "\n",
       "// Listen for the clearing of the current output cell\n",
       "var outputEl = gd.closest('.output');\n",
       "if (outputEl) {{\n",
       "    x.observe(outputEl, {childList: true});\n",
       "}}\n",
       "\n",
       "                        })                };                });            </script>        </div>"
      ]
     },
     "metadata": {},
     "output_type": "display_data"
    }
   ],
   "source": [
    "df_pr = df[df['Country Name'] == 'World']\n",
    "\n",
    "fig = px.line(df_pr, x = 'Year', y = 'Value', title = 'World GDP Analysis')\n",
    "\n",
    "fig"
   ]
  },
  {
   "cell_type": "code",
   "execution_count": 5,
   "id": "97c73109-ecbc-4a6a-b0eb-6e7b611ded28",
   "metadata": {},
   "outputs": [
    {
     "data": {
      "text/plain": [
       "'World GDP.html'"
      ]
     },
     "execution_count": 5,
     "metadata": {},
     "output_type": "execute_result"
    }
   ],
   "source": [
    "pyo.plot(fig, filename = 'World GDP.html')"
   ]
  },
  {
   "cell_type": "code",
   "execution_count": 7,
   "id": "dd140205-9dcf-480e-b99d-c4cee51008c4",
   "metadata": {},
   "outputs": [
    {
     "data": {
      "text/plain": [
       "'India.html'"
      ]
     },
     "execution_count": 7,
     "metadata": {},
     "output_type": "execute_result"
    }
   ],
   "source": [
    "df_pr = df[df['Country Name'] == 'India']\n",
    "\n",
    "fig = px.line(df_pr, x = 'Year', y = 'Value', title = 'Indian GDP Analysis')\n",
    "\n",
    "\n",
    "pyo.plot(fig, filename = 'India.html')"
   ]
  },
  {
   "cell_type": "code",
   "execution_count": 9,
   "id": "3b7890c9-edb7-47fb-8e30-0c108f11bb0b",
   "metadata": {},
   "outputs": [],
   "source": [
    "df_pr = df[df['Country Name'] == 'India']\n",
    "\n",
    "fig = px.line(df_pr, x = 'Year', y = 'Value', title = 'Indian GDP Analysis', range_y = [0, 4000000000000])"
   ]
  },
  {
   "cell_type": "code",
   "execution_count": 10,
   "id": "81a27656-bcf4-422a-9bf4-d798a55c5847",
   "metadata": {},
   "outputs": [
    {
     "data": {
      "application/vnd.plotly.v1+json": {
       "config": {
        "plotlyServerURL": "https://plot.ly"
       },
       "data": [
        {
         "hovertemplate": "Year=%{x}<br>Value=%{y}<extra></extra>",
         "legendgroup": "",
         "line": {
          "color": "#636efa",
          "dash": "solid"
         },
         "marker": {
          "symbol": "circle"
         },
         "mode": "lines",
         "name": "",
         "orientation": "v",
         "showlegend": false,
         "type": "scatter",
         "x": [
          1960,
          1961,
          1962,
          1963,
          1964,
          1965,
          1966,
          1967,
          1968,
          1969,
          1970,
          1971,
          1972,
          1973,
          1974,
          1975,
          1976,
          1977,
          1978,
          1979,
          1980,
          1981,
          1982,
          1983,
          1984,
          1985,
          1986,
          1987,
          1988,
          1989,
          1990,
          1991,
          1992,
          1993,
          1994,
          1995,
          1996,
          1997,
          1998,
          1999,
          2000,
          2001,
          2002,
          2003,
          2004,
          2005,
          2006,
          2007,
          2008,
          2009,
          2010,
          2011,
          2012,
          2013,
          2014,
          2015,
          2016
         ],
         "xaxis": "x",
         "y": [
          36535925029.925,
          38709096075.0961,
          41599070245.0702,
          47776000903.0009,
          55726873075.8731,
          58760424674.5065,
          45253641300,
          49466168893.3333,
          52377324280,
          57668330026.6667,
          61589800520,
          66452561868.4154,
          70509913046.8528,
          84374541625.3338,
          98198276856.9136,
          97159222028.3357,
          101346972433.237,
          119866746569.343,
          135468782810.558,
          150950826964.984,
          183839864648.794,
          190909548793.872,
          198037712680.328,
          215350771423.861,
          209328156804.186,
          229410293755.209,
          245664654064.834,
          275311425330.609,
          292632656261.441,
          292093308316.929,
          316697337894.532,
          266502281092.721,
          284363884079.92,
          275570363432.31,
          322909902308.131,
          355475984176.175,
          387656017799.599,
          410320300471.227,
          415730874172.06,
          452699998386.955,
          462146799336.77,
          478965491061.694,
          508068952065.959,
          599592902016.212,
          699688852930.441,
          808901077222.092,
          920316529729.61,
          1201111768409.39,
          1186952757635.85,
          1323940295874.9,
          1656617073124.21,
          1823049927771.46,
          1827637859135.7,
          1856722121394.53,
          2035393459979.46,
          2089865410867.82,
          2263792499341.01
         ],
         "yaxis": "y"
        }
       ],
       "layout": {
        "legend": {
         "tracegroupgap": 0
        },
        "template": {
         "data": {
          "bar": [
           {
            "error_x": {
             "color": "#2a3f5f"
            },
            "error_y": {
             "color": "#2a3f5f"
            },
            "marker": {
             "line": {
              "color": "#E5ECF6",
              "width": 0.5
             },
             "pattern": {
              "fillmode": "overlay",
              "size": 10,
              "solidity": 0.2
             }
            },
            "type": "bar"
           }
          ],
          "barpolar": [
           {
            "marker": {
             "line": {
              "color": "#E5ECF6",
              "width": 0.5
             },
             "pattern": {
              "fillmode": "overlay",
              "size": 10,
              "solidity": 0.2
             }
            },
            "type": "barpolar"
           }
          ],
          "carpet": [
           {
            "aaxis": {
             "endlinecolor": "#2a3f5f",
             "gridcolor": "white",
             "linecolor": "white",
             "minorgridcolor": "white",
             "startlinecolor": "#2a3f5f"
            },
            "baxis": {
             "endlinecolor": "#2a3f5f",
             "gridcolor": "white",
             "linecolor": "white",
             "minorgridcolor": "white",
             "startlinecolor": "#2a3f5f"
            },
            "type": "carpet"
           }
          ],
          "choropleth": [
           {
            "colorbar": {
             "outlinewidth": 0,
             "ticks": ""
            },
            "type": "choropleth"
           }
          ],
          "contour": [
           {
            "colorbar": {
             "outlinewidth": 0,
             "ticks": ""
            },
            "colorscale": [
             [
              0,
              "#0d0887"
             ],
             [
              0.1111111111111111,
              "#46039f"
             ],
             [
              0.2222222222222222,
              "#7201a8"
             ],
             [
              0.3333333333333333,
              "#9c179e"
             ],
             [
              0.4444444444444444,
              "#bd3786"
             ],
             [
              0.5555555555555556,
              "#d8576b"
             ],
             [
              0.6666666666666666,
              "#ed7953"
             ],
             [
              0.7777777777777778,
              "#fb9f3a"
             ],
             [
              0.8888888888888888,
              "#fdca26"
             ],
             [
              1,
              "#f0f921"
             ]
            ],
            "type": "contour"
           }
          ],
          "contourcarpet": [
           {
            "colorbar": {
             "outlinewidth": 0,
             "ticks": ""
            },
            "type": "contourcarpet"
           }
          ],
          "heatmap": [
           {
            "colorbar": {
             "outlinewidth": 0,
             "ticks": ""
            },
            "colorscale": [
             [
              0,
              "#0d0887"
             ],
             [
              0.1111111111111111,
              "#46039f"
             ],
             [
              0.2222222222222222,
              "#7201a8"
             ],
             [
              0.3333333333333333,
              "#9c179e"
             ],
             [
              0.4444444444444444,
              "#bd3786"
             ],
             [
              0.5555555555555556,
              "#d8576b"
             ],
             [
              0.6666666666666666,
              "#ed7953"
             ],
             [
              0.7777777777777778,
              "#fb9f3a"
             ],
             [
              0.8888888888888888,
              "#fdca26"
             ],
             [
              1,
              "#f0f921"
             ]
            ],
            "type": "heatmap"
           }
          ],
          "heatmapgl": [
           {
            "colorbar": {
             "outlinewidth": 0,
             "ticks": ""
            },
            "colorscale": [
             [
              0,
              "#0d0887"
             ],
             [
              0.1111111111111111,
              "#46039f"
             ],
             [
              0.2222222222222222,
              "#7201a8"
             ],
             [
              0.3333333333333333,
              "#9c179e"
             ],
             [
              0.4444444444444444,
              "#bd3786"
             ],
             [
              0.5555555555555556,
              "#d8576b"
             ],
             [
              0.6666666666666666,
              "#ed7953"
             ],
             [
              0.7777777777777778,
              "#fb9f3a"
             ],
             [
              0.8888888888888888,
              "#fdca26"
             ],
             [
              1,
              "#f0f921"
             ]
            ],
            "type": "heatmapgl"
           }
          ],
          "histogram": [
           {
            "marker": {
             "pattern": {
              "fillmode": "overlay",
              "size": 10,
              "solidity": 0.2
             }
            },
            "type": "histogram"
           }
          ],
          "histogram2d": [
           {
            "colorbar": {
             "outlinewidth": 0,
             "ticks": ""
            },
            "colorscale": [
             [
              0,
              "#0d0887"
             ],
             [
              0.1111111111111111,
              "#46039f"
             ],
             [
              0.2222222222222222,
              "#7201a8"
             ],
             [
              0.3333333333333333,
              "#9c179e"
             ],
             [
              0.4444444444444444,
              "#bd3786"
             ],
             [
              0.5555555555555556,
              "#d8576b"
             ],
             [
              0.6666666666666666,
              "#ed7953"
             ],
             [
              0.7777777777777778,
              "#fb9f3a"
             ],
             [
              0.8888888888888888,
              "#fdca26"
             ],
             [
              1,
              "#f0f921"
             ]
            ],
            "type": "histogram2d"
           }
          ],
          "histogram2dcontour": [
           {
            "colorbar": {
             "outlinewidth": 0,
             "ticks": ""
            },
            "colorscale": [
             [
              0,
              "#0d0887"
             ],
             [
              0.1111111111111111,
              "#46039f"
             ],
             [
              0.2222222222222222,
              "#7201a8"
             ],
             [
              0.3333333333333333,
              "#9c179e"
             ],
             [
              0.4444444444444444,
              "#bd3786"
             ],
             [
              0.5555555555555556,
              "#d8576b"
             ],
             [
              0.6666666666666666,
              "#ed7953"
             ],
             [
              0.7777777777777778,
              "#fb9f3a"
             ],
             [
              0.8888888888888888,
              "#fdca26"
             ],
             [
              1,
              "#f0f921"
             ]
            ],
            "type": "histogram2dcontour"
           }
          ],
          "mesh3d": [
           {
            "colorbar": {
             "outlinewidth": 0,
             "ticks": ""
            },
            "type": "mesh3d"
           }
          ],
          "parcoords": [
           {
            "line": {
             "colorbar": {
              "outlinewidth": 0,
              "ticks": ""
             }
            },
            "type": "parcoords"
           }
          ],
          "pie": [
           {
            "automargin": true,
            "type": "pie"
           }
          ],
          "scatter": [
           {
            "fillpattern": {
             "fillmode": "overlay",
             "size": 10,
             "solidity": 0.2
            },
            "type": "scatter"
           }
          ],
          "scatter3d": [
           {
            "line": {
             "colorbar": {
              "outlinewidth": 0,
              "ticks": ""
             }
            },
            "marker": {
             "colorbar": {
              "outlinewidth": 0,
              "ticks": ""
             }
            },
            "type": "scatter3d"
           }
          ],
          "scattercarpet": [
           {
            "marker": {
             "colorbar": {
              "outlinewidth": 0,
              "ticks": ""
             }
            },
            "type": "scattercarpet"
           }
          ],
          "scattergeo": [
           {
            "marker": {
             "colorbar": {
              "outlinewidth": 0,
              "ticks": ""
             }
            },
            "type": "scattergeo"
           }
          ],
          "scattergl": [
           {
            "marker": {
             "colorbar": {
              "outlinewidth": 0,
              "ticks": ""
             }
            },
            "type": "scattergl"
           }
          ],
          "scattermapbox": [
           {
            "marker": {
             "colorbar": {
              "outlinewidth": 0,
              "ticks": ""
             }
            },
            "type": "scattermapbox"
           }
          ],
          "scatterpolar": [
           {
            "marker": {
             "colorbar": {
              "outlinewidth": 0,
              "ticks": ""
             }
            },
            "type": "scatterpolar"
           }
          ],
          "scatterpolargl": [
           {
            "marker": {
             "colorbar": {
              "outlinewidth": 0,
              "ticks": ""
             }
            },
            "type": "scatterpolargl"
           }
          ],
          "scatterternary": [
           {
            "marker": {
             "colorbar": {
              "outlinewidth": 0,
              "ticks": ""
             }
            },
            "type": "scatterternary"
           }
          ],
          "surface": [
           {
            "colorbar": {
             "outlinewidth": 0,
             "ticks": ""
            },
            "colorscale": [
             [
              0,
              "#0d0887"
             ],
             [
              0.1111111111111111,
              "#46039f"
             ],
             [
              0.2222222222222222,
              "#7201a8"
             ],
             [
              0.3333333333333333,
              "#9c179e"
             ],
             [
              0.4444444444444444,
              "#bd3786"
             ],
             [
              0.5555555555555556,
              "#d8576b"
             ],
             [
              0.6666666666666666,
              "#ed7953"
             ],
             [
              0.7777777777777778,
              "#fb9f3a"
             ],
             [
              0.8888888888888888,
              "#fdca26"
             ],
             [
              1,
              "#f0f921"
             ]
            ],
            "type": "surface"
           }
          ],
          "table": [
           {
            "cells": {
             "fill": {
              "color": "#EBF0F8"
             },
             "line": {
              "color": "white"
             }
            },
            "header": {
             "fill": {
              "color": "#C8D4E3"
             },
             "line": {
              "color": "white"
             }
            },
            "type": "table"
           }
          ]
         },
         "layout": {
          "annotationdefaults": {
           "arrowcolor": "#2a3f5f",
           "arrowhead": 0,
           "arrowwidth": 1
          },
          "autotypenumbers": "strict",
          "coloraxis": {
           "colorbar": {
            "outlinewidth": 0,
            "ticks": ""
           }
          },
          "colorscale": {
           "diverging": [
            [
             0,
             "#8e0152"
            ],
            [
             0.1,
             "#c51b7d"
            ],
            [
             0.2,
             "#de77ae"
            ],
            [
             0.3,
             "#f1b6da"
            ],
            [
             0.4,
             "#fde0ef"
            ],
            [
             0.5,
             "#f7f7f7"
            ],
            [
             0.6,
             "#e6f5d0"
            ],
            [
             0.7,
             "#b8e186"
            ],
            [
             0.8,
             "#7fbc41"
            ],
            [
             0.9,
             "#4d9221"
            ],
            [
             1,
             "#276419"
            ]
           ],
           "sequential": [
            [
             0,
             "#0d0887"
            ],
            [
             0.1111111111111111,
             "#46039f"
            ],
            [
             0.2222222222222222,
             "#7201a8"
            ],
            [
             0.3333333333333333,
             "#9c179e"
            ],
            [
             0.4444444444444444,
             "#bd3786"
            ],
            [
             0.5555555555555556,
             "#d8576b"
            ],
            [
             0.6666666666666666,
             "#ed7953"
            ],
            [
             0.7777777777777778,
             "#fb9f3a"
            ],
            [
             0.8888888888888888,
             "#fdca26"
            ],
            [
             1,
             "#f0f921"
            ]
           ],
           "sequentialminus": [
            [
             0,
             "#0d0887"
            ],
            [
             0.1111111111111111,
             "#46039f"
            ],
            [
             0.2222222222222222,
             "#7201a8"
            ],
            [
             0.3333333333333333,
             "#9c179e"
            ],
            [
             0.4444444444444444,
             "#bd3786"
            ],
            [
             0.5555555555555556,
             "#d8576b"
            ],
            [
             0.6666666666666666,
             "#ed7953"
            ],
            [
             0.7777777777777778,
             "#fb9f3a"
            ],
            [
             0.8888888888888888,
             "#fdca26"
            ],
            [
             1,
             "#f0f921"
            ]
           ]
          },
          "colorway": [
           "#636efa",
           "#EF553B",
           "#00cc96",
           "#ab63fa",
           "#FFA15A",
           "#19d3f3",
           "#FF6692",
           "#B6E880",
           "#FF97FF",
           "#FECB52"
          ],
          "font": {
           "color": "#2a3f5f"
          },
          "geo": {
           "bgcolor": "white",
           "lakecolor": "white",
           "landcolor": "#E5ECF6",
           "showlakes": true,
           "showland": true,
           "subunitcolor": "white"
          },
          "hoverlabel": {
           "align": "left"
          },
          "hovermode": "closest",
          "mapbox": {
           "style": "light"
          },
          "paper_bgcolor": "white",
          "plot_bgcolor": "#E5ECF6",
          "polar": {
           "angularaxis": {
            "gridcolor": "white",
            "linecolor": "white",
            "ticks": ""
           },
           "bgcolor": "#E5ECF6",
           "radialaxis": {
            "gridcolor": "white",
            "linecolor": "white",
            "ticks": ""
           }
          },
          "scene": {
           "xaxis": {
            "backgroundcolor": "#E5ECF6",
            "gridcolor": "white",
            "gridwidth": 2,
            "linecolor": "white",
            "showbackground": true,
            "ticks": "",
            "zerolinecolor": "white"
           },
           "yaxis": {
            "backgroundcolor": "#E5ECF6",
            "gridcolor": "white",
            "gridwidth": 2,
            "linecolor": "white",
            "showbackground": true,
            "ticks": "",
            "zerolinecolor": "white"
           },
           "zaxis": {
            "backgroundcolor": "#E5ECF6",
            "gridcolor": "white",
            "gridwidth": 2,
            "linecolor": "white",
            "showbackground": true,
            "ticks": "",
            "zerolinecolor": "white"
           }
          },
          "shapedefaults": {
           "line": {
            "color": "#2a3f5f"
           }
          },
          "ternary": {
           "aaxis": {
            "gridcolor": "white",
            "linecolor": "white",
            "ticks": ""
           },
           "baxis": {
            "gridcolor": "white",
            "linecolor": "white",
            "ticks": ""
           },
           "bgcolor": "#E5ECF6",
           "caxis": {
            "gridcolor": "white",
            "linecolor": "white",
            "ticks": ""
           }
          },
          "title": {
           "x": 0.05
          },
          "xaxis": {
           "automargin": true,
           "gridcolor": "white",
           "linecolor": "white",
           "ticks": "",
           "title": {
            "standoff": 15
           },
           "zerolinecolor": "white",
           "zerolinewidth": 2
          },
          "yaxis": {
           "automargin": true,
           "gridcolor": "white",
           "linecolor": "white",
           "ticks": "",
           "title": {
            "standoff": 15
           },
           "zerolinecolor": "white",
           "zerolinewidth": 2
          }
         }
        },
        "title": {
         "text": "Indian GDP Analysis"
        },
        "xaxis": {
         "anchor": "y",
         "domain": [
          0,
          1
         ],
         "title": {
          "text": "Year"
         }
        },
        "yaxis": {
         "anchor": "x",
         "domain": [
          0,
          1
         ],
         "range": [
          0,
          4000000000000
         ],
         "title": {
          "text": "Value"
         }
        }
       }
      },
      "text/html": [
       "<div>                            <div id=\"1039c995-1f50-4749-92e4-9b8362d1c33a\" class=\"plotly-graph-div\" style=\"height:525px; width:100%;\"></div>            <script type=\"text/javascript\">                require([\"plotly\"], function(Plotly) {                    window.PLOTLYENV=window.PLOTLYENV || {};                                    if (document.getElementById(\"1039c995-1f50-4749-92e4-9b8362d1c33a\")) {                    Plotly.newPlot(                        \"1039c995-1f50-4749-92e4-9b8362d1c33a\",                        [{\"hovertemplate\":\"Year=%{x}\\u003cbr\\u003eValue=%{y}\\u003cextra\\u003e\\u003c\\u002fextra\\u003e\",\"legendgroup\":\"\",\"line\":{\"color\":\"#636efa\",\"dash\":\"solid\"},\"marker\":{\"symbol\":\"circle\"},\"mode\":\"lines\",\"name\":\"\",\"orientation\":\"v\",\"showlegend\":false,\"x\":[1960,1961,1962,1963,1964,1965,1966,1967,1968,1969,1970,1971,1972,1973,1974,1975,1976,1977,1978,1979,1980,1981,1982,1983,1984,1985,1986,1987,1988,1989,1990,1991,1992,1993,1994,1995,1996,1997,1998,1999,2000,2001,2002,2003,2004,2005,2006,2007,2008,2009,2010,2011,2012,2013,2014,2015,2016],\"xaxis\":\"x\",\"y\":[36535925029.925,38709096075.0961,41599070245.0702,47776000903.0009,55726873075.8731,58760424674.5065,45253641300.0,49466168893.3333,52377324280.0,57668330026.6667,61589800520.0,66452561868.4154,70509913046.8528,84374541625.3338,98198276856.9136,97159222028.3357,101346972433.237,119866746569.343,135468782810.558,150950826964.984,183839864648.794,190909548793.872,198037712680.328,215350771423.861,209328156804.186,229410293755.209,245664654064.834,275311425330.609,292632656261.441,292093308316.929,316697337894.532,266502281092.721,284363884079.92,275570363432.31,322909902308.131,355475984176.175,387656017799.599,410320300471.227,415730874172.06,452699998386.955,462146799336.77,478965491061.694,508068952065.959,599592902016.212,699688852930.441,808901077222.092,920316529729.61,1201111768409.39,1186952757635.85,1323940295874.9,1656617073124.21,1823049927771.46,1827637859135.7,1856722121394.53,2035393459979.46,2089865410867.82,2263792499341.01],\"yaxis\":\"y\",\"type\":\"scatter\"}],                        {\"template\":{\"data\":{\"histogram2dcontour\":[{\"type\":\"histogram2dcontour\",\"colorbar\":{\"outlinewidth\":0,\"ticks\":\"\"},\"colorscale\":[[0.0,\"#0d0887\"],[0.1111111111111111,\"#46039f\"],[0.2222222222222222,\"#7201a8\"],[0.3333333333333333,\"#9c179e\"],[0.4444444444444444,\"#bd3786\"],[0.5555555555555556,\"#d8576b\"],[0.6666666666666666,\"#ed7953\"],[0.7777777777777778,\"#fb9f3a\"],[0.8888888888888888,\"#fdca26\"],[1.0,\"#f0f921\"]]}],\"choropleth\":[{\"type\":\"choropleth\",\"colorbar\":{\"outlinewidth\":0,\"ticks\":\"\"}}],\"histogram2d\":[{\"type\":\"histogram2d\",\"colorbar\":{\"outlinewidth\":0,\"ticks\":\"\"},\"colorscale\":[[0.0,\"#0d0887\"],[0.1111111111111111,\"#46039f\"],[0.2222222222222222,\"#7201a8\"],[0.3333333333333333,\"#9c179e\"],[0.4444444444444444,\"#bd3786\"],[0.5555555555555556,\"#d8576b\"],[0.6666666666666666,\"#ed7953\"],[0.7777777777777778,\"#fb9f3a\"],[0.8888888888888888,\"#fdca26\"],[1.0,\"#f0f921\"]]}],\"heatmap\":[{\"type\":\"heatmap\",\"colorbar\":{\"outlinewidth\":0,\"ticks\":\"\"},\"colorscale\":[[0.0,\"#0d0887\"],[0.1111111111111111,\"#46039f\"],[0.2222222222222222,\"#7201a8\"],[0.3333333333333333,\"#9c179e\"],[0.4444444444444444,\"#bd3786\"],[0.5555555555555556,\"#d8576b\"],[0.6666666666666666,\"#ed7953\"],[0.7777777777777778,\"#fb9f3a\"],[0.8888888888888888,\"#fdca26\"],[1.0,\"#f0f921\"]]}],\"heatmapgl\":[{\"type\":\"heatmapgl\",\"colorbar\":{\"outlinewidth\":0,\"ticks\":\"\"},\"colorscale\":[[0.0,\"#0d0887\"],[0.1111111111111111,\"#46039f\"],[0.2222222222222222,\"#7201a8\"],[0.3333333333333333,\"#9c179e\"],[0.4444444444444444,\"#bd3786\"],[0.5555555555555556,\"#d8576b\"],[0.6666666666666666,\"#ed7953\"],[0.7777777777777778,\"#fb9f3a\"],[0.8888888888888888,\"#fdca26\"],[1.0,\"#f0f921\"]]}],\"contourcarpet\":[{\"type\":\"contourcarpet\",\"colorbar\":{\"outlinewidth\":0,\"ticks\":\"\"}}],\"contour\":[{\"type\":\"contour\",\"colorbar\":{\"outlinewidth\":0,\"ticks\":\"\"},\"colorscale\":[[0.0,\"#0d0887\"],[0.1111111111111111,\"#46039f\"],[0.2222222222222222,\"#7201a8\"],[0.3333333333333333,\"#9c179e\"],[0.4444444444444444,\"#bd3786\"],[0.5555555555555556,\"#d8576b\"],[0.6666666666666666,\"#ed7953\"],[0.7777777777777778,\"#fb9f3a\"],[0.8888888888888888,\"#fdca26\"],[1.0,\"#f0f921\"]]}],\"surface\":[{\"type\":\"surface\",\"colorbar\":{\"outlinewidth\":0,\"ticks\":\"\"},\"colorscale\":[[0.0,\"#0d0887\"],[0.1111111111111111,\"#46039f\"],[0.2222222222222222,\"#7201a8\"],[0.3333333333333333,\"#9c179e\"],[0.4444444444444444,\"#bd3786\"],[0.5555555555555556,\"#d8576b\"],[0.6666666666666666,\"#ed7953\"],[0.7777777777777778,\"#fb9f3a\"],[0.8888888888888888,\"#fdca26\"],[1.0,\"#f0f921\"]]}],\"mesh3d\":[{\"type\":\"mesh3d\",\"colorbar\":{\"outlinewidth\":0,\"ticks\":\"\"}}],\"scatter\":[{\"fillpattern\":{\"fillmode\":\"overlay\",\"size\":10,\"solidity\":0.2},\"type\":\"scatter\"}],\"parcoords\":[{\"type\":\"parcoords\",\"line\":{\"colorbar\":{\"outlinewidth\":0,\"ticks\":\"\"}}}],\"scatterpolargl\":[{\"type\":\"scatterpolargl\",\"marker\":{\"colorbar\":{\"outlinewidth\":0,\"ticks\":\"\"}}}],\"bar\":[{\"error_x\":{\"color\":\"#2a3f5f\"},\"error_y\":{\"color\":\"#2a3f5f\"},\"marker\":{\"line\":{\"color\":\"#E5ECF6\",\"width\":0.5},\"pattern\":{\"fillmode\":\"overlay\",\"size\":10,\"solidity\":0.2}},\"type\":\"bar\"}],\"scattergeo\":[{\"type\":\"scattergeo\",\"marker\":{\"colorbar\":{\"outlinewidth\":0,\"ticks\":\"\"}}}],\"scatterpolar\":[{\"type\":\"scatterpolar\",\"marker\":{\"colorbar\":{\"outlinewidth\":0,\"ticks\":\"\"}}}],\"histogram\":[{\"marker\":{\"pattern\":{\"fillmode\":\"overlay\",\"size\":10,\"solidity\":0.2}},\"type\":\"histogram\"}],\"scattergl\":[{\"type\":\"scattergl\",\"marker\":{\"colorbar\":{\"outlinewidth\":0,\"ticks\":\"\"}}}],\"scatter3d\":[{\"type\":\"scatter3d\",\"line\":{\"colorbar\":{\"outlinewidth\":0,\"ticks\":\"\"}},\"marker\":{\"colorbar\":{\"outlinewidth\":0,\"ticks\":\"\"}}}],\"scattermapbox\":[{\"type\":\"scattermapbox\",\"marker\":{\"colorbar\":{\"outlinewidth\":0,\"ticks\":\"\"}}}],\"scatterternary\":[{\"type\":\"scatterternary\",\"marker\":{\"colorbar\":{\"outlinewidth\":0,\"ticks\":\"\"}}}],\"scattercarpet\":[{\"type\":\"scattercarpet\",\"marker\":{\"colorbar\":{\"outlinewidth\":0,\"ticks\":\"\"}}}],\"carpet\":[{\"aaxis\":{\"endlinecolor\":\"#2a3f5f\",\"gridcolor\":\"white\",\"linecolor\":\"white\",\"minorgridcolor\":\"white\",\"startlinecolor\":\"#2a3f5f\"},\"baxis\":{\"endlinecolor\":\"#2a3f5f\",\"gridcolor\":\"white\",\"linecolor\":\"white\",\"minorgridcolor\":\"white\",\"startlinecolor\":\"#2a3f5f\"},\"type\":\"carpet\"}],\"table\":[{\"cells\":{\"fill\":{\"color\":\"#EBF0F8\"},\"line\":{\"color\":\"white\"}},\"header\":{\"fill\":{\"color\":\"#C8D4E3\"},\"line\":{\"color\":\"white\"}},\"type\":\"table\"}],\"barpolar\":[{\"marker\":{\"line\":{\"color\":\"#E5ECF6\",\"width\":0.5},\"pattern\":{\"fillmode\":\"overlay\",\"size\":10,\"solidity\":0.2}},\"type\":\"barpolar\"}],\"pie\":[{\"automargin\":true,\"type\":\"pie\"}]},\"layout\":{\"autotypenumbers\":\"strict\",\"colorway\":[\"#636efa\",\"#EF553B\",\"#00cc96\",\"#ab63fa\",\"#FFA15A\",\"#19d3f3\",\"#FF6692\",\"#B6E880\",\"#FF97FF\",\"#FECB52\"],\"font\":{\"color\":\"#2a3f5f\"},\"hovermode\":\"closest\",\"hoverlabel\":{\"align\":\"left\"},\"paper_bgcolor\":\"white\",\"plot_bgcolor\":\"#E5ECF6\",\"polar\":{\"bgcolor\":\"#E5ECF6\",\"angularaxis\":{\"gridcolor\":\"white\",\"linecolor\":\"white\",\"ticks\":\"\"},\"radialaxis\":{\"gridcolor\":\"white\",\"linecolor\":\"white\",\"ticks\":\"\"}},\"ternary\":{\"bgcolor\":\"#E5ECF6\",\"aaxis\":{\"gridcolor\":\"white\",\"linecolor\":\"white\",\"ticks\":\"\"},\"baxis\":{\"gridcolor\":\"white\",\"linecolor\":\"white\",\"ticks\":\"\"},\"caxis\":{\"gridcolor\":\"white\",\"linecolor\":\"white\",\"ticks\":\"\"}},\"coloraxis\":{\"colorbar\":{\"outlinewidth\":0,\"ticks\":\"\"}},\"colorscale\":{\"sequential\":[[0.0,\"#0d0887\"],[0.1111111111111111,\"#46039f\"],[0.2222222222222222,\"#7201a8\"],[0.3333333333333333,\"#9c179e\"],[0.4444444444444444,\"#bd3786\"],[0.5555555555555556,\"#d8576b\"],[0.6666666666666666,\"#ed7953\"],[0.7777777777777778,\"#fb9f3a\"],[0.8888888888888888,\"#fdca26\"],[1.0,\"#f0f921\"]],\"sequentialminus\":[[0.0,\"#0d0887\"],[0.1111111111111111,\"#46039f\"],[0.2222222222222222,\"#7201a8\"],[0.3333333333333333,\"#9c179e\"],[0.4444444444444444,\"#bd3786\"],[0.5555555555555556,\"#d8576b\"],[0.6666666666666666,\"#ed7953\"],[0.7777777777777778,\"#fb9f3a\"],[0.8888888888888888,\"#fdca26\"],[1.0,\"#f0f921\"]],\"diverging\":[[0,\"#8e0152\"],[0.1,\"#c51b7d\"],[0.2,\"#de77ae\"],[0.3,\"#f1b6da\"],[0.4,\"#fde0ef\"],[0.5,\"#f7f7f7\"],[0.6,\"#e6f5d0\"],[0.7,\"#b8e186\"],[0.8,\"#7fbc41\"],[0.9,\"#4d9221\"],[1,\"#276419\"]]},\"xaxis\":{\"gridcolor\":\"white\",\"linecolor\":\"white\",\"ticks\":\"\",\"title\":{\"standoff\":15},\"zerolinecolor\":\"white\",\"automargin\":true,\"zerolinewidth\":2},\"yaxis\":{\"gridcolor\":\"white\",\"linecolor\":\"white\",\"ticks\":\"\",\"title\":{\"standoff\":15},\"zerolinecolor\":\"white\",\"automargin\":true,\"zerolinewidth\":2},\"scene\":{\"xaxis\":{\"backgroundcolor\":\"#E5ECF6\",\"gridcolor\":\"white\",\"linecolor\":\"white\",\"showbackground\":true,\"ticks\":\"\",\"zerolinecolor\":\"white\",\"gridwidth\":2},\"yaxis\":{\"backgroundcolor\":\"#E5ECF6\",\"gridcolor\":\"white\",\"linecolor\":\"white\",\"showbackground\":true,\"ticks\":\"\",\"zerolinecolor\":\"white\",\"gridwidth\":2},\"zaxis\":{\"backgroundcolor\":\"#E5ECF6\",\"gridcolor\":\"white\",\"linecolor\":\"white\",\"showbackground\":true,\"ticks\":\"\",\"zerolinecolor\":\"white\",\"gridwidth\":2}},\"shapedefaults\":{\"line\":{\"color\":\"#2a3f5f\"}},\"annotationdefaults\":{\"arrowcolor\":\"#2a3f5f\",\"arrowhead\":0,\"arrowwidth\":1},\"geo\":{\"bgcolor\":\"white\",\"landcolor\":\"#E5ECF6\",\"subunitcolor\":\"white\",\"showland\":true,\"showlakes\":true,\"lakecolor\":\"white\"},\"title\":{\"x\":0.05},\"mapbox\":{\"style\":\"light\"}}},\"xaxis\":{\"anchor\":\"y\",\"domain\":[0.0,1.0],\"title\":{\"text\":\"Year\"}},\"yaxis\":{\"anchor\":\"x\",\"domain\":[0.0,1.0],\"title\":{\"text\":\"Value\"},\"range\":[0,4000000000000]},\"legend\":{\"tracegroupgap\":0},\"title\":{\"text\":\"Indian GDP Analysis\"}},                        {\"responsive\": true}                    ).then(function(){\n",
       "                            \n",
       "var gd = document.getElementById('1039c995-1f50-4749-92e4-9b8362d1c33a');\n",
       "var x = new MutationObserver(function (mutations, observer) {{\n",
       "        var display = window.getComputedStyle(gd).display;\n",
       "        if (!display || display === 'none') {{\n",
       "            console.log([gd, 'removed!']);\n",
       "            Plotly.purge(gd);\n",
       "            observer.disconnect();\n",
       "        }}\n",
       "}});\n",
       "\n",
       "// Listen for the removal of the full notebook cells\n",
       "var notebookContainer = gd.closest('#notebook-container');\n",
       "if (notebookContainer) {{\n",
       "    x.observe(notebookContainer, {childList: true});\n",
       "}}\n",
       "\n",
       "// Listen for the clearing of the current output cell\n",
       "var outputEl = gd.closest('.output');\n",
       "if (outputEl) {{\n",
       "    x.observe(outputEl, {childList: true});\n",
       "}}\n",
       "\n",
       "                        })                };                });            </script>        </div>"
      ]
     },
     "metadata": {},
     "output_type": "display_data"
    }
   ],
   "source": [
    "fig"
   ]
  },
  {
   "cell_type": "markdown",
   "id": "9d613d3e-4379-42a5-acb0-aeb0c4571274",
   "metadata": {},
   "source": [
    "## Plotting Graphs in Bulk"
   ]
  },
  {
   "cell_type": "code",
   "execution_count": 11,
   "id": "6f4048d4-ef59-4223-8a25-b14e0d15de9c",
   "metadata": {},
   "outputs": [
    {
     "data": {
      "text/html": [
       "<div>\n",
       "<style scoped>\n",
       "    .dataframe tbody tr th:only-of-type {\n",
       "        vertical-align: middle;\n",
       "    }\n",
       "\n",
       "    .dataframe tbody tr th {\n",
       "        vertical-align: top;\n",
       "    }\n",
       "\n",
       "    .dataframe thead th {\n",
       "        text-align: right;\n",
       "    }\n",
       "</style>\n",
       "<table border=\"1\" class=\"dataframe\">\n",
       "  <thead>\n",
       "    <tr style=\"text-align: right;\">\n",
       "      <th></th>\n",
       "      <th>Country Name</th>\n",
       "      <th>Country Code</th>\n",
       "      <th>Year</th>\n",
       "      <th>Value</th>\n",
       "      <th>GDP</th>\n",
       "    </tr>\n",
       "  </thead>\n",
       "  <tbody>\n",
       "    <tr>\n",
       "      <th>0</th>\n",
       "      <td>Arab World</td>\n",
       "      <td>ARB</td>\n",
       "      <td>1968</td>\n",
       "      <td>2.576068e+10</td>\n",
       "      <td>0.00</td>\n",
       "    </tr>\n",
       "    <tr>\n",
       "      <th>1</th>\n",
       "      <td>Arab World</td>\n",
       "      <td>ARB</td>\n",
       "      <td>1969</td>\n",
       "      <td>2.843420e+10</td>\n",
       "      <td>10.38</td>\n",
       "    </tr>\n",
       "    <tr>\n",
       "      <th>2</th>\n",
       "      <td>Arab World</td>\n",
       "      <td>ARB</td>\n",
       "      <td>1970</td>\n",
       "      <td>3.138550e+10</td>\n",
       "      <td>10.38</td>\n",
       "    </tr>\n",
       "    <tr>\n",
       "      <th>3</th>\n",
       "      <td>Arab World</td>\n",
       "      <td>ARB</td>\n",
       "      <td>1971</td>\n",
       "      <td>3.642691e+10</td>\n",
       "      <td>16.06</td>\n",
       "    </tr>\n",
       "    <tr>\n",
       "      <th>4</th>\n",
       "      <td>Arab World</td>\n",
       "      <td>ARB</td>\n",
       "      <td>1972</td>\n",
       "      <td>4.331606e+10</td>\n",
       "      <td>18.91</td>\n",
       "    </tr>\n",
       "  </tbody>\n",
       "</table>\n",
       "</div>"
      ],
      "text/plain": [
       "  Country Name Country Code  Year         Value    GDP\n",
       "0   Arab World          ARB  1968  2.576068e+10   0.00\n",
       "1   Arab World          ARB  1969  2.843420e+10  10.38\n",
       "2   Arab World          ARB  1970  3.138550e+10  10.38\n",
       "3   Arab World          ARB  1971  3.642691e+10  16.06\n",
       "4   Arab World          ARB  1972  4.331606e+10  18.91"
      ]
     },
     "execution_count": 11,
     "metadata": {},
     "output_type": "execute_result"
    }
   ],
   "source": [
    "import os\n",
    "import pandas as pd\n",
    "import plotly.express as px\n",
    "import plotly.offline as pyo\n",
    "\n",
    "df = pd.read_csv('gdp.csv')\n",
    "\n",
    "final_data = []\n",
    "\n",
    "for country_name in df['Country Name'].unique():\n",
    "    df_pr = df[df['Country Name'] == country_name]\n",
    "    data = df_pr.values\n",
    "    gdp_change = [0]\n",
    "\n",
    "    for i in range(1,len(data)):\n",
    "        prev = data[i-1][3]\n",
    "        cur = data[i][3]\n",
    "        gdp_change.append(round(((cur - prev) / prev)*100,2))\n",
    "\n",
    "    df_pr = df_pr.assign(GDP = gdp_change)\n",
    "    final_data.append(df_pr)\n",
    "    \n",
    "df = pd.concat(final_data, axis = 0)\n",
    "\n",
    "df.head()"
   ]
  },
  {
   "cell_type": "markdown",
   "id": "3510900d-8c50-4600-a0cb-78127bcc1396",
   "metadata": {},
   "source": [
    "## GDP of Each Country"
   ]
  },
  {
   "cell_type": "code",
   "execution_count": 12,
   "id": "1077c1b1-4639-4820-8e3c-1229b98b3605",
   "metadata": {},
   "outputs": [],
   "source": [
    "os.mkdir('GDP Individual')\n",
    "\n",
    "for country_name in df['Country Name'].unique():\n",
    "    \n",
    "    df_pr = df[df['Country Name'] == country_name]\n",
    "    fig = px.line(df_pr, x = 'Year', y = 'Value', title = country_name + ' GDP Analysis')\n",
    "    pyo.plot(fig, filename = 'GDP Individual/' + country_name + '.html', auto_open = False)"
   ]
  },
  {
   "cell_type": "markdown",
   "id": "5cf6e4fc-602b-4512-93ac-545cadbbf1c1",
   "metadata": {},
   "source": [
    "## GDP of Each Country WRT 80T"
   ]
  },
  {
   "cell_type": "code",
   "execution_count": 14,
   "id": "89360a4d-b271-4761-96d2-8aaf5bfb76fb",
   "metadata": {},
   "outputs": [],
   "source": [
    "os.mkdir('GDP Individual WRT World')\n",
    "\n",
    "for country_name in df['Country Name'].unique():\n",
    "    \n",
    "    df_pr = df[df['Country Name'] == country_name]\n",
    "    fig = px.line(df_pr, x = 'Year', y = 'Value', title = country_name + ' GDP Analysis', range_y = [0,80000000000000])\n",
    "    pyo.plot(fig, filename = 'GDP Individual WRT World/' + country_name + '.html', auto_open = False)"
   ]
  },
  {
   "cell_type": "markdown",
   "id": "6d7e0af7-0f00-4930-bb05-7c72337011b9",
   "metadata": {},
   "source": [
    "## GDP of all Countries"
   ]
  },
  {
   "cell_type": "code",
   "execution_count": 16,
   "id": "871df755-635f-4b49-99de-e97fe2074d6d",
   "metadata": {},
   "outputs": [
    {
     "data": {
      "text/plain": [
       "'Countries GDP.html'"
      ]
     },
     "execution_count": 16,
     "metadata": {},
     "output_type": "execute_result"
    }
   ],
   "source": [
    "fig = px.line(df, x = 'Year', y = 'Value', title = 'GDP Analysis of All Countries', color = 'Country Name')\n",
    "\n",
    "pyo.plot(fig, filename = 'Countries GDP.html')"
   ]
  },
  {
   "cell_type": "markdown",
   "id": "b942061e-e62d-4b77-8ad5-37ba6c26ea39",
   "metadata": {},
   "source": [
    "## GDP Comparison between India & China"
   ]
  },
  {
   "cell_type": "code",
   "execution_count": 17,
   "id": "ef87abdf-343c-4e12-a74a-8931af800e0f",
   "metadata": {},
   "outputs": [],
   "source": [
    "c1 = df[df['Country Name'] == 'China']\n",
    "c2 = df[df['Country Name'] == 'India']"
   ]
  },
  {
   "cell_type": "code",
   "execution_count": 18,
   "id": "788d1ab5-3a73-4899-967b-9c9e85b0273e",
   "metadata": {},
   "outputs": [
    {
     "data": {
      "text/html": [
       "<div>\n",
       "<style scoped>\n",
       "    .dataframe tbody tr th:only-of-type {\n",
       "        vertical-align: middle;\n",
       "    }\n",
       "\n",
       "    .dataframe tbody tr th {\n",
       "        vertical-align: top;\n",
       "    }\n",
       "\n",
       "    .dataframe thead th {\n",
       "        text-align: right;\n",
       "    }\n",
       "</style>\n",
       "<table border=\"1\" class=\"dataframe\">\n",
       "  <thead>\n",
       "    <tr style=\"text-align: right;\">\n",
       "      <th></th>\n",
       "      <th>Country Name</th>\n",
       "      <th>Country Code</th>\n",
       "      <th>Year</th>\n",
       "      <th>Value</th>\n",
       "      <th>GDP</th>\n",
       "    </tr>\n",
       "  </thead>\n",
       "  <tbody>\n",
       "    <tr>\n",
       "      <th>6074</th>\n",
       "      <td>India</td>\n",
       "      <td>IND</td>\n",
       "      <td>1960</td>\n",
       "      <td>3.653593e+10</td>\n",
       "      <td>0.00</td>\n",
       "    </tr>\n",
       "    <tr>\n",
       "      <th>6075</th>\n",
       "      <td>India</td>\n",
       "      <td>IND</td>\n",
       "      <td>1961</td>\n",
       "      <td>3.870910e+10</td>\n",
       "      <td>5.95</td>\n",
       "    </tr>\n",
       "    <tr>\n",
       "      <th>6076</th>\n",
       "      <td>India</td>\n",
       "      <td>IND</td>\n",
       "      <td>1962</td>\n",
       "      <td>4.159907e+10</td>\n",
       "      <td>7.47</td>\n",
       "    </tr>\n",
       "    <tr>\n",
       "      <th>6077</th>\n",
       "      <td>India</td>\n",
       "      <td>IND</td>\n",
       "      <td>1963</td>\n",
       "      <td>4.777600e+10</td>\n",
       "      <td>14.85</td>\n",
       "    </tr>\n",
       "    <tr>\n",
       "      <th>6078</th>\n",
       "      <td>India</td>\n",
       "      <td>IND</td>\n",
       "      <td>1964</td>\n",
       "      <td>5.572687e+10</td>\n",
       "      <td>16.64</td>\n",
       "    </tr>\n",
       "  </tbody>\n",
       "</table>\n",
       "</div>"
      ],
      "text/plain": [
       "     Country Name Country Code  Year         Value    GDP\n",
       "6074        India          IND  1960  3.653593e+10   0.00\n",
       "6075        India          IND  1961  3.870910e+10   5.95\n",
       "6076        India          IND  1962  4.159907e+10   7.47\n",
       "6077        India          IND  1963  4.777600e+10  14.85\n",
       "6078        India          IND  1964  5.572687e+10  16.64"
      ]
     },
     "execution_count": 18,
     "metadata": {},
     "output_type": "execute_result"
    }
   ],
   "source": [
    "c2.head()"
   ]
  },
  {
   "cell_type": "code",
   "execution_count": 20,
   "id": "06b6fd9f-eabe-4469-afb1-7c37dab8bb00",
   "metadata": {},
   "outputs": [
    {
     "data": {
      "text/html": [
       "<div>\n",
       "<style scoped>\n",
       "    .dataframe tbody tr th:only-of-type {\n",
       "        vertical-align: middle;\n",
       "    }\n",
       "\n",
       "    .dataframe tbody tr th {\n",
       "        vertical-align: top;\n",
       "    }\n",
       "\n",
       "    .dataframe thead th {\n",
       "        text-align: right;\n",
       "    }\n",
       "</style>\n",
       "<table border=\"1\" class=\"dataframe\">\n",
       "  <thead>\n",
       "    <tr style=\"text-align: right;\">\n",
       "      <th></th>\n",
       "      <th>Country Name</th>\n",
       "      <th>Country Code</th>\n",
       "      <th>Year</th>\n",
       "      <th>Value</th>\n",
       "      <th>GDP</th>\n",
       "    </tr>\n",
       "  </thead>\n",
       "  <tbody>\n",
       "    <tr>\n",
       "      <th>4046</th>\n",
       "      <td>China</td>\n",
       "      <td>CHN</td>\n",
       "      <td>1960</td>\n",
       "      <td>5.971647e+10</td>\n",
       "      <td>0.00</td>\n",
       "    </tr>\n",
       "    <tr>\n",
       "      <th>4047</th>\n",
       "      <td>China</td>\n",
       "      <td>CHN</td>\n",
       "      <td>1961</td>\n",
       "      <td>5.005687e+10</td>\n",
       "      <td>-16.18</td>\n",
       "    </tr>\n",
       "    <tr>\n",
       "      <th>4048</th>\n",
       "      <td>China</td>\n",
       "      <td>CHN</td>\n",
       "      <td>1962</td>\n",
       "      <td>4.720936e+10</td>\n",
       "      <td>-5.69</td>\n",
       "    </tr>\n",
       "    <tr>\n",
       "      <th>4049</th>\n",
       "      <td>China</td>\n",
       "      <td>CHN</td>\n",
       "      <td>1963</td>\n",
       "      <td>5.070680e+10</td>\n",
       "      <td>7.41</td>\n",
       "    </tr>\n",
       "    <tr>\n",
       "      <th>4050</th>\n",
       "      <td>China</td>\n",
       "      <td>CHN</td>\n",
       "      <td>1964</td>\n",
       "      <td>5.970834e+10</td>\n",
       "      <td>17.75</td>\n",
       "    </tr>\n",
       "    <tr>\n",
       "      <th>...</th>\n",
       "      <td>...</td>\n",
       "      <td>...</td>\n",
       "      <td>...</td>\n",
       "      <td>...</td>\n",
       "      <td>...</td>\n",
       "    </tr>\n",
       "    <tr>\n",
       "      <th>6126</th>\n",
       "      <td>India</td>\n",
       "      <td>IND</td>\n",
       "      <td>2012</td>\n",
       "      <td>1.827638e+12</td>\n",
       "      <td>0.25</td>\n",
       "    </tr>\n",
       "    <tr>\n",
       "      <th>6127</th>\n",
       "      <td>India</td>\n",
       "      <td>IND</td>\n",
       "      <td>2013</td>\n",
       "      <td>1.856722e+12</td>\n",
       "      <td>1.59</td>\n",
       "    </tr>\n",
       "    <tr>\n",
       "      <th>6128</th>\n",
       "      <td>India</td>\n",
       "      <td>IND</td>\n",
       "      <td>2014</td>\n",
       "      <td>2.035393e+12</td>\n",
       "      <td>9.62</td>\n",
       "    </tr>\n",
       "    <tr>\n",
       "      <th>6129</th>\n",
       "      <td>India</td>\n",
       "      <td>IND</td>\n",
       "      <td>2015</td>\n",
       "      <td>2.089865e+12</td>\n",
       "      <td>2.68</td>\n",
       "    </tr>\n",
       "    <tr>\n",
       "      <th>6130</th>\n",
       "      <td>India</td>\n",
       "      <td>IND</td>\n",
       "      <td>2016</td>\n",
       "      <td>2.263792e+12</td>\n",
       "      <td>8.32</td>\n",
       "    </tr>\n",
       "  </tbody>\n",
       "</table>\n",
       "<p>114 rows × 5 columns</p>\n",
       "</div>"
      ],
      "text/plain": [
       "     Country Name Country Code  Year         Value    GDP\n",
       "4046        China          CHN  1960  5.971647e+10   0.00\n",
       "4047        China          CHN  1961  5.005687e+10 -16.18\n",
       "4048        China          CHN  1962  4.720936e+10  -5.69\n",
       "4049        China          CHN  1963  5.070680e+10   7.41\n",
       "4050        China          CHN  1964  5.970834e+10  17.75\n",
       "...           ...          ...   ...           ...    ...\n",
       "6126        India          IND  2012  1.827638e+12   0.25\n",
       "6127        India          IND  2013  1.856722e+12   1.59\n",
       "6128        India          IND  2014  2.035393e+12   9.62\n",
       "6129        India          IND  2015  2.089865e+12   2.68\n",
       "6130        India          IND  2016  2.263792e+12   8.32\n",
       "\n",
       "[114 rows x 5 columns]"
      ]
     },
     "execution_count": 20,
     "metadata": {},
     "output_type": "execute_result"
    }
   ],
   "source": [
    "df_pr = pd.concat([c1,c2],axis = 0)\n",
    "df_pr"
   ]
  },
  {
   "cell_type": "code",
   "execution_count": 22,
   "id": "2fd17e97-ae0e-4866-ae99-dc8df7ce4e73",
   "metadata": {},
   "outputs": [
    {
     "data": {
      "text/plain": [
       "'INDvsCHN.html'"
      ]
     },
     "execution_count": 22,
     "metadata": {},
     "output_type": "execute_result"
    }
   ],
   "source": [
    "fig = px.line(df_pr, x = 'Year', y = 'Value', title = 'GDP Comparison | India & China', color = 'Country Name')\n",
    "\n",
    "pyo.plot(fig, filename = 'INDvsCHN.html')"
   ]
  },
  {
   "cell_type": "code",
   "execution_count": 24,
   "id": "57fc4011-98e4-441a-9860-bb5bcbb8d26c",
   "metadata": {},
   "outputs": [
    {
     "data": {
      "text/plain": [
       "'WLD CHN.html'"
      ]
     },
     "execution_count": 24,
     "metadata": {},
     "output_type": "execute_result"
    }
   ],
   "source": [
    "c1 = df[df['Country Name'] == 'China']\n",
    "c2 = df[df['Country Name'] == 'World']\n",
    "\n",
    "df_pr = pd.concat([c1,c2],axis = 0)\n",
    "\n",
    "fig = px.line(df_pr, x = 'Year', y = 'Value', title = 'GDP Comparison | World & China', color = 'Country Name')\n",
    "\n",
    "pyo.plot(fig, filename = 'WLD CHN.html')"
   ]
  },
  {
   "cell_type": "markdown",
   "id": "aa0ccbbd-cd98-4efc-8896-46106ac29ad7",
   "metadata": {},
   "source": [
    "## GDP Comparison between Specific Countries"
   ]
  },
  {
   "cell_type": "code",
   "execution_count": 25,
   "id": "d77697de-73d6-4161-8aab-eade9283fbd0",
   "metadata": {},
   "outputs": [],
   "source": [
    "lst = ['IND','ITA', 'USA', 'CHN']\n",
    "\n",
    "dfs = []\n",
    "for i in lst:\n",
    "    dfs.append(df[df['Country Code'] == i])\n",
    "    \n",
    "    df_pr = pd.concat(dfs, axis = 0)"
   ]
  },
  {
   "cell_type": "code",
   "execution_count": 27,
   "id": "3e1b56a1-28e0-4518-a764-8df1749919c1",
   "metadata": {},
   "outputs": [
    {
     "data": {
      "text/plain": [
       "'IND,ITA,USA,CHN.html'"
      ]
     },
     "execution_count": 27,
     "metadata": {},
     "output_type": "execute_result"
    }
   ],
   "source": [
    "fig = px.line(df_pr, x = 'Year', y = 'Value', title = 'GDP Comparison - ' + '|'.join(lst), color = 'Country Name')\n",
    "\n",
    "pyo.plot(fig, filename = ','.join(lst) + '.html')"
   ]
  },
  {
   "cell_type": "code",
   "execution_count": 28,
   "id": "369fce54-8a93-4c44-b6bc-bb5ab1f07dda",
   "metadata": {},
   "outputs": [],
   "source": [
    "def comare_gdp(lst, isOpen):\n",
    "    \n",
    "    dfs = []\n",
    "    for i in lst:\n",
    "        dfs.append(df[df['Country Code'] == i])\n",
    "\n",
    "        df_pr = pd.concat(dfs, axis = 0)\n",
    "        \n",
    "    fig = px.line(df_pr, x = 'Year', y = 'Value', title = 'GDP Comparison - ' + '|'.join(lst), \n",
    "                  color = 'Country Name')\n",
    "    pyo.plot(fig, filename = '|'.join(lst) + '.html', auto_open = isOpen)\n",
    "    "
   ]
  },
  {
   "cell_type": "markdown",
   "id": "ceda67c7-6d14-41ed-8f70-bbd26b168b65",
   "metadata": {},
   "source": [
    "## GDP Growth Comparision of All the Countries"
   ]
  },
  {
   "cell_type": "code",
   "execution_count": 36,
   "id": "7b9d8168-6923-4f55-ab6a-a035bd8d888f",
   "metadata": {},
   "outputs": [
    {
     "data": {
      "text/plain": [
       "'GDP Growth.html'"
      ]
     },
     "execution_count": 36,
     "metadata": {},
     "output_type": "execute_result"
    }
   ],
   "source": [
    "fig = px.line(df, x = 'Year', y = 'GDP', title = 'GDP Comparison', color = 'Country Name')\n",
    "pyo.plot(fig, filename = 'GDP Growth.html', auto_open = True)"
   ]
  },
  {
   "cell_type": "markdown",
   "id": "56121639-c3ff-4bc8-97e0-c225a4dc8847",
   "metadata": {},
   "source": [
    "## GDP Growth of All Countries Graph Individual"
   ]
  },
  {
   "cell_type": "code",
   "execution_count": 37,
   "id": "c6a36212-2fc8-406a-9df4-4af9208ed72b",
   "metadata": {},
   "outputs": [],
   "source": [
    "os.mkdir('GDP Growth Individual')\n",
    "\n",
    "for country_name in df['Country Code'].unique():\n",
    "\n",
    "    df_pr = df[df['Country Code'] == country_name]\n",
    "\n",
    "    fig = px.line(df_pr, x = 'Year', y = 'GDP', title = country_name)\n",
    "    pyo.plot(fig, filename = 'GDP Growth Individual/' + country_name + '.html', auto_open = False)"
   ]
  },
  {
   "cell_type": "markdown",
   "id": "cac5a64a-b65a-4920-9359-f18f38a9a89f",
   "metadata": {},
   "source": [
    "## GDP Growth between 1960 - 2016"
   ]
  },
  {
   "cell_type": "code",
   "execution_count": 38,
   "id": "81a19c9e-a72c-4e9f-a80c-432676084b82",
   "metadata": {},
   "outputs": [],
   "source": [
    "dfs = []\n",
    "\n",
    "for country_name in df['Country Name'].unique():\n",
    "    df_pr = df[df['Country Name'] == country_name]\n",
    "    \n",
    "    if (len(df_pr) == 57):\n",
    "        dfs.append(df_pr)\n",
    "        \n",
    "df_pr = pd.concat(dfs, axis = 0)"
   ]
  },
  {
   "cell_type": "code",
   "execution_count": 39,
   "id": "4eb0b947-3894-418c-9433-fbf08a44d0a7",
   "metadata": {},
   "outputs": [
    {
     "data": {
      "text/html": [
       "<div>\n",
       "<style scoped>\n",
       "    .dataframe tbody tr th:only-of-type {\n",
       "        vertical-align: middle;\n",
       "    }\n",
       "\n",
       "    .dataframe tbody tr th {\n",
       "        vertical-align: top;\n",
       "    }\n",
       "\n",
       "    .dataframe thead th {\n",
       "        text-align: right;\n",
       "    }\n",
       "</style>\n",
       "<table border=\"1\" class=\"dataframe\">\n",
       "  <thead>\n",
       "    <tr style=\"text-align: right;\">\n",
       "      <th></th>\n",
       "      <th>Country Name</th>\n",
       "      <th>Country Code</th>\n",
       "      <th>Year</th>\n",
       "      <th>Value</th>\n",
       "      <th>GDP</th>\n",
       "    </tr>\n",
       "  </thead>\n",
       "  <tbody>\n",
       "    <tr>\n",
       "      <th>49</th>\n",
       "      <td>Caribbean small states</td>\n",
       "      <td>CSS</td>\n",
       "      <td>1960</td>\n",
       "      <td>2.004785e+09</td>\n",
       "      <td>0.00</td>\n",
       "    </tr>\n",
       "    <tr>\n",
       "      <th>50</th>\n",
       "      <td>Caribbean small states</td>\n",
       "      <td>CSS</td>\n",
       "      <td>1961</td>\n",
       "      <td>2.169733e+09</td>\n",
       "      <td>8.23</td>\n",
       "    </tr>\n",
       "    <tr>\n",
       "      <th>51</th>\n",
       "      <td>Caribbean small states</td>\n",
       "      <td>CSS</td>\n",
       "      <td>1962</td>\n",
       "      <td>2.289495e+09</td>\n",
       "      <td>5.52</td>\n",
       "    </tr>\n",
       "    <tr>\n",
       "      <th>52</th>\n",
       "      <td>Caribbean small states</td>\n",
       "      <td>CSS</td>\n",
       "      <td>1963</td>\n",
       "      <td>2.431592e+09</td>\n",
       "      <td>6.21</td>\n",
       "    </tr>\n",
       "    <tr>\n",
       "      <th>53</th>\n",
       "      <td>Caribbean small states</td>\n",
       "      <td>CSS</td>\n",
       "      <td>1964</td>\n",
       "      <td>2.626896e+09</td>\n",
       "      <td>8.03</td>\n",
       "    </tr>\n",
       "    <tr>\n",
       "      <th>...</th>\n",
       "      <td>...</td>\n",
       "      <td>...</td>\n",
       "      <td>...</td>\n",
       "      <td>...</td>\n",
       "      <td>...</td>\n",
       "    </tr>\n",
       "    <tr>\n",
       "      <th>11502</th>\n",
       "      <td>Zimbabwe</td>\n",
       "      <td>ZWE</td>\n",
       "      <td>2012</td>\n",
       "      <td>1.424249e+10</td>\n",
       "      <td>17.72</td>\n",
       "    </tr>\n",
       "    <tr>\n",
       "      <th>11503</th>\n",
       "      <td>Zimbabwe</td>\n",
       "      <td>ZWE</td>\n",
       "      <td>2013</td>\n",
       "      <td>1.545177e+10</td>\n",
       "      <td>8.49</td>\n",
       "    </tr>\n",
       "    <tr>\n",
       "      <th>11504</th>\n",
       "      <td>Zimbabwe</td>\n",
       "      <td>ZWE</td>\n",
       "      <td>2014</td>\n",
       "      <td>1.589105e+10</td>\n",
       "      <td>2.84</td>\n",
       "    </tr>\n",
       "    <tr>\n",
       "      <th>11505</th>\n",
       "      <td>Zimbabwe</td>\n",
       "      <td>ZWE</td>\n",
       "      <td>2015</td>\n",
       "      <td>1.630467e+10</td>\n",
       "      <td>2.60</td>\n",
       "    </tr>\n",
       "    <tr>\n",
       "      <th>11506</th>\n",
       "      <td>Zimbabwe</td>\n",
       "      <td>ZWE</td>\n",
       "      <td>2016</td>\n",
       "      <td>1.661996e+10</td>\n",
       "      <td>1.93</td>\n",
       "    </tr>\n",
       "  </tbody>\n",
       "</table>\n",
       "<p>6840 rows × 5 columns</p>\n",
       "</div>"
      ],
      "text/plain": [
       "                 Country Name Country Code  Year         Value    GDP\n",
       "49     Caribbean small states          CSS  1960  2.004785e+09   0.00\n",
       "50     Caribbean small states          CSS  1961  2.169733e+09   8.23\n",
       "51     Caribbean small states          CSS  1962  2.289495e+09   5.52\n",
       "52     Caribbean small states          CSS  1963  2.431592e+09   6.21\n",
       "53     Caribbean small states          CSS  1964  2.626896e+09   8.03\n",
       "...                       ...          ...   ...           ...    ...\n",
       "11502                Zimbabwe          ZWE  2012  1.424249e+10  17.72\n",
       "11503                Zimbabwe          ZWE  2013  1.545177e+10   8.49\n",
       "11504                Zimbabwe          ZWE  2014  1.589105e+10   2.84\n",
       "11505                Zimbabwe          ZWE  2015  1.630467e+10   2.60\n",
       "11506                Zimbabwe          ZWE  2016  1.661996e+10   1.93\n",
       "\n",
       "[6840 rows x 5 columns]"
      ]
     },
     "execution_count": 39,
     "metadata": {},
     "output_type": "execute_result"
    }
   ],
   "source": [
    "df_pr"
   ]
  },
  {
   "cell_type": "code",
   "execution_count": 40,
   "id": "9e82803a-78c2-4025-9c86-c48abc0b186f",
   "metadata": {},
   "outputs": [
    {
     "data": {
      "text/plain": [
       "'GDP Growth.html'"
      ]
     },
     "execution_count": 40,
     "metadata": {},
     "output_type": "execute_result"
    }
   ],
   "source": [
    "fig = px.line(df_pr, x = 'Year', y = 'GDP', title = 'GDP Growth', color = 'Country Name')\n",
    "\n",
    "pyo.plot(fig, filename = 'GDP Growth.html', auto_open = True)"
   ]
  },
  {
   "cell_type": "code",
   "execution_count": null,
   "id": "036c5498-44a5-4482-a664-a876d4d22e0b",
   "metadata": {},
   "outputs": [],
   "source": []
  }
 ],
 "metadata": {
  "kernelspec": {
   "display_name": "Python 3 (ipykernel)",
   "language": "python",
   "name": "python3"
  },
  "language_info": {
   "codemirror_mode": {
    "name": "ipython",
    "version": 3
   },
   "file_extension": ".py",
   "mimetype": "text/x-python",
   "name": "python",
   "nbconvert_exporter": "python",
   "pygments_lexer": "ipython3",
   "version": "3.11.4"
  }
 },
 "nbformat": 4,
 "nbformat_minor": 5
}
